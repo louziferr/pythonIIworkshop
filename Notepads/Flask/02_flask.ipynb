{
 "cells": [
  {
   "cell_type": "markdown",
   "metadata": {},
   "source": [
    "## Notepad: Flask 2\n",
    "\n",
    "### Using Jinja templates\n",
    "\n",
    "```python\n",
    "pip install -U Jinja2\n",
    "```\n",
    "\n",
    "Instead of using duplicate code for each html-subpage, we can create a file called `base.html` which will be used as the base for new html-files.\n",
    "\n",
    "Create a file `templates/base.html`"
   ]
  },
  {
   "cell_type": "code",
   "execution_count": null,
   "metadata": {
    "vscode": {
     "languageId": "html"
    }
   },
   "outputs": [],
   "source": [
    "<!doctype html>\n",
    "<html lang=\"en\">\n",
    "\n",
    "  <head>\n",
    "    <!-- Required meta tags -->\n",
    "    <meta charset=\"utf-8\">\n",
    "    <meta name=\"viewport\" content=\"width=device-width, initial-scale=1, shrink-to-fit=no\">\n",
    "\n",
    "    <!-- Bootstrap CSS -->\n",
    "    <link rel=\"stylesheet\" href=\"https://stackpath.bootstrapcdn.com/bootstrap/4.3.1/css/bootstrap.min.css\" integrity=\"sha384-ggOyR0iXCbMQv3Xipma34MD+dH/1fQ784/j6cY/iJTQUOhcWr7x9JvoRxT2MZw1T\" crossorigin=\"anonymous\">\n",
    "\n",
    "    <title>{% block title %} {% endblock %}</title>\n",
    "  </head>\n",
    "\n",
    "  <body>\n",
    "\n",
    "    <!-- Navigation bar -->\n",
    "    <nav class=\"navbar navbar-expand-md navbar-light bg-light\">\n",
    "        <a class=\"navbar-brand\" href=\"{{ url_for('index') }}\">Start</a>\n",
    "        <a class=\"navbar-brand\" href=\"{{ url_for('questions') }}\">Questions</a>\n",
    "        <a class=\"navbar-brand\" href=\"{{ url_for('results') }}\">Results</a>\n",
    "    </nav>\n",
    "\n",
    "    <!-- Content Block -->\n",
    "    <div class=\"container\">\n",
    "        {% block content %} {% endblock %}\n",
    "    </div>\n",
    "</body>\n",
    "</html>"
   ]
  },
  {
   "cell_type": "markdown",
   "metadata": {},
   "source": [
    "## Jinja\n",
    "\n",
    "In the above example you see a few use-cases of the jinja-engine.\n",
    "\n",
    "```python\n",
    "{% block title %}{% endblock %}\n",
    "```\n",
    "- a block used as a placeholder for title. Can be used later to assign a new title to each webpage.\n",
    "\n",
    "```python\n",
    "{{ url_for('index') }}\n",
    "```\n",
    "- a function call that returns the url for the webpage `index`.\n",
    "\n",
    "```python\n",
    "{% block content %}{% endblock %}\n",
    "```\n",
    "- another block as a placeholder for content."
   ]
  },
  {
   "cell_type": "markdown",
   "metadata": {},
   "source": [
    "Replace the content of `index.html` with the following:"
   ]
  },
  {
   "cell_type": "code",
   "execution_count": null,
   "metadata": {
    "vscode": {
     "languageId": "html"
    }
   },
   "outputs": [],
   "source": [
    "{% extends 'base.html' %}\n",
    "\n",
    "{% block content %}\n",
    "<h2>Welcome to this Questionaire.</h2>\n",
    "<p>We are very pleased to have you here.</p>\n",
    "{% endblock %}"
   ]
  },
  {
   "cell_type": "markdown",
   "metadata": {},
   "source": [
    "The `extends` tag is used to inherit from the file `base.html`.\n",
    "\n",
    "The `block` tag is used to mark the start and end of a named block. This will be used to replace the `block` tags in the template."
   ]
  },
  {
   "cell_type": "markdown",
   "metadata": {},
   "source": [
    "## Answers\n",
    "\n",
    "Create a file  `static/answers.csv` and add the following lines:"
   ]
  },
  {
   "cell_type": "code",
   "execution_count": null,
   "metadata": {
    "vscode": {
     "languageId": "html"
    }
   },
   "outputs": [],
   "source": [
    "Ernst,Ahrens,25,Computer Science\n",
    "Lisa,Botzkow,23,Architecture"
   ]
  },
  {
   "cell_type": "markdown",
   "metadata": {},
   "source": [
    "We now want to read the data from the file and show it on our results-page.\n",
    "\n",
    "Change `app.py` to the following:"
   ]
  },
  {
   "cell_type": "code",
   "execution_count": null,
   "metadata": {},
   "outputs": [],
   "source": [
    "from flask import Flask, render_template\n",
    "\n",
    "# create app\n",
    "app = Flask(__name__)\n",
    "\n",
    "# route for start page\n",
    "@app.route(\"/\")\n",
    "def index():\n",
    "    return render_template('index.html')\n",
    "\n",
    "# open file with data\n",
    "file = open('static/answers.csv')\n",
    "# read file\n",
    "lines = file.readlines()\n",
    "# reformat answers and save in list\n",
    "answers= [ entry.strip(\"\\n\").split(\",\") for entry in lines ]\n",
    "# close file\n",
    "file.close()\n",
    "\n",
    "# route for showing results\n",
    "@app.route(\"/results\")\n",
    "def results():\n",
    "    return render_template('results.html', answers=answers)\n",
    "\n",
    "# route for retrieving new data\n",
    "@app.route(\"/questions\")\n",
    "def questions():\n",
    "    return render_template('questions.html')"
   ]
  },
  {
   "cell_type": "markdown",
   "metadata": {},
   "source": [
    "Create two new html-files in your templates-folder:"
   ]
  },
  {
   "cell_type": "code",
   "execution_count": null,
   "metadata": {
    "vscode": {
     "languageId": "html"
    }
   },
   "outputs": [],
   "source": [
    "<!-- results.html -->\n",
    "\n",
    "{% extends 'base.html' %}\n",
    "\n",
    "{% block title %}\n",
    "Data Visualization\n",
    "{% endblock %}\n",
    "\n",
    "{% block content %}\n",
    "<table class=\"table\">\n",
    "    <tr>\n",
    "        <th scope=\"col\">First Name</th>\n",
    "        <th scope=\"col\">Second Name</th>\n",
    "        <th scope=\"col\">Age</th>\n",
    "        <th scope=\"col\">Study Program</th>\n",
    "    </tr>\n",
    "    {% for answer in answers %}\n",
    "    <tr>\n",
    "        {% for entry in answer %}\n",
    "            <th scope=\"col\">{{ entry }}</th>\n",
    "        {% endfor %}\n",
    "    </tr>\n",
    "    {% endfor %}\n",
    "</table>\n",
    "{% endblock %}"
   ]
  },
  {
   "cell_type": "code",
   "execution_count": null,
   "metadata": {
    "vscode": {
     "languageId": "html"
    }
   },
   "outputs": [],
   "source": [
    "<!-- questions.html -->"
   ]
  }
 ],
 "metadata": {
  "kernelspec": {
   "display_name": "electroacoustics",
   "language": "python",
   "name": "python3"
  },
  "language_info": {
   "codemirror_mode": {
    "name": "ipython",
    "version": 3
   },
   "file_extension": ".py",
   "mimetype": "text/x-python",
   "name": "python",
   "nbconvert_exporter": "python",
   "pygments_lexer": "ipython3",
   "version": "3.9.17"
  },
  "orig_nbformat": 4
 },
 "nbformat": 4,
 "nbformat_minor": 2
}
