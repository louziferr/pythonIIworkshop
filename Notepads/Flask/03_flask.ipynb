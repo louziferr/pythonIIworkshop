{
 "cells": [
  {
   "cell_type": "markdown",
   "metadata": {},
   "source": [
    "### Retrieving data\n",
    "\n",
    "We now want to be able to add new data via the website. For this, change `questions.html` to the following:"
   ]
  },
  {
   "cell_type": "code",
   "execution_count": null,
   "metadata": {
    "vscode": {
     "languageId": "html"
    }
   },
   "outputs": [],
   "source": [
    "{% extends 'base.html' %}\n",
    "\n",
    "{% block title %}\n",
    "Questionaire\n",
    "{% endblock %}\n",
    "\n",
    "{% block content %}\n",
    "    <!-- Form --> \n",
    "    <form method=\"post\">\n",
    "\n",
    "        <!-- First Name -->\n",
    "        <label>What is your first name?</label><br>\n",
    "        <input type=\"text\" name=\"first_name\"></input><br>\n",
    "\n",
    "        <!-- Second Name -->\n",
    "        <label>What is your second name?</label><br>\n",
    "        <input type=\"text\" name=\"second_name\"></input><br>\n",
    "\n",
    "        <!-- Age -->\n",
    "        <label>What is your age?</label><br>\n",
    "        <input type=\"text\" name=\"age\"></input><br>\n",
    "\n",
    "        <!-- Study Programm -->\n",
    "        <label>What is your study programm?</label><br>\n",
    "        <input type=\"text\" name=\"study_programm\"></input><br>\n",
    "\n",
    "        <!-- Submit Button -->\n",
    "        <button type=\"submit\">Submit</button>\n",
    "    </form>\n",
    "{% endblock %}"
   ]
  },
  {
   "cell_type": "markdown",
   "metadata": {},
   "source": [
    "### Saving data\n",
    "\n",
    "With the created form, data is being send to our server. \n",
    "\n",
    "We want to retrieve it and process it in our file `app.py`:"
   ]
  },
  {
   "cell_type": "code",
   "execution_count": 5,
   "metadata": {},
   "outputs": [
    {
     "name": "stdout",
     "output_type": "stream",
     "text": [
      "{'0': [{'username': 'lisa', 'age': 23, 'messages': ['hello, my friend.', 'Yes, I agree.']}], '1': [{'username': 'h4cker', 'age': 25, 'messages': [\"I don't think so.\", 'Maybeee.']}], '2': [{'username': 'fred', 'age': 19, 'messages': ['Of course!', 'okay', 'why not!']}]}\n"
     ]
    }
   ],
   "source": [
    "from flask import Flask, render_template, request, redirect, url_for\n",
    "\n",
    "# create app\n",
    "app = Flask(__name__)\n",
    "\n",
    "# route for start page\n",
    "@app.route(\"/\")\n",
    "def index():\n",
    "    return render_template('index.html')\n",
    "\n",
    "# open file with data\n",
    "file = open('static/answers.csv')\n",
    "# read file\n",
    "lines = file.readlines()\n",
    "# reformat answers and save in list\n",
    "answers= [ entry.strip(\"\\n\").split(\",\") for entry in lines ]\n",
    "# close file\n",
    "file.close()\n",
    "\n",
    "# route for showing results\n",
    "@app.route(\"/results\")\n",
    "def results():\n",
    "    return render_template('results.html', answers=answers)\n",
    "\n",
    "# route for retrieving new data\n",
    "@app.route(\"/questions\", methods=('GET', 'POST'))\n",
    "def questions():\n",
    "    if request.method == 'POST':\n",
    "        # save answers\n",
    "        save_answer(request.form)\n",
    "        return redirect(url_for('results'))\n",
    "    return render_template('questions.html')\n",
    "\n",
    "\n",
    "# function to save answers from a form\n",
    "def save_answer(form):\n",
    "    # create list with answers\n",
    "    new_answer = [form[attribute] for attribute in form]\n",
    "\n",
    "    # write to file\n",
    "    with open('static/answers.csv', 'a') as f:\n",
    "        f.write(','.join(new_answer))\n",
    "        f.write('\\n')\n",
    "\n",
    "    # append to current answers\n",
    "    answers.append(new_answer)\n",
    "\n",
    "if __name__ == \"__main__\":\n",
    "    app.run()"
   ]
  },
  {
   "cell_type": "markdown",
   "metadata": {},
   "source": [
    "### Run your app!\n",
    "\n",
    "You should now be able to send new data to our server. The data will be saved in answers.csv and can be retrieved on the subpage /results."
   ]
  }
 ],
 "metadata": {
  "kernelspec": {
   "display_name": "flask",
   "language": "python",
   "name": "python3"
  },
  "language_info": {
   "codemirror_mode": {
    "name": "ipython",
    "version": 3
   },
   "file_extension": ".py",
   "mimetype": "text/x-python",
   "name": "python",
   "nbconvert_exporter": "python",
   "pygments_lexer": "ipython3",
   "version": "3.9.17"
  },
  "orig_nbformat": 4
 },
 "nbformat": 4,
 "nbformat_minor": 2
}
