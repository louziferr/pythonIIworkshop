{
 "cells": [
  {
   "cell_type": "markdown",
   "metadata": {},
   "source": [
    "## Classes\n",
    "\n",
    "Classes provide a means of bundling data and functionality together. Creating a new class creates a new type of object, allowing new instances of that type to be made. Each class instance can have attributes attached to it for maintaining its state. Class instances can also have methods (defined by its class) for modifying its state.\n",
    "\n",
    "The simplest form of class definition looks like this:\n",
    "\n",
    "```python\n",
    "class ClassName:\n",
    "    <statement-1>\n",
    "    .\n",
    "    .\n",
    "    .\n",
    "    <statement-N>\n",
    "```\n"
   ]
  },
  {
   "cell_type": "markdown",
   "metadata": {},
   "source": [
    "### Class Objects\n",
    "\n",
    "Class objects support two kinds of operations: attribute references and instantiation.\n",
    "\n",
    "Attribute references use the standard syntax used for all attribute references in Python: obj.name. Valid attribute names are all the names that were in the class’s namespace when the class object was created. So, if the class definition looked like this:"
   ]
  },
  {
   "cell_type": "code",
   "execution_count": 1,
   "metadata": {},
   "outputs": [],
   "source": [
    "## Defining a new class\n",
    "\n",
    "class MyClass:\n",
    "    \"\"\"A simple example class\"\"\"\n",
    "    i = 12345\n",
    "\n",
    "    def f(self):\n",
    "        return 'hello world'"
   ]
  },
  {
   "cell_type": "markdown",
   "metadata": {},
   "source": [
    "MyClass.i and MyClass.f are valid attribute references, returning an integer and a function object, respectively. Class attributes can also be assigned to, so you can change the value of MyClass.i by assignment."
   ]
  },
  {
   "cell_type": "code",
   "execution_count": 5,
   "metadata": {},
   "outputs": [
    {
     "data": {
      "text/plain": [
       "'hello world'"
      ]
     },
     "execution_count": 5,
     "metadata": {},
     "output_type": "execute_result"
    }
   ],
   "source": [
    "## Instantiation\n",
    "\n",
    "x = MyClass()"
   ]
  },
  {
   "cell_type": "markdown",
   "metadata": {},
   "source": [
    "## Instantiation\n",
    "\n",
    "The instantiation operation (“calling” a class object) creates an empty object. Many classes like to create objects with instances customized to a specific initial state. Therefore a class may define a special method named __init__(), like this:"
   ]
  },
  {
   "cell_type": "code",
   "execution_count": 12,
   "metadata": {},
   "outputs": [],
   "source": [
    "class MyClass:\n",
    "    def __init__(self, my_number):\n",
    "        self.data = []\n",
    "        self.number = my_number"
   ]
  },
  {
   "cell_type": "markdown",
   "metadata": {},
   "source": [
    "When a class defines an __init__() method, class instantiation automatically invokes __init__() for the newly created class instance. So in this example, a new, initialized instance can be obtained by:"
   ]
  },
  {
   "cell_type": "code",
   "execution_count": 15,
   "metadata": {},
   "outputs": [
    {
     "data": {
      "text/plain": [
       "23"
      ]
     },
     "execution_count": 15,
     "metadata": {},
     "output_type": "execute_result"
    }
   ],
   "source": [
    "x = MyClass(23)\n",
    "\n",
    "x.number"
   ]
  },
  {
   "cell_type": "markdown",
   "metadata": {},
   "source": [
    "Of course, the __init__() method may have arguments for greater flexibility. In that case, arguments given to the class instantiation operator are passed on to __init__(). For example,"
   ]
  },
  {
   "cell_type": "code",
   "execution_count": 1,
   "metadata": {},
   "outputs": [
    {
     "name": "stdout",
     "output_type": "stream",
     "text": [
      "3.0 -4.5\n"
     ]
    }
   ],
   "source": [
    "class Complex:\n",
    "    def __init__(self, realpart, imagpart):\n",
    "        self.r = realpart\n",
    "        self.i = imagpart\n",
    "\n",
    "x = Complex(3.0, -4.5)\n",
    "print(x.r, x.i)"
   ]
  },
  {
   "cell_type": "markdown",
   "metadata": {},
   "source": [
    "### Pretty Print\n",
    "\n",
    "When creating a new instance of a class and wanting to get information about it, the _ _ str _ _ function can be used. It makes it easier to print out information about the class instances."
   ]
  },
  {
   "cell_type": "code",
   "execution_count": 10,
   "metadata": {},
   "outputs": [
    {
     "name": "stdout",
     "output_type": "stream",
     "text": [
      "[ANIMAL] KIND: Dog NAME: Betty AGE: 3\n",
      "[ANIMAL] KIND: Cat NAME: Bernhard AGE: 5\n"
     ]
    }
   ],
   "source": [
    "class Animal:\n",
    "    def __init__(self, kind, name, age):\n",
    "        self.kind = kind\n",
    "        self.name = name\n",
    "        self.age = age\n",
    "\n",
    "    def __str__(self):\n",
    "        return \" \".join([\"[ANIMAL] KIND:\", self.kind, \"NAME:\", self.name, \"AGE:\", str(self.age)])\n",
    "    \n",
    "animal_one = Animal(\"Dog\", \"Betty\", 3)\n",
    "animal_two = Animal(\"Cat\", \"Bernhard\", 5)\n",
    "\n",
    "print(animal_one)\n",
    "print(animal_two)"
   ]
  },
  {
   "cell_type": "markdown",
   "metadata": {},
   "source": [
    "### A note on type annotations\n",
    "\n",
    "To make code more stable, type annotations can be used. With type hints, a programmer can see which types are expected for given variables."
   ]
  },
  {
   "cell_type": "code",
   "execution_count": 11,
   "metadata": {},
   "outputs": [],
   "source": [
    "# In the function greeting, the argument name is expected to be of type str and the return type str. Subtypes are accepted as arguments.\n",
    "def greeting(name: str) -> str:\n",
    "    return 'Hello ' + name"
   ]
  },
  {
   "cell_type": "code",
   "execution_count": 14,
   "metadata": {},
   "outputs": [
    {
     "data": {
      "text/plain": [
       "'Hello Lila'"
      ]
     },
     "execution_count": 14,
     "metadata": {},
     "output_type": "execute_result"
    }
   ],
   "source": [
    "greeting(\"Lila\")"
   ]
  },
  {
   "cell_type": "code",
   "execution_count": 15,
   "metadata": {},
   "outputs": [],
   "source": [
    "## a class with type hints\n",
    "class Animal:\n",
    "    def __init__(self, kind: str, name: str, age: int) -> None:\n",
    "        self.kind: str = kind\n",
    "        self.name: str = name\n",
    "        self.age: int = age\n",
    "\n",
    "animal_one = Animal(\"dog\", \"lila\", 24)"
   ]
  },
  {
   "cell_type": "markdown",
   "metadata": {},
   "source": [
    "## Public and Private\n",
    "\n",
    "Various object-oriented languages like C++, Java, Python control access modifications which are used to restrict access to the variables and methods of the class. Most programming languages has three forms of access modifiers, which are Public, Protected and Private in a class.\n",
    "Python uses ‘_’ symbol to determine the access control for a specific data member or a member function of a class. Access specifiers in Python have an important role to play in securing data from unauthorized access and in preventing it from being exploited.\n",
    "A Class in Python has three types of access modifiers:\n",
    "\n",
    "Public Access Modifier\n",
    "\n",
    "Protected Access Modifier\n",
    "\n",
    "Private Access Modifier"
   ]
  },
  {
   "cell_type": "markdown",
   "metadata": {},
   "source": [
    "## Public Access\n",
    "\n",
    "The members of a class that are declared public are easily accessible from any part of the program. All data members and member functions of a class are public by default. "
   ]
  },
  {
   "cell_type": "code",
   "execution_count": 1,
   "metadata": {},
   "outputs": [
    {
     "name": "stdout",
     "output_type": "stream",
     "text": [
      "Name:  R2J\n",
      "Age:  20\n"
     ]
    }
   ],
   "source": [
    "# program to illustrate public access modifier in a class\n",
    "class Geek:\n",
    "      \n",
    "     # constructor\n",
    "     def __init__(self, name, age):\n",
    "           \n",
    "           # public data members\n",
    "           self.geekName = name\n",
    "           self.geekAge = age\n",
    " \n",
    "     # public member function     \n",
    "     def displayAge(self):\n",
    "           \n",
    "           # accessing public data member\n",
    "           print(\"Age: \", self.geekAge)\n",
    " \n",
    "# creating object of the class\n",
    "obj = Geek(\"R2J\", 20)\n",
    " \n",
    "# accessing public data member\n",
    "print(\"Name: \", obj.geekName)\n",
    " \n",
    "# calling public member function of the class\n",
    "obj.displayAge()"
   ]
  },
  {
   "cell_type": "markdown",
   "metadata": {},
   "source": [
    "## Protected Access Modifier\n",
    "\n",
    "The members of a class that are declared protected are only accessible to a class derived from it. Data members of a class are declared protected by adding a single underscore ‘_’ symbol before the data member of that class. "
   ]
  },
  {
   "cell_type": "code",
   "execution_count": 2,
   "metadata": {},
   "outputs": [
    {
     "name": "stdout",
     "output_type": "stream",
     "text": [
      "Name:  R2J\n",
      "Roll:  1706256\n",
      "Branch:  Information Technology\n"
     ]
    }
   ],
   "source": [
    "# program to illustrate protected access modifier in a class\n",
    " \n",
    "# super class\n",
    "class Student:\n",
    "    \n",
    "     # protected data members\n",
    "     _name = None\n",
    "     _roll = None\n",
    "     _branch = None\n",
    "    \n",
    "     # constructor\n",
    "     def __init__(self, name, roll, branch): \n",
    "          self._name = name\n",
    "          self._roll = roll\n",
    "          self._branch = branch\n",
    "    \n",
    "     # protected member function  \n",
    "     def _displayRollAndBranch(self):\n",
    " \n",
    "          # accessing protected data members\n",
    "          print(\"Roll: \", self._roll)\n",
    "          print(\"Branch: \", self._branch)\n",
    " \n",
    " \n",
    "# derived class\n",
    "class Geek(Student):\n",
    " \n",
    "       # constructor\n",
    "       def __init__(self, name, roll, branch):\n",
    "                Student.__init__(self, name, roll, branch)\n",
    "         \n",
    "       # public member function\n",
    "       def displayDetails(self):\n",
    "                   \n",
    "                 # accessing protected data members of super class\n",
    "                print(\"Name: \", self._name)\n",
    "                   \n",
    "                 # accessing protected member functions of super class\n",
    "                self._displayRollAndBranch()\n",
    " \n",
    "# creating objects of the derived class       \n",
    "obj = Geek(\"R2J\", 1706256, \"Information Technology\")\n",
    " \n",
    "# calling public member functions of the class\n",
    "obj.displayDetails()"
   ]
  },
  {
   "cell_type": "markdown",
   "metadata": {},
   "source": [
    "In the above program, _name, _roll, and _branch are protected data members and _displayRollAndBranch() method is a protected method of the super class Student. The displayDetails() method is a public member function of the class Geek which is derived from the Student class, the displayDetails() method in Geek class accesses the protected data members of the Student class."
   ]
  },
  {
   "cell_type": "markdown",
   "metadata": {},
   "source": [
    "## Private Access Modifier\n",
    "\n",
    "The members of a class that are declared private are accessible within the class only, private access modifier is the most secure access modifier. Data members of a class are declared private by adding a double underscore ‘__’ symbol before the data member of that class."
   ]
  },
  {
   "cell_type": "code",
   "execution_count": null,
   "metadata": {},
   "outputs": [],
   "source": [
    "# program to illustrate private access modifier in a class\n",
    " \n",
    "class Geek:\n",
    "    \n",
    "     # private members\n",
    "     __name = None\n",
    "     __roll = None\n",
    "     __branch = None\n",
    " \n",
    "     # constructor\n",
    "     def __init__(self, name, roll, branch): \n",
    "          self.__name = name\n",
    "          self.__roll = roll\n",
    "          self.__branch = branch\n",
    " \n",
    "     # private member function \n",
    "     def __displayDetails(self):\n",
    "           \n",
    "           # accessing private data members\n",
    "           print(\"Name: \", self.__name)\n",
    "           print(\"Roll: \", self.__roll)\n",
    "           print(\"Branch: \", self.__branch)\n",
    "    \n",
    "     # public member function\n",
    "     def accessPrivateFunction(self):\n",
    "            \n",
    "           # accessing private member function\n",
    "           self.__displayDetails() \n",
    " \n",
    "# creating object   \n",
    "obj = Geek(\"R2J\", 1706256, \"Information Technology\")\n",
    " \n",
    "# calling public member function of the class\n",
    "obj.accessPrivateFunction()"
   ]
  }
 ],
 "metadata": {
  "kernelspec": {
   "display_name": "Python 3",
   "language": "python",
   "name": "python3"
  },
  "language_info": {
   "codemirror_mode": {
    "name": "ipython",
    "version": 3
   },
   "file_extension": ".py",
   "mimetype": "text/x-python",
   "name": "python",
   "nbconvert_exporter": "python",
   "pygments_lexer": "ipython3",
   "version": "3.9.18"
  },
  "orig_nbformat": 4
 },
 "nbformat": 4,
 "nbformat_minor": 2
}
