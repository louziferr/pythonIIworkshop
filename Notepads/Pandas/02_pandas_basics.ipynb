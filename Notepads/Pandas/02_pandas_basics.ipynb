{
 "cells": [
  {
   "cell_type": "markdown",
   "metadata": {},
   "source": [
    "### Requirements"
   ]
  },
  {
   "cell_type": "code",
   "execution_count": 2,
   "metadata": {},
   "outputs": [
    {
     "ename": "ModuleNotFoundError",
     "evalue": "No module named 'pandas'",
     "output_type": "error",
     "traceback": [
      "\u001b[0;31m---------------------------------------------------------------------------\u001b[0m",
      "\u001b[0;31mModuleNotFoundError\u001b[0m                       Traceback (most recent call last)",
      "\u001b[1;32m/Users/luzieahrens/MA_AKT/proScience/PythonII/WorkshopMaterial/Notepads/Pandas/09_pandas_basics.ipynb Cell 2\u001b[0m line \u001b[0;36m1\n\u001b[0;32m----> <a href='vscode-notebook-cell:/Users/luzieahrens/MA_AKT/proScience/PythonII/WorkshopMaterial/Notepads/Pandas/09_pandas_basics.ipynb#W1sZmlsZQ%3D%3D?line=0'>1</a>\u001b[0m \u001b[39mimport\u001b[39;00m \u001b[39mpandas\u001b[39;00m \u001b[39mas\u001b[39;00m \u001b[39mpd\u001b[39;00m\n\u001b[1;32m      <a href='vscode-notebook-cell:/Users/luzieahrens/MA_AKT/proScience/PythonII/WorkshopMaterial/Notepads/Pandas/09_pandas_basics.ipynb#W1sZmlsZQ%3D%3D?line=2'>3</a>\u001b[0m \u001b[39m# for plotting\u001b[39;00m\n\u001b[1;32m      <a href='vscode-notebook-cell:/Users/luzieahrens/MA_AKT/proScience/PythonII/WorkshopMaterial/Notepads/Pandas/09_pandas_basics.ipynb#W1sZmlsZQ%3D%3D?line=3'>4</a>\u001b[0m \u001b[39mimport\u001b[39;00m \u001b[39mmatplotlib\u001b[39;00m\u001b[39m.\u001b[39;00m\u001b[39mpyplot\u001b[39;00m \u001b[39mas\u001b[39;00m \u001b[39mplt\u001b[39;00m\n",
      "\u001b[0;31mModuleNotFoundError\u001b[0m: No module named 'pandas'"
     ]
    }
   ],
   "source": [
    "import pandas as pd\n",
    "\n",
    "# for plotting\n",
    "import matplotlib.pyplot as plt"
   ]
  },
  {
   "cell_type": "markdown",
   "metadata": {},
   "source": [
    "# 9. Pandas: Basic Functions and Operations"
   ]
  },
  {
   "cell_type": "markdown",
   "metadata": {},
   "source": [
    "### Importing and Exporting data\n",
    "Pandas makes it easy to import and export data with various formats. To name a few:\n",
    "\n",
    "|Format| reader | writer|\n",
    "|---- |----|----|\n",
    "|MS Excel| \tread_excel| \tto_excel|\n",
    "|CSV |  \tread_csv |\tto_csv|\n",
    "|HDF5|      read_hdf |\tto_hdf|\n",
    "|HTML|  \tread_html |\tto_html|\n",
    "|Stata| \tread_stata |\tto_stata|\n",
    "\n",
    "\n",
    "\n",
    "When you write *pd.read_* and press tab, you can see what kind of data formats are supported. "
   ]
  },
  {
   "cell_type": "code",
   "execution_count": 32,
   "metadata": {},
   "outputs": [
    {
     "ename": "AttributeError",
     "evalue": "module 'pandas' has no attribute 'read_'",
     "output_type": "error",
     "traceback": [
      "\u001b[0;31m---------------------------------------------------------------------------\u001b[0m",
      "\u001b[0;31mAttributeError\u001b[0m                            Traceback (most recent call last)",
      "\u001b[0;32m<ipython-input-32-4b6833fb18a3>\u001b[0m in \u001b[0;36m<module>\u001b[0;34m\u001b[0m\n\u001b[0;32m----> 1\u001b[0;31m \u001b[0mpd\u001b[0m\u001b[0;34m.\u001b[0m\u001b[0mread_\u001b[0m\u001b[0;34m\u001b[0m\u001b[0;34m\u001b[0m\u001b[0m\n\u001b[0m",
      "\u001b[0;32m~/anaconda3/lib/python3.8/site-packages/pandas/__init__.py\u001b[0m in \u001b[0;36m__getattr__\u001b[0;34m(name)\u001b[0m\n\u001b[1;32m    256\u001b[0m             \u001b[0;32mreturn\u001b[0m \u001b[0m_SparseArray\u001b[0m\u001b[0;34m\u001b[0m\u001b[0;34m\u001b[0m\u001b[0m\n\u001b[1;32m    257\u001b[0m \u001b[0;34m\u001b[0m\u001b[0m\n\u001b[0;32m--> 258\u001b[0;31m         \u001b[0;32mraise\u001b[0m \u001b[0mAttributeError\u001b[0m\u001b[0;34m(\u001b[0m\u001b[0;34mf\"module 'pandas' has no attribute '{name}'\"\u001b[0m\u001b[0;34m)\u001b[0m\u001b[0;34m\u001b[0m\u001b[0;34m\u001b[0m\u001b[0m\n\u001b[0m\u001b[1;32m    259\u001b[0m \u001b[0;34m\u001b[0m\u001b[0m\n\u001b[1;32m    260\u001b[0m \u001b[0;34m\u001b[0m\u001b[0m\n",
      "\u001b[0;31mAttributeError\u001b[0m: module 'pandas' has no attribute 'read_'"
     ]
    }
   ],
   "source": [
    "pd.read_"
   ]
  },
  {
   "cell_type": "markdown",
   "metadata": {},
   "source": [
    "e.g. with the method\n",
    "\n",
    "                                        pd.read_csv(csv_file)\n",
    "                                        \n",
    "you can load data directly into a Pandas DataFrame. For *csv_file* you can either specify the local filename (saved on your computer) or use an internet address. \n",
    "\n",
    "CSV means comma separated values. It is just a text file and you can open it with any texteditor. Normally the first row contains the comma separated column names and subsequently every row is one data sample where the individual features are separated by a comma.\n",
    "\n",
    "Sometimes not the comma is the separator, but other symbols like the semicolon. Then you can use the *delimiter=* argument. When you want to skip the first rows of the file, because they contain some description, you can use the *skiprows=* argument. There are also many other arguments.\n",
    "When you have problems with importing data from a csv file, you should definitely take a look at the documentation\n",
    "\n",
    "https://pandas.pydata.org/docs/reference/api/pandas.read_csv.html\n",
    "\n"
   ]
  },
  {
   "cell_type": "code",
   "execution_count": 1,
   "metadata": {},
   "outputs": [
    {
     "ename": "NameError",
     "evalue": "name 'pd' is not defined",
     "output_type": "error",
     "traceback": [
      "\u001b[0;31m---------------------------------------------------------------------------\u001b[0m",
      "\u001b[0;31mNameError\u001b[0m                                 Traceback (most recent call last)",
      "\u001b[1;32m/Users/luzieahrens/MA_AKT/proScience/PythonII/WorkshopMaterial/Notepads/Pandas/09_pandas_basics.ipynb Cell 7\u001b[0m line \u001b[0;36m5\n\u001b[1;32m      <a href='vscode-notebook-cell:/Users/luzieahrens/MA_AKT/proScience/PythonII/WorkshopMaterial/Notepads/Pandas/09_pandas_basics.ipynb#W6sZmlsZQ%3D%3D?line=0'>1</a>\u001b[0m \u001b[39m# We will load some data from Gapminder  \u001b[39;00m\n\u001b[1;32m      <a href='vscode-notebook-cell:/Users/luzieahrens/MA_AKT/proScience/PythonII/WorkshopMaterial/Notepads/Pandas/09_pandas_basics.ipynb#W6sZmlsZQ%3D%3D?line=1'>2</a>\u001b[0m \u001b[39m# about the life expectancy, population and GDP per capita\u001b[39;00m\n\u001b[1;32m      <a href='vscode-notebook-cell:/Users/luzieahrens/MA_AKT/proScience/PythonII/WorkshopMaterial/Notepads/Pandas/09_pandas_basics.ipynb#W6sZmlsZQ%3D%3D?line=2'>3</a>\u001b[0m \u001b[39m# from Germany 1952 - 2007\u001b[39;00m\n\u001b[0;32m----> <a href='vscode-notebook-cell:/Users/luzieahrens/MA_AKT/proScience/PythonII/WorkshopMaterial/Notepads/Pandas/09_pandas_basics.ipynb#W6sZmlsZQ%3D%3D?line=4'>5</a>\u001b[0m gapminder \u001b[39m=\u001b[39m pd\u001b[39m.\u001b[39mread_csv(\u001b[39m\"\u001b[39m\u001b[39mData/gapminder_germany.csv\u001b[39m\u001b[39m\"\u001b[39m)\n\u001b[1;32m      <a href='vscode-notebook-cell:/Users/luzieahrens/MA_AKT/proScience/PythonII/WorkshopMaterial/Notepads/Pandas/09_pandas_basics.ipynb#W6sZmlsZQ%3D%3D?line=6'>7</a>\u001b[0m gapminder\n",
      "\u001b[0;31mNameError\u001b[0m: name 'pd' is not defined"
     ]
    }
   ],
   "source": [
    "# We will load some data from Gapminder  \n",
    "# about the life expectancy, population and GDP per capita\n",
    "# from Germany 1952 - 2007\n",
    "\n",
    "gapminder = pd.read_csv(\"../../Data/gapminder_germany.csv\")\n",
    "\n",
    "gapminder "
   ]
  },
  {
   "cell_type": "code",
   "execution_count": 34,
   "metadata": {
    "scrolled": true
   },
   "outputs": [
    {
     "data": {
      "text/html": [
       "<div>\n",
       "<style scoped>\n",
       "    .dataframe tbody tr th:only-of-type {\n",
       "        vertical-align: middle;\n",
       "    }\n",
       "\n",
       "    .dataframe tbody tr th {\n",
       "        vertical-align: top;\n",
       "    }\n",
       "\n",
       "    .dataframe thead th {\n",
       "        text-align: right;\n",
       "    }\n",
       "</style>\n",
       "<table border=\"1\" class=\"dataframe\">\n",
       "  <thead>\n",
       "    <tr style=\"text-align: right;\">\n",
       "      <th></th>\n",
       "      <th>Unnamed: 0</th>\n",
       "      <th>country</th>\n",
       "      <th>continent</th>\n",
       "      <th>year</th>\n",
       "      <th>lifeExp</th>\n",
       "      <th>pop</th>\n",
       "      <th>gdpPercap</th>\n",
       "    </tr>\n",
       "  </thead>\n",
       "  <tbody>\n",
       "    <tr>\n",
       "      <th>0</th>\n",
       "      <td>564</td>\n",
       "      <td>Germany</td>\n",
       "      <td>Europe</td>\n",
       "      <td>1952</td>\n",
       "      <td>67.5</td>\n",
       "      <td>69145952</td>\n",
       "      <td>7144.114393</td>\n",
       "    </tr>\n",
       "    <tr>\n",
       "      <th>1</th>\n",
       "      <td>565</td>\n",
       "      <td>Germany</td>\n",
       "      <td>Europe</td>\n",
       "      <td>1957</td>\n",
       "      <td>69.1</td>\n",
       "      <td>71019069</td>\n",
       "      <td>10187.826650</td>\n",
       "    </tr>\n",
       "    <tr>\n",
       "      <th>2</th>\n",
       "      <td>566</td>\n",
       "      <td>Germany</td>\n",
       "      <td>Europe</td>\n",
       "      <td>1962</td>\n",
       "      <td>70.3</td>\n",
       "      <td>73739117</td>\n",
       "      <td>12902.462910</td>\n",
       "    </tr>\n",
       "    <tr>\n",
       "      <th>3</th>\n",
       "      <td>567</td>\n",
       "      <td>Germany</td>\n",
       "      <td>Europe</td>\n",
       "      <td>1967</td>\n",
       "      <td>70.8</td>\n",
       "      <td>76368453</td>\n",
       "      <td>14745.625610</td>\n",
       "    </tr>\n",
       "    <tr>\n",
       "      <th>4</th>\n",
       "      <td>568</td>\n",
       "      <td>Germany</td>\n",
       "      <td>Europe</td>\n",
       "      <td>1972</td>\n",
       "      <td>71.0</td>\n",
       "      <td>78717088</td>\n",
       "      <td>18016.180270</td>\n",
       "    </tr>\n",
       "  </tbody>\n",
       "</table>\n",
       "</div>"
      ],
      "text/plain": [
       "   Unnamed: 0  country continent  year  lifeExp       pop     gdpPercap\n",
       "0         564  Germany    Europe  1952     67.5  69145952   7144.114393\n",
       "1         565  Germany    Europe  1957     69.1  71019069  10187.826650\n",
       "2         566  Germany    Europe  1962     70.3  73739117  12902.462910\n",
       "3         567  Germany    Europe  1967     70.8  76368453  14745.625610\n",
       "4         568  Germany    Europe  1972     71.0  78717088  18016.180270"
      ]
     },
     "execution_count": 34,
     "metadata": {},
     "output_type": "execute_result"
    }
   ],
   "source": [
    "# print out just the first 5 rows to get an idea\n",
    "# especially useful when you have huge data sets\n",
    "gapminder.head() "
   ]
  },
  {
   "cell_type": "markdown",
   "metadata": {},
   "source": [
    "### Converting to Numpy\n",
    "\n",
    "With the operation \n",
    "\n",
    "                        .to_numpy()\n",
    "                        \n",
    "you can convert a DataFrame or a Series to a numpy array.\n",
    "\n",
    "In the following cell we want to create a numpy matrix from the two columns lifeExp (life expectancy) and pop (population)."
   ]
  },
  {
   "cell_type": "code",
   "execution_count": 35,
   "metadata": {},
   "outputs": [
    {
     "data": {
      "text/plain": [
       "array([[6.7500000e+01, 6.9145952e+07],\n",
       "       [6.9100000e+01, 7.1019069e+07],\n",
       "       [7.0300000e+01, 7.3739117e+07],\n",
       "       [7.0800000e+01, 7.6368453e+07],\n",
       "       [7.1000000e+01, 7.8717088e+07],\n",
       "       [7.2500000e+01, 7.8160773e+07],\n",
       "       [7.3800000e+01, 7.8335266e+07],\n",
       "       [7.4847000e+01, 7.7718298e+07],\n",
       "       [7.6070000e+01, 8.0597764e+07],\n",
       "       [7.7340000e+01, 8.2011073e+07],\n",
       "       [7.8670000e+01, 8.2350671e+07],\n",
       "       [7.9406000e+01, 8.2400996e+07]])"
      ]
     },
     "execution_count": 35,
     "metadata": {},
     "output_type": "execute_result"
    }
   ],
   "source": [
    "gapminder[['lifeExp', 'pop']].to_numpy()"
   ]
  },
  {
   "cell_type": "markdown",
   "metadata": {},
   "source": [
    "### Delete data\n",
    "\n",
    "Because the Unnamed:0 column and the continent column is useless, we want to delete them with the pandas function:\n",
    "\n",
    "                                        data_frame.drop(c_labels, axis=1)\n",
    "                                        \n",
    "The axis is one because we want to delete columns. If we want to delete rows, then axis would be 0.\n",
    "\n",
    "For *c_labels* we need the exact column name of the columns that we want to delete.\n",
    "\n",
    "First we check which columns are available"
   ]
  },
  {
   "cell_type": "code",
   "execution_count": 36,
   "metadata": {},
   "outputs": [
    {
     "data": {
      "text/plain": [
       "Index(['Unnamed: 0', 'country', 'continent', 'year', 'lifeExp', 'pop',\n",
       "       'gdpPercap'],\n",
       "      dtype='object')"
      ]
     },
     "execution_count": 36,
     "metadata": {},
     "output_type": "execute_result"
    }
   ],
   "source": [
    "gapminder.columns"
   ]
  },
  {
   "cell_type": "markdown",
   "metadata": {},
   "source": [
    "Now we delete 'Unnamed: 0' and 'continent'"
   ]
  },
  {
   "cell_type": "code",
   "execution_count": 37,
   "metadata": {
    "scrolled": true
   },
   "outputs": [],
   "source": [
    "gapminder = gapminder.drop(['Unnamed: 0','continent'], axis=1)"
   ]
  },
  {
   "cell_type": "code",
   "execution_count": 38,
   "metadata": {},
   "outputs": [
    {
     "data": {
      "text/html": [
       "<div>\n",
       "<style scoped>\n",
       "    .dataframe tbody tr th:only-of-type {\n",
       "        vertical-align: middle;\n",
       "    }\n",
       "\n",
       "    .dataframe tbody tr th {\n",
       "        vertical-align: top;\n",
       "    }\n",
       "\n",
       "    .dataframe thead th {\n",
       "        text-align: right;\n",
       "    }\n",
       "</style>\n",
       "<table border=\"1\" class=\"dataframe\">\n",
       "  <thead>\n",
       "    <tr style=\"text-align: right;\">\n",
       "      <th></th>\n",
       "      <th>country</th>\n",
       "      <th>year</th>\n",
       "      <th>lifeExp</th>\n",
       "      <th>pop</th>\n",
       "      <th>gdpPercap</th>\n",
       "    </tr>\n",
       "  </thead>\n",
       "  <tbody>\n",
       "    <tr>\n",
       "      <th>0</th>\n",
       "      <td>Germany</td>\n",
       "      <td>1952</td>\n",
       "      <td>67.500</td>\n",
       "      <td>69145952</td>\n",
       "      <td>7144.114393</td>\n",
       "    </tr>\n",
       "    <tr>\n",
       "      <th>1</th>\n",
       "      <td>Germany</td>\n",
       "      <td>1957</td>\n",
       "      <td>69.100</td>\n",
       "      <td>71019069</td>\n",
       "      <td>10187.826650</td>\n",
       "    </tr>\n",
       "    <tr>\n",
       "      <th>2</th>\n",
       "      <td>Germany</td>\n",
       "      <td>1962</td>\n",
       "      <td>70.300</td>\n",
       "      <td>73739117</td>\n",
       "      <td>12902.462910</td>\n",
       "    </tr>\n",
       "    <tr>\n",
       "      <th>3</th>\n",
       "      <td>Germany</td>\n",
       "      <td>1967</td>\n",
       "      <td>70.800</td>\n",
       "      <td>76368453</td>\n",
       "      <td>14745.625610</td>\n",
       "    </tr>\n",
       "    <tr>\n",
       "      <th>4</th>\n",
       "      <td>Germany</td>\n",
       "      <td>1972</td>\n",
       "      <td>71.000</td>\n",
       "      <td>78717088</td>\n",
       "      <td>18016.180270</td>\n",
       "    </tr>\n",
       "    <tr>\n",
       "      <th>5</th>\n",
       "      <td>Germany</td>\n",
       "      <td>1977</td>\n",
       "      <td>72.500</td>\n",
       "      <td>78160773</td>\n",
       "      <td>20512.921230</td>\n",
       "    </tr>\n",
       "    <tr>\n",
       "      <th>6</th>\n",
       "      <td>Germany</td>\n",
       "      <td>1982</td>\n",
       "      <td>73.800</td>\n",
       "      <td>78335266</td>\n",
       "      <td>22031.532740</td>\n",
       "    </tr>\n",
       "    <tr>\n",
       "      <th>7</th>\n",
       "      <td>Germany</td>\n",
       "      <td>1987</td>\n",
       "      <td>74.847</td>\n",
       "      <td>77718298</td>\n",
       "      <td>24639.185660</td>\n",
       "    </tr>\n",
       "    <tr>\n",
       "      <th>8</th>\n",
       "      <td>Germany</td>\n",
       "      <td>1992</td>\n",
       "      <td>76.070</td>\n",
       "      <td>80597764</td>\n",
       "      <td>26505.303170</td>\n",
       "    </tr>\n",
       "    <tr>\n",
       "      <th>9</th>\n",
       "      <td>Germany</td>\n",
       "      <td>1997</td>\n",
       "      <td>77.340</td>\n",
       "      <td>82011073</td>\n",
       "      <td>27788.884160</td>\n",
       "    </tr>\n",
       "    <tr>\n",
       "      <th>10</th>\n",
       "      <td>Germany</td>\n",
       "      <td>2002</td>\n",
       "      <td>78.670</td>\n",
       "      <td>82350671</td>\n",
       "      <td>30035.801980</td>\n",
       "    </tr>\n",
       "    <tr>\n",
       "      <th>11</th>\n",
       "      <td>Germany</td>\n",
       "      <td>2007</td>\n",
       "      <td>79.406</td>\n",
       "      <td>82400996</td>\n",
       "      <td>32170.374420</td>\n",
       "    </tr>\n",
       "  </tbody>\n",
       "</table>\n",
       "</div>"
      ],
      "text/plain": [
       "    country  year  lifeExp       pop     gdpPercap\n",
       "0   Germany  1952   67.500  69145952   7144.114393\n",
       "1   Germany  1957   69.100  71019069  10187.826650\n",
       "2   Germany  1962   70.300  73739117  12902.462910\n",
       "3   Germany  1967   70.800  76368453  14745.625610\n",
       "4   Germany  1972   71.000  78717088  18016.180270\n",
       "5   Germany  1977   72.500  78160773  20512.921230\n",
       "6   Germany  1982   73.800  78335266  22031.532740\n",
       "7   Germany  1987   74.847  77718298  24639.185660\n",
       "8   Germany  1992   76.070  80597764  26505.303170\n",
       "9   Germany  1997   77.340  82011073  27788.884160\n",
       "10  Germany  2002   78.670  82350671  30035.801980\n",
       "11  Germany  2007   79.406  82400996  32170.374420"
      ]
     },
     "execution_count": 38,
     "metadata": {},
     "output_type": "execute_result"
    }
   ],
   "source": [
    "gapminder"
   ]
  },
  {
   "cell_type": "markdown",
   "metadata": {},
   "source": [
    "### Descritptive Statistics\n",
    "\n",
    "1. The **sum** of all years "
   ]
  },
  {
   "cell_type": "code",
   "execution_count": 39,
   "metadata": {},
   "outputs": [
    {
     "data": {
      "text/plain": [
       "23754"
      ]
     },
     "execution_count": 39,
     "metadata": {},
     "output_type": "execute_result"
    }
   ],
   "source": [
    "gapminder['year'].sum()"
   ]
  },
  {
   "cell_type": "code",
   "execution_count": 40,
   "metadata": {},
   "outputs": [
    {
     "data": {
      "text/plain": [
       "country      GermanyGermanyGermanyGermanyGermanyGermanyGerm...\n",
       "year                                                     23754\n",
       "lifeExp                                                881.333\n",
       "pop                                                  930564520\n",
       "gdpPercap                                               246680\n",
       "dtype: object"
      ]
     },
     "execution_count": 40,
     "metadata": {},
     "output_type": "execute_result"
    }
   ],
   "source": [
    "# Get the sum per columns\n",
    "\n",
    "gapminder.sum()"
   ]
  },
  {
   "cell_type": "markdown",
   "metadata": {},
   "source": [
    "2. The **mean** population"
   ]
  },
  {
   "cell_type": "code",
   "execution_count": 41,
   "metadata": {},
   "outputs": [
    {
     "data": {
      "text/plain": [
       "77547043.33333333"
      ]
     },
     "execution_count": 41,
     "metadata": {},
     "output_type": "execute_result"
    }
   ],
   "source": [
    "gapminder['pop'].mean()"
   ]
  },
  {
   "cell_type": "code",
   "execution_count": 42,
   "metadata": {},
   "outputs": [
    {
     "data": {
      "text/plain": [
       "year         1.979500e+03\n",
       "lifeExp      7.344442e+01\n",
       "pop          7.754704e+07\n",
       "gdpPercap    2.055668e+04\n",
       "dtype: float64"
      ]
     },
     "execution_count": 42,
     "metadata": {},
     "output_type": "execute_result"
    }
   ],
   "source": [
    "# Get the mean per column\n",
    "gapminder.mean()"
   ]
  },
  {
   "cell_type": "markdown",
   "metadata": {},
   "source": [
    "3. Sample **standard deviation** of population"
   ]
  },
  {
   "cell_type": "code",
   "execution_count": 43,
   "metadata": {},
   "outputs": [
    {
     "data": {
      "text/plain": [
       "4341644.086178589"
      ]
     },
     "execution_count": 43,
     "metadata": {},
     "output_type": "execute_result"
    }
   ],
   "source": [
    "gapminder['pop'].std()"
   ]
  },
  {
   "cell_type": "code",
   "execution_count": 44,
   "metadata": {
    "scrolled": true
   },
   "outputs": [
    {
     "data": {
      "text/plain": [
       "year         1.802776e+01\n",
       "lifeExp      3.872603e+00\n",
       "pop          4.341644e+06\n",
       "gdpPercap    8.076262e+03\n",
       "dtype: float64"
      ]
     },
     "execution_count": 44,
     "metadata": {},
     "output_type": "execute_result"
    }
   ],
   "source": [
    "# Get the standard deviation per column\n",
    "gapminder.std()"
   ]
  },
  {
   "cell_type": "markdown",
   "metadata": {},
   "source": [
    "4.  **Correlation Matrix** Of Values"
   ]
  },
  {
   "cell_type": "code",
   "execution_count": 45,
   "metadata": {},
   "outputs": [
    {
     "data": {
      "text/html": [
       "<div>\n",
       "<style scoped>\n",
       "    .dataframe tbody tr th:only-of-type {\n",
       "        vertical-align: middle;\n",
       "    }\n",
       "\n",
       "    .dataframe tbody tr th {\n",
       "        vertical-align: top;\n",
       "    }\n",
       "\n",
       "    .dataframe thead th {\n",
       "        text-align: right;\n",
       "    }\n",
       "</style>\n",
       "<table border=\"1\" class=\"dataframe\">\n",
       "  <thead>\n",
       "    <tr style=\"text-align: right;\">\n",
       "      <th></th>\n",
       "      <th>year</th>\n",
       "      <th>lifeExp</th>\n",
       "      <th>pop</th>\n",
       "      <th>gdpPercap</th>\n",
       "    </tr>\n",
       "  </thead>\n",
       "  <tbody>\n",
       "    <tr>\n",
       "      <th>year</th>\n",
       "      <td>1.000000</td>\n",
       "      <td>0.994739</td>\n",
       "      <td>0.940851</td>\n",
       "      <td>0.996387</td>\n",
       "    </tr>\n",
       "    <tr>\n",
       "      <th>lifeExp</th>\n",
       "      <td>0.994739</td>\n",
       "      <td>1.000000</td>\n",
       "      <td>0.918690</td>\n",
       "      <td>0.986158</td>\n",
       "    </tr>\n",
       "    <tr>\n",
       "      <th>pop</th>\n",
       "      <td>0.940851</td>\n",
       "      <td>0.918690</td>\n",
       "      <td>1.000000</td>\n",
       "      <td>0.952964</td>\n",
       "    </tr>\n",
       "    <tr>\n",
       "      <th>gdpPercap</th>\n",
       "      <td>0.996387</td>\n",
       "      <td>0.986158</td>\n",
       "      <td>0.952964</td>\n",
       "      <td>1.000000</td>\n",
       "    </tr>\n",
       "  </tbody>\n",
       "</table>\n",
       "</div>"
      ],
      "text/plain": [
       "               year   lifeExp       pop  gdpPercap\n",
       "year       1.000000  0.994739  0.940851   0.996387\n",
       "lifeExp    0.994739  1.000000  0.918690   0.986158\n",
       "pop        0.940851  0.918690  1.000000   0.952964\n",
       "gdpPercap  0.996387  0.986158  0.952964   1.000000"
      ]
     },
     "execution_count": 45,
     "metadata": {},
     "output_type": "execute_result"
    }
   ],
   "source": [
    "gapminder.corr()"
   ]
  },
  {
   "cell_type": "markdown",
   "metadata": {},
   "source": [
    "5. **Summary statistics** "
   ]
  },
  {
   "cell_type": "code",
   "execution_count": 46,
   "metadata": {},
   "outputs": [
    {
     "data": {
      "text/plain": [
       "count    1.200000e+01\n",
       "mean     7.754704e+07\n",
       "std      4.341644e+06\n",
       "min      6.914595e+07\n",
       "25%      7.571112e+07\n",
       "50%      7.824802e+07\n",
       "75%      8.095109e+07\n",
       "max      8.240100e+07\n",
       "Name: pop, dtype: float64"
      ]
     },
     "execution_count": 46,
     "metadata": {},
     "output_type": "execute_result"
    }
   ],
   "source": [
    "# for column population\n",
    "gapminder['pop'].describe()"
   ]
  },
  {
   "cell_type": "code",
   "execution_count": 47,
   "metadata": {
    "scrolled": true
   },
   "outputs": [
    {
     "data": {
      "text/html": [
       "<div>\n",
       "<style scoped>\n",
       "    .dataframe tbody tr th:only-of-type {\n",
       "        vertical-align: middle;\n",
       "    }\n",
       "\n",
       "    .dataframe tbody tr th {\n",
       "        vertical-align: top;\n",
       "    }\n",
       "\n",
       "    .dataframe thead th {\n",
       "        text-align: right;\n",
       "    }\n",
       "</style>\n",
       "<table border=\"1\" class=\"dataframe\">\n",
       "  <thead>\n",
       "    <tr style=\"text-align: right;\">\n",
       "      <th></th>\n",
       "      <th>year</th>\n",
       "      <th>lifeExp</th>\n",
       "      <th>pop</th>\n",
       "      <th>gdpPercap</th>\n",
       "    </tr>\n",
       "  </thead>\n",
       "  <tbody>\n",
       "    <tr>\n",
       "      <th>count</th>\n",
       "      <td>12.000000</td>\n",
       "      <td>12.000000</td>\n",
       "      <td>1.200000e+01</td>\n",
       "      <td>12.000000</td>\n",
       "    </tr>\n",
       "    <tr>\n",
       "      <th>mean</th>\n",
       "      <td>1979.500000</td>\n",
       "      <td>73.444417</td>\n",
       "      <td>7.754704e+07</td>\n",
       "      <td>20556.684433</td>\n",
       "    </tr>\n",
       "    <tr>\n",
       "      <th>std</th>\n",
       "      <td>18.027756</td>\n",
       "      <td>3.872603</td>\n",
       "      <td>4.341644e+06</td>\n",
       "      <td>8076.261913</td>\n",
       "    </tr>\n",
       "    <tr>\n",
       "      <th>min</th>\n",
       "      <td>1952.000000</td>\n",
       "      <td>67.500000</td>\n",
       "      <td>6.914595e+07</td>\n",
       "      <td>7144.114393</td>\n",
       "    </tr>\n",
       "    <tr>\n",
       "      <th>25%</th>\n",
       "      <td>1965.750000</td>\n",
       "      <td>70.675000</td>\n",
       "      <td>7.571112e+07</td>\n",
       "      <td>14284.834935</td>\n",
       "    </tr>\n",
       "    <tr>\n",
       "      <th>50%</th>\n",
       "      <td>1979.500000</td>\n",
       "      <td>73.150000</td>\n",
       "      <td>7.824802e+07</td>\n",
       "      <td>21272.226985</td>\n",
       "    </tr>\n",
       "    <tr>\n",
       "      <th>75%</th>\n",
       "      <td>1993.250000</td>\n",
       "      <td>76.387500</td>\n",
       "      <td>8.095109e+07</td>\n",
       "      <td>26826.198417</td>\n",
       "    </tr>\n",
       "    <tr>\n",
       "      <th>max</th>\n",
       "      <td>2007.000000</td>\n",
       "      <td>79.406000</td>\n",
       "      <td>8.240100e+07</td>\n",
       "      <td>32170.374420</td>\n",
       "    </tr>\n",
       "  </tbody>\n",
       "</table>\n",
       "</div>"
      ],
      "text/plain": [
       "              year    lifeExp           pop     gdpPercap\n",
       "count    12.000000  12.000000  1.200000e+01     12.000000\n",
       "mean   1979.500000  73.444417  7.754704e+07  20556.684433\n",
       "std      18.027756   3.872603  4.341644e+06   8076.261913\n",
       "min    1952.000000  67.500000  6.914595e+07   7144.114393\n",
       "25%    1965.750000  70.675000  7.571112e+07  14284.834935\n",
       "50%    1979.500000  73.150000  7.824802e+07  21272.226985\n",
       "75%    1993.250000  76.387500  8.095109e+07  26826.198417\n",
       "max    2007.000000  79.406000  8.240100e+07  32170.374420"
      ]
     },
     "execution_count": 47,
     "metadata": {},
     "output_type": "execute_result"
    }
   ],
   "source": [
    "# for all columns\n",
    "gapminder.describe()"
   ]
  },
  {
   "cell_type": "code",
   "execution_count": 48,
   "metadata": {
    "scrolled": true
   },
   "outputs": [
    {
     "name": "stdout",
     "output_type": "stream",
     "text": [
      "<class 'pandas.core.frame.DataFrame'>\n",
      "RangeIndex: 12 entries, 0 to 11\n",
      "Data columns (total 5 columns):\n",
      " #   Column     Non-Null Count  Dtype  \n",
      "---  ------     --------------  -----  \n",
      " 0   country    12 non-null     object \n",
      " 1   year       12 non-null     int64  \n",
      " 2   lifeExp    12 non-null     float64\n",
      " 3   pop        12 non-null     int64  \n",
      " 4   gdpPercap  12 non-null     float64\n",
      "dtypes: float64(2), int64(2), object(1)\n",
      "memory usage: 608.0+ bytes\n"
     ]
    }
   ],
   "source": [
    "# Get data types per column\n",
    "gapminder.info()"
   ]
  },
  {
   "cell_type": "markdown",
   "metadata": {},
   "source": [
    "### Function application\n",
    "\n",
    "These were all methods from the pandas library. If you want to apply your own function or a function from another library to a pandas DataFrame, use the\n",
    "      \n",
    "                                            apply()\n",
    "                                    \n",
    "method for row/ column wise application.\n",
    "\n",
    "Example: In the following data set, the height and shoe size of women and men are collected. But for further processing we want to convert the strings \"woman\" and \"man\" to numbers. "
   ]
  },
  {
   "cell_type": "code",
   "execution_count": 12,
   "metadata": {},
   "outputs": [
    {
     "data": {
      "text/html": [
       "<div>\n",
       "<style scoped>\n",
       "    .dataframe tbody tr th:only-of-type {\n",
       "        vertical-align: middle;\n",
       "    }\n",
       "\n",
       "    .dataframe tbody tr th {\n",
       "        vertical-align: top;\n",
       "    }\n",
       "\n",
       "    .dataframe thead th {\n",
       "        text-align: right;\n",
       "    }\n",
       "</style>\n",
       "<table border=\"1\" class=\"dataframe\">\n",
       "  <thead>\n",
       "    <tr style=\"text-align: right;\">\n",
       "      <th></th>\n",
       "      <th>time</th>\n",
       "      <th>gender</th>\n",
       "      <th>height</th>\n",
       "      <th>shoe_size</th>\n",
       "    </tr>\n",
       "  </thead>\n",
       "  <tbody>\n",
       "    <tr>\n",
       "      <th>0</th>\n",
       "      <td>04.10.2016 17:58:51</td>\n",
       "      <td>woman</td>\n",
       "      <td>160.0</td>\n",
       "      <td>40.0</td>\n",
       "    </tr>\n",
       "    <tr>\n",
       "      <th>1</th>\n",
       "      <td>04.10.2016 17:58:59</td>\n",
       "      <td>woman</td>\n",
       "      <td>171.0</td>\n",
       "      <td>39.0</td>\n",
       "    </tr>\n",
       "    <tr>\n",
       "      <th>2</th>\n",
       "      <td>04.10.2016 18:00:15</td>\n",
       "      <td>woman</td>\n",
       "      <td>174.0</td>\n",
       "      <td>39.0</td>\n",
       "    </tr>\n",
       "    <tr>\n",
       "      <th>3</th>\n",
       "      <td>04.10.2016 18:01:17</td>\n",
       "      <td>woman</td>\n",
       "      <td>176.0</td>\n",
       "      <td>40.0</td>\n",
       "    </tr>\n",
       "    <tr>\n",
       "      <th>4</th>\n",
       "      <td>04.10.2016 18:01:22</td>\n",
       "      <td>man</td>\n",
       "      <td>195.0</td>\n",
       "      <td>46.0</td>\n",
       "    </tr>\n",
       "    <tr>\n",
       "      <th>...</th>\n",
       "      <td>...</td>\n",
       "      <td>...</td>\n",
       "      <td>...</td>\n",
       "      <td>...</td>\n",
       "    </tr>\n",
       "    <tr>\n",
       "      <th>96</th>\n",
       "      <td>17.10.2016 12:37:09</td>\n",
       "      <td>woman</td>\n",
       "      <td>170.0</td>\n",
       "      <td>39.0</td>\n",
       "    </tr>\n",
       "    <tr>\n",
       "      <th>97</th>\n",
       "      <td>17.10.2016 13:12:48</td>\n",
       "      <td>woman</td>\n",
       "      <td>183.0</td>\n",
       "      <td>39.0</td>\n",
       "    </tr>\n",
       "    <tr>\n",
       "      <th>98</th>\n",
       "      <td>19.10.2016 17:07:53</td>\n",
       "      <td>woman</td>\n",
       "      <td>173.0</td>\n",
       "      <td>40.0</td>\n",
       "    </tr>\n",
       "    <tr>\n",
       "      <th>99</th>\n",
       "      <td>29.10.2016 20:28:33</td>\n",
       "      <td>woman</td>\n",
       "      <td>160.0</td>\n",
       "      <td>37.0</td>\n",
       "    </tr>\n",
       "    <tr>\n",
       "      <th>100</th>\n",
       "      <td>30.10.2016 11:57:57</td>\n",
       "      <td>woman</td>\n",
       "      <td>168.0</td>\n",
       "      <td>39.0</td>\n",
       "    </tr>\n",
       "  </tbody>\n",
       "</table>\n",
       "<p>101 rows × 4 columns</p>\n",
       "</div>"
      ],
      "text/plain": [
       "                    time gender  height  shoe_size\n",
       "0    04.10.2016 17:58:51  woman   160.0       40.0\n",
       "1    04.10.2016 17:58:59  woman   171.0       39.0\n",
       "2    04.10.2016 18:00:15  woman   174.0       39.0\n",
       "3    04.10.2016 18:01:17  woman   176.0       40.0\n",
       "4    04.10.2016 18:01:22    man   195.0       46.0\n",
       "..                   ...    ...     ...        ...\n",
       "96   17.10.2016 12:37:09  woman   170.0       39.0\n",
       "97   17.10.2016 13:12:48  woman   183.0       39.0\n",
       "98   19.10.2016 17:07:53  woman   173.0       40.0\n",
       "99   29.10.2016 20:28:33  woman   160.0       37.0\n",
       "100  30.10.2016 11:57:57  woman   168.0       39.0\n",
       "\n",
       "[101 rows x 4 columns]"
      ]
     },
     "execution_count": 12,
     "metadata": {},
     "output_type": "execute_result"
    }
   ],
   "source": [
    "shoesize_height = pd.read_csv(\"Data/wo_men.csv\")\n",
    "shoesize_height"
   ]
  },
  {
   "cell_type": "code",
   "execution_count": 13,
   "metadata": {},
   "outputs": [
    {
     "data": {
      "text/html": [
       "<div>\n",
       "<style scoped>\n",
       "    .dataframe tbody tr th:only-of-type {\n",
       "        vertical-align: middle;\n",
       "    }\n",
       "\n",
       "    .dataframe tbody tr th {\n",
       "        vertical-align: top;\n",
       "    }\n",
       "\n",
       "    .dataframe thead th {\n",
       "        text-align: right;\n",
       "    }\n",
       "</style>\n",
       "<table border=\"1\" class=\"dataframe\">\n",
       "  <thead>\n",
       "    <tr style=\"text-align: right;\">\n",
       "      <th></th>\n",
       "      <th>time</th>\n",
       "      <th>gender</th>\n",
       "      <th>height</th>\n",
       "      <th>shoe_size</th>\n",
       "    </tr>\n",
       "  </thead>\n",
       "  <tbody>\n",
       "    <tr>\n",
       "      <th>0</th>\n",
       "      <td>04.10.2016 17:58:51</td>\n",
       "      <td>woman</td>\n",
       "      <td>160.0</td>\n",
       "      <td>40.0</td>\n",
       "    </tr>\n",
       "    <tr>\n",
       "      <th>1</th>\n",
       "      <td>04.10.2016 17:58:59</td>\n",
       "      <td>woman</td>\n",
       "      <td>171.0</td>\n",
       "      <td>39.0</td>\n",
       "    </tr>\n",
       "    <tr>\n",
       "      <th>2</th>\n",
       "      <td>04.10.2016 18:00:15</td>\n",
       "      <td>woman</td>\n",
       "      <td>174.0</td>\n",
       "      <td>39.0</td>\n",
       "    </tr>\n",
       "    <tr>\n",
       "      <th>3</th>\n",
       "      <td>04.10.2016 18:01:17</td>\n",
       "      <td>woman</td>\n",
       "      <td>176.0</td>\n",
       "      <td>40.0</td>\n",
       "    </tr>\n",
       "    <tr>\n",
       "      <th>4</th>\n",
       "      <td>04.10.2016 18:01:22</td>\n",
       "      <td>man</td>\n",
       "      <td>195.0</td>\n",
       "      <td>46.0</td>\n",
       "    </tr>\n",
       "    <tr>\n",
       "      <th>...</th>\n",
       "      <td>...</td>\n",
       "      <td>...</td>\n",
       "      <td>...</td>\n",
       "      <td>...</td>\n",
       "    </tr>\n",
       "    <tr>\n",
       "      <th>96</th>\n",
       "      <td>17.10.2016 12:37:09</td>\n",
       "      <td>woman</td>\n",
       "      <td>170.0</td>\n",
       "      <td>39.0</td>\n",
       "    </tr>\n",
       "    <tr>\n",
       "      <th>97</th>\n",
       "      <td>17.10.2016 13:12:48</td>\n",
       "      <td>woman</td>\n",
       "      <td>183.0</td>\n",
       "      <td>39.0</td>\n",
       "    </tr>\n",
       "    <tr>\n",
       "      <th>98</th>\n",
       "      <td>19.10.2016 17:07:53</td>\n",
       "      <td>woman</td>\n",
       "      <td>173.0</td>\n",
       "      <td>40.0</td>\n",
       "    </tr>\n",
       "    <tr>\n",
       "      <th>99</th>\n",
       "      <td>29.10.2016 20:28:33</td>\n",
       "      <td>woman</td>\n",
       "      <td>160.0</td>\n",
       "      <td>37.0</td>\n",
       "    </tr>\n",
       "    <tr>\n",
       "      <th>100</th>\n",
       "      <td>30.10.2016 11:57:57</td>\n",
       "      <td>woman</td>\n",
       "      <td>168.0</td>\n",
       "      <td>39.0</td>\n",
       "    </tr>\n",
       "  </tbody>\n",
       "</table>\n",
       "<p>101 rows × 4 columns</p>\n",
       "</div>"
      ],
      "text/plain": [
       "                    time gender  height  shoe_size\n",
       "0    04.10.2016 17:58:51  woman   160.0       40.0\n",
       "1    04.10.2016 17:58:59  woman   171.0       39.0\n",
       "2    04.10.2016 18:00:15  woman   174.0       39.0\n",
       "3    04.10.2016 18:01:17  woman   176.0       40.0\n",
       "4    04.10.2016 18:01:22    man   195.0       46.0\n",
       "..                   ...    ...     ...        ...\n",
       "96   17.10.2016 12:37:09  woman   170.0       39.0\n",
       "97   17.10.2016 13:12:48  woman   183.0       39.0\n",
       "98   19.10.2016 17:07:53  woman   173.0       40.0\n",
       "99   29.10.2016 20:28:33  woman   160.0       37.0\n",
       "100  30.10.2016 11:57:57  woman   168.0       39.0\n",
       "\n",
       "[101 rows x 4 columns]"
      ]
     },
     "execution_count": 13,
     "metadata": {},
     "output_type": "execute_result"
    }
   ],
   "source": [
    "shoesize_height"
   ]
  },
  {
   "cell_type": "code",
   "execution_count": 14,
   "metadata": {},
   "outputs": [],
   "source": [
    "def convert_sex(x):\n",
    "    if x==\"woman\":\n",
    "        return 1\n",
    "    elif x==\"man\":\n",
    "        return 0\n",
    "    else: # in case no data is available\n",
    "        return None"
   ]
  },
  {
   "cell_type": "code",
   "execution_count": 15,
   "metadata": {},
   "outputs": [],
   "source": [
    "shoesize_height['gender2'] = shoesize_height['gender'].apply(convert_sex)"
   ]
  },
  {
   "cell_type": "code",
   "execution_count": 16,
   "metadata": {
    "scrolled": true
   },
   "outputs": [
    {
     "data": {
      "text/html": [
       "<div>\n",
       "<style scoped>\n",
       "    .dataframe tbody tr th:only-of-type {\n",
       "        vertical-align: middle;\n",
       "    }\n",
       "\n",
       "    .dataframe tbody tr th {\n",
       "        vertical-align: top;\n",
       "    }\n",
       "\n",
       "    .dataframe thead th {\n",
       "        text-align: right;\n",
       "    }\n",
       "</style>\n",
       "<table border=\"1\" class=\"dataframe\">\n",
       "  <thead>\n",
       "    <tr style=\"text-align: right;\">\n",
       "      <th></th>\n",
       "      <th>time</th>\n",
       "      <th>gender</th>\n",
       "      <th>height</th>\n",
       "      <th>shoe_size</th>\n",
       "      <th>gender2</th>\n",
       "    </tr>\n",
       "  </thead>\n",
       "  <tbody>\n",
       "    <tr>\n",
       "      <th>0</th>\n",
       "      <td>04.10.2016 17:58:51</td>\n",
       "      <td>woman</td>\n",
       "      <td>160.0</td>\n",
       "      <td>40.0</td>\n",
       "      <td>1.0</td>\n",
       "    </tr>\n",
       "    <tr>\n",
       "      <th>1</th>\n",
       "      <td>04.10.2016 17:58:59</td>\n",
       "      <td>woman</td>\n",
       "      <td>171.0</td>\n",
       "      <td>39.0</td>\n",
       "      <td>1.0</td>\n",
       "    </tr>\n",
       "    <tr>\n",
       "      <th>2</th>\n",
       "      <td>04.10.2016 18:00:15</td>\n",
       "      <td>woman</td>\n",
       "      <td>174.0</td>\n",
       "      <td>39.0</td>\n",
       "      <td>1.0</td>\n",
       "    </tr>\n",
       "    <tr>\n",
       "      <th>3</th>\n",
       "      <td>04.10.2016 18:01:17</td>\n",
       "      <td>woman</td>\n",
       "      <td>176.0</td>\n",
       "      <td>40.0</td>\n",
       "      <td>1.0</td>\n",
       "    </tr>\n",
       "    <tr>\n",
       "      <th>4</th>\n",
       "      <td>04.10.2016 18:01:22</td>\n",
       "      <td>man</td>\n",
       "      <td>195.0</td>\n",
       "      <td>46.0</td>\n",
       "      <td>0.0</td>\n",
       "    </tr>\n",
       "    <tr>\n",
       "      <th>...</th>\n",
       "      <td>...</td>\n",
       "      <td>...</td>\n",
       "      <td>...</td>\n",
       "      <td>...</td>\n",
       "      <td>...</td>\n",
       "    </tr>\n",
       "    <tr>\n",
       "      <th>96</th>\n",
       "      <td>17.10.2016 12:37:09</td>\n",
       "      <td>woman</td>\n",
       "      <td>170.0</td>\n",
       "      <td>39.0</td>\n",
       "      <td>1.0</td>\n",
       "    </tr>\n",
       "    <tr>\n",
       "      <th>97</th>\n",
       "      <td>17.10.2016 13:12:48</td>\n",
       "      <td>woman</td>\n",
       "      <td>183.0</td>\n",
       "      <td>39.0</td>\n",
       "      <td>1.0</td>\n",
       "    </tr>\n",
       "    <tr>\n",
       "      <th>98</th>\n",
       "      <td>19.10.2016 17:07:53</td>\n",
       "      <td>woman</td>\n",
       "      <td>173.0</td>\n",
       "      <td>40.0</td>\n",
       "      <td>1.0</td>\n",
       "    </tr>\n",
       "    <tr>\n",
       "      <th>99</th>\n",
       "      <td>29.10.2016 20:28:33</td>\n",
       "      <td>woman</td>\n",
       "      <td>160.0</td>\n",
       "      <td>37.0</td>\n",
       "      <td>1.0</td>\n",
       "    </tr>\n",
       "    <tr>\n",
       "      <th>100</th>\n",
       "      <td>30.10.2016 11:57:57</td>\n",
       "      <td>woman</td>\n",
       "      <td>168.0</td>\n",
       "      <td>39.0</td>\n",
       "      <td>1.0</td>\n",
       "    </tr>\n",
       "  </tbody>\n",
       "</table>\n",
       "<p>101 rows × 5 columns</p>\n",
       "</div>"
      ],
      "text/plain": [
       "                    time gender  height  shoe_size  gender2\n",
       "0    04.10.2016 17:58:51  woman   160.0       40.0      1.0\n",
       "1    04.10.2016 17:58:59  woman   171.0       39.0      1.0\n",
       "2    04.10.2016 18:00:15  woman   174.0       39.0      1.0\n",
       "3    04.10.2016 18:01:17  woman   176.0       40.0      1.0\n",
       "4    04.10.2016 18:01:22    man   195.0       46.0      0.0\n",
       "..                   ...    ...     ...        ...      ...\n",
       "96   17.10.2016 12:37:09  woman   170.0       39.0      1.0\n",
       "97   17.10.2016 13:12:48  woman   183.0       39.0      1.0\n",
       "98   19.10.2016 17:07:53  woman   173.0       40.0      1.0\n",
       "99   29.10.2016 20:28:33  woman   160.0       37.0      1.0\n",
       "100  30.10.2016 11:57:57  woman   168.0       39.0      1.0\n",
       "\n",
       "[101 rows x 5 columns]"
      ]
     },
     "execution_count": 16,
     "metadata": {},
     "output_type": "execute_result"
    }
   ],
   "source": [
    "shoesize_height"
   ]
  },
  {
   "cell_type": "markdown",
   "metadata": {},
   "source": [
    "This is a general way how to convert values. In fact, in this case you can use the in-build Pandas method\n",
    "\n",
    "                                            .replace('zero', 0)\n",
    "                                            \n",
    "in this example all string values *zero* are replaced with the number 0. \n",
    "                                            "
   ]
  }
 ],
 "metadata": {
  "kernelspec": {
   "display_name": "Python 3",
   "language": "python",
   "name": "python3"
  },
  "language_info": {
   "codemirror_mode": {
    "name": "ipython",
    "version": 3
   },
   "file_extension": ".py",
   "mimetype": "text/x-python",
   "name": "python",
   "nbconvert_exporter": "python",
   "pygments_lexer": "ipython3",
   "version": "3.9.17"
  }
 },
 "nbformat": 4,
 "nbformat_minor": 4
}
