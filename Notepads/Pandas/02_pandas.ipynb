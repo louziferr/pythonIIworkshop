{
 "cells": [
  {
   "cell_type": "markdown",
   "metadata": {},
   "source": [
    "### Requirements"
   ]
  },
  {
   "cell_type": "code",
   "execution_count": 2,
   "metadata": {},
   "outputs": [
    {
     "name": "stdout",
     "output_type": "stream",
     "text": [
      "Intel MKL WARNING: Support of Intel(R) Streaming SIMD Extensions 4.2 (Intel(R) SSE4.2) enabled only processors has been deprecated. Intel oneAPI Math Kernel Library 2025.0 will require Intel(R) Advanced Vector Extensions (Intel(R) AVX) instructions.\n",
      "Intel MKL WARNING: Support of Intel(R) Streaming SIMD Extensions 4.2 (Intel(R) SSE4.2) enabled only processors has been deprecated. Intel oneAPI Math Kernel Library 2025.0 will require Intel(R) Advanced Vector Extensions (Intel(R) AVX) instructions.\n"
     ]
    }
   ],
   "source": [
    "import pandas as pd\n",
    "\n",
    "# for plotting\n",
    "import matplotlib.pyplot as plt"
   ]
  },
  {
   "cell_type": "markdown",
   "metadata": {},
   "source": [
    "# 9. Pandas: Basic Functions and Operations"
   ]
  },
  {
   "cell_type": "markdown",
   "metadata": {},
   "source": [
    "### Importing and Exporting data\n",
    "Pandas makes it easy to import and export data with various formats. To name a few:\n",
    "\n",
    "|Format| reader | writer|\n",
    "|---- |----|----|\n",
    "|MS Excel| \tread_excel| \tto_excel|\n",
    "|CSV |  \tread_csv |\tto_csv|\n",
    "|HDF5|      read_hdf |\tto_hdf|\n",
    "|HTML|  \tread_html |\tto_html|\n",
    "|Stata| \tread_stata |\tto_stata|\n",
    "\n",
    "\n",
    "\n",
    "When you write *pd.read_* and press tab, you can see what kind of data formats are supported. "
   ]
  },
  {
   "cell_type": "code",
   "execution_count": 32,
   "metadata": {},
   "outputs": [
    {
     "ename": "AttributeError",
     "evalue": "module 'pandas' has no attribute 'read_'",
     "output_type": "error",
     "traceback": [
      "\u001b[0;31m---------------------------------------------------------------------------\u001b[0m",
      "\u001b[0;31mAttributeError\u001b[0m                            Traceback (most recent call last)",
      "\u001b[0;32m<ipython-input-32-4b6833fb18a3>\u001b[0m in \u001b[0;36m<module>\u001b[0;34m\u001b[0m\n\u001b[0;32m----> 1\u001b[0;31m \u001b[0mpd\u001b[0m\u001b[0;34m.\u001b[0m\u001b[0mread_\u001b[0m\u001b[0;34m\u001b[0m\u001b[0;34m\u001b[0m\u001b[0m\n\u001b[0m",
      "\u001b[0;32m~/anaconda3/lib/python3.8/site-packages/pandas/__init__.py\u001b[0m in \u001b[0;36m__getattr__\u001b[0;34m(name)\u001b[0m\n\u001b[1;32m    256\u001b[0m             \u001b[0;32mreturn\u001b[0m \u001b[0m_SparseArray\u001b[0m\u001b[0;34m\u001b[0m\u001b[0;34m\u001b[0m\u001b[0m\n\u001b[1;32m    257\u001b[0m \u001b[0;34m\u001b[0m\u001b[0m\n\u001b[0;32m--> 258\u001b[0;31m         \u001b[0;32mraise\u001b[0m \u001b[0mAttributeError\u001b[0m\u001b[0;34m(\u001b[0m\u001b[0;34mf\"module 'pandas' has no attribute '{name}'\"\u001b[0m\u001b[0;34m)\u001b[0m\u001b[0;34m\u001b[0m\u001b[0;34m\u001b[0m\u001b[0m\n\u001b[0m\u001b[1;32m    259\u001b[0m \u001b[0;34m\u001b[0m\u001b[0m\n\u001b[1;32m    260\u001b[0m \u001b[0;34m\u001b[0m\u001b[0m\n",
      "\u001b[0;31mAttributeError\u001b[0m: module 'pandas' has no attribute 'read_'"
     ]
    }
   ],
   "source": [
    "pd.read_"
   ]
  },
  {
   "cell_type": "markdown",
   "metadata": {},
   "source": [
    "e.g. with the method\n",
    "\n",
    "                                        pd.read_csv(csv_file)\n",
    "                                        \n",
    "you can load data directly into a Pandas DataFrame. For *csv_file* you can either specify the local filename (saved on your computer) or use an internet address. \n",
    "\n",
    "CSV means comma separated values. It is just a text file and you can open it with any texteditor. Normally the first row contains the comma separated column names and subsequently every row is one data sample where the individual features are separated by a comma.\n",
    "\n",
    "Sometimes not the comma is the separator, but other symbols like the semicolon. Then you can use the *delimiter=* argument. When you want to skip the first rows of the file, because they contain some description, you can use the *skiprows=* argument. There are also many other arguments.\n",
    "When you have problems with importing data from a csv file, you should definitely take a look at the documentation\n",
    "\n",
    "https://pandas.pydata.org/docs/reference/api/pandas.read_csv.html\n",
    "\n"
   ]
  },
  {
   "cell_type": "code",
   "execution_count": 3,
   "metadata": {},
   "outputs": [
    {
     "data": {
      "text/html": [
       "<div>\n",
       "<style scoped>\n",
       "    .dataframe tbody tr th:only-of-type {\n",
       "        vertical-align: middle;\n",
       "    }\n",
       "\n",
       "    .dataframe tbody tr th {\n",
       "        vertical-align: top;\n",
       "    }\n",
       "\n",
       "    .dataframe thead th {\n",
       "        text-align: right;\n",
       "    }\n",
       "</style>\n",
       "<table border=\"1\" class=\"dataframe\">\n",
       "  <thead>\n",
       "    <tr style=\"text-align: right;\">\n",
       "      <th></th>\n",
       "      <th>time</th>\n",
       "      <th>gender</th>\n",
       "      <th>height</th>\n",
       "      <th>shoe_size</th>\n",
       "    </tr>\n",
       "  </thead>\n",
       "  <tbody>\n",
       "    <tr>\n",
       "      <th>0</th>\n",
       "      <td>04.10.2016 17:58:51</td>\n",
       "      <td>woman</td>\n",
       "      <td>160.0</td>\n",
       "      <td>40.0</td>\n",
       "    </tr>\n",
       "    <tr>\n",
       "      <th>1</th>\n",
       "      <td>04.10.2016 17:58:59</td>\n",
       "      <td>woman</td>\n",
       "      <td>171.0</td>\n",
       "      <td>39.0</td>\n",
       "    </tr>\n",
       "    <tr>\n",
       "      <th>2</th>\n",
       "      <td>04.10.2016 18:00:15</td>\n",
       "      <td>woman</td>\n",
       "      <td>174.0</td>\n",
       "      <td>39.0</td>\n",
       "    </tr>\n",
       "    <tr>\n",
       "      <th>3</th>\n",
       "      <td>04.10.2016 18:01:17</td>\n",
       "      <td>woman</td>\n",
       "      <td>176.0</td>\n",
       "      <td>40.0</td>\n",
       "    </tr>\n",
       "    <tr>\n",
       "      <th>4</th>\n",
       "      <td>04.10.2016 18:01:22</td>\n",
       "      <td>man</td>\n",
       "      <td>195.0</td>\n",
       "      <td>46.0</td>\n",
       "    </tr>\n",
       "    <tr>\n",
       "      <th>...</th>\n",
       "      <td>...</td>\n",
       "      <td>...</td>\n",
       "      <td>...</td>\n",
       "      <td>...</td>\n",
       "    </tr>\n",
       "    <tr>\n",
       "      <th>96</th>\n",
       "      <td>17.10.2016 12:37:09</td>\n",
       "      <td>woman</td>\n",
       "      <td>170.0</td>\n",
       "      <td>39.0</td>\n",
       "    </tr>\n",
       "    <tr>\n",
       "      <th>97</th>\n",
       "      <td>17.10.2016 13:12:48</td>\n",
       "      <td>woman</td>\n",
       "      <td>183.0</td>\n",
       "      <td>39.0</td>\n",
       "    </tr>\n",
       "    <tr>\n",
       "      <th>98</th>\n",
       "      <td>19.10.2016 17:07:53</td>\n",
       "      <td>woman</td>\n",
       "      <td>173.0</td>\n",
       "      <td>40.0</td>\n",
       "    </tr>\n",
       "    <tr>\n",
       "      <th>99</th>\n",
       "      <td>29.10.2016 20:28:33</td>\n",
       "      <td>woman</td>\n",
       "      <td>160.0</td>\n",
       "      <td>37.0</td>\n",
       "    </tr>\n",
       "    <tr>\n",
       "      <th>100</th>\n",
       "      <td>30.10.2016 11:57:57</td>\n",
       "      <td>woman</td>\n",
       "      <td>168.0</td>\n",
       "      <td>39.0</td>\n",
       "    </tr>\n",
       "  </tbody>\n",
       "</table>\n",
       "<p>101 rows × 4 columns</p>\n",
       "</div>"
      ],
      "text/plain": [
       "                    time gender  height  shoe_size\n",
       "0    04.10.2016 17:58:51  woman   160.0       40.0\n",
       "1    04.10.2016 17:58:59  woman   171.0       39.0\n",
       "2    04.10.2016 18:00:15  woman   174.0       39.0\n",
       "3    04.10.2016 18:01:17  woman   176.0       40.0\n",
       "4    04.10.2016 18:01:22    man   195.0       46.0\n",
       "..                   ...    ...     ...        ...\n",
       "96   17.10.2016 12:37:09  woman   170.0       39.0\n",
       "97   17.10.2016 13:12:48  woman   183.0       39.0\n",
       "98   19.10.2016 17:07:53  woman   173.0       40.0\n",
       "99   29.10.2016 20:28:33  woman   160.0       37.0\n",
       "100  30.10.2016 11:57:57  woman   168.0       39.0\n",
       "\n",
       "[101 rows x 4 columns]"
      ]
     },
     "execution_count": 3,
     "metadata": {},
     "output_type": "execute_result"
    }
   ],
   "source": [
    "# We will load some data from the file wo_men.csv\n",
    "\n",
    "shoesizes_height = pd.read_csv(\"wo_men.csv\")\n",
    "\n",
    "shoesizes_height "
   ]
  },
  {
   "cell_type": "code",
   "execution_count": 4,
   "metadata": {
    "scrolled": true
   },
   "outputs": [
    {
     "data": {
      "text/html": [
       "<div>\n",
       "<style scoped>\n",
       "    .dataframe tbody tr th:only-of-type {\n",
       "        vertical-align: middle;\n",
       "    }\n",
       "\n",
       "    .dataframe tbody tr th {\n",
       "        vertical-align: top;\n",
       "    }\n",
       "\n",
       "    .dataframe thead th {\n",
       "        text-align: right;\n",
       "    }\n",
       "</style>\n",
       "<table border=\"1\" class=\"dataframe\">\n",
       "  <thead>\n",
       "    <tr style=\"text-align: right;\">\n",
       "      <th></th>\n",
       "      <th>time</th>\n",
       "      <th>gender</th>\n",
       "      <th>height</th>\n",
       "      <th>shoe_size</th>\n",
       "    </tr>\n",
       "  </thead>\n",
       "  <tbody>\n",
       "    <tr>\n",
       "      <th>0</th>\n",
       "      <td>04.10.2016 17:58:51</td>\n",
       "      <td>woman</td>\n",
       "      <td>160.0</td>\n",
       "      <td>40.0</td>\n",
       "    </tr>\n",
       "    <tr>\n",
       "      <th>1</th>\n",
       "      <td>04.10.2016 17:58:59</td>\n",
       "      <td>woman</td>\n",
       "      <td>171.0</td>\n",
       "      <td>39.0</td>\n",
       "    </tr>\n",
       "    <tr>\n",
       "      <th>2</th>\n",
       "      <td>04.10.2016 18:00:15</td>\n",
       "      <td>woman</td>\n",
       "      <td>174.0</td>\n",
       "      <td>39.0</td>\n",
       "    </tr>\n",
       "    <tr>\n",
       "      <th>3</th>\n",
       "      <td>04.10.2016 18:01:17</td>\n",
       "      <td>woman</td>\n",
       "      <td>176.0</td>\n",
       "      <td>40.0</td>\n",
       "    </tr>\n",
       "    <tr>\n",
       "      <th>4</th>\n",
       "      <td>04.10.2016 18:01:22</td>\n",
       "      <td>man</td>\n",
       "      <td>195.0</td>\n",
       "      <td>46.0</td>\n",
       "    </tr>\n",
       "  </tbody>\n",
       "</table>\n",
       "</div>"
      ],
      "text/plain": [
       "                  time gender  height  shoe_size\n",
       "0  04.10.2016 17:58:51  woman   160.0       40.0\n",
       "1  04.10.2016 17:58:59  woman   171.0       39.0\n",
       "2  04.10.2016 18:00:15  woman   174.0       39.0\n",
       "3  04.10.2016 18:01:17  woman   176.0       40.0\n",
       "4  04.10.2016 18:01:22    man   195.0       46.0"
      ]
     },
     "execution_count": 4,
     "metadata": {},
     "output_type": "execute_result"
    }
   ],
   "source": [
    "# print out just the first 5 rows to get an idea\n",
    "# especially useful when you have huge data sets\n",
    "shoesizes_height.head() "
   ]
  },
  {
   "cell_type": "markdown",
   "metadata": {},
   "source": [
    "### Converting to Numpy\n",
    "\n",
    "With the operation \n",
    "\n",
    "                        .to_numpy()\n",
    "                        \n",
    "you can convert a DataFrame or a Series to a numpy array.\n",
    "\n",
    "In the following cell we want to create a numpy matrix from the two columns gender and height."
   ]
  },
  {
   "cell_type": "code",
   "execution_count": 5,
   "metadata": {},
   "outputs": [
    {
     "data": {
      "text/plain": [
       "array([['woman', 160.0],\n",
       "       ['woman', 171.0],\n",
       "       ['woman', 174.0],\n",
       "       ['woman', 176.0],\n",
       "       ['man', 195.0],\n",
       "       ['woman', 157.0],\n",
       "       ['woman', 160.0],\n",
       "       ['woman', 178.0],\n",
       "       ['woman', 168.0],\n",
       "       ['man', 171.0],\n",
       "       ['woman', 165.0],\n",
       "       ['man', 175.0],\n",
       "       ['woman', 163.0],\n",
       "       ['woman', 158.0],\n",
       "       ['woman', 159.0],\n",
       "       ['man', 183.0],\n",
       "       ['woman', 155.0],\n",
       "       ['woman', 172.0],\n",
       "       ['woman', 164.0],\n",
       "       ['woman', 158.0],\n",
       "       ['woman', 174.0],\n",
       "       ['woman', 164.0],\n",
       "       ['woman', 168.0],\n",
       "       ['woman', 168.0],\n",
       "       ['woman', 163.0],\n",
       "       ['woman', 160.0],\n",
       "       ['man', 183.0],\n",
       "       ['woman', 161.0],\n",
       "       ['woman', 162.0],\n",
       "       ['woman', 165.0],\n",
       "       ['woman', 164.0],\n",
       "       ['woman', 161.0],\n",
       "       ['woman', 163.0],\n",
       "       ['woman', 169.0],\n",
       "       ['woman', 171.0],\n",
       "       ['woman', 163.0],\n",
       "       ['woman', 159.0],\n",
       "       ['woman', 180.0],\n",
       "       ['woman', 168.0],\n",
       "       ['woman', 170.0],\n",
       "       ['woman', 168.0],\n",
       "       ['man', 180.0],\n",
       "       ['man', 183.0],\n",
       "       ['woman', 170.0],\n",
       "       ['woman', 172.0],\n",
       "       ['woman', 163.0],\n",
       "       ['woman', 168.0],\n",
       "       ['woman', 1.84],\n",
       "       ['woman', 169.0],\n",
       "       ['man', 206.0],\n",
       "       ['woman', 165.0],\n",
       "       ['woman', 171.0],\n",
       "       ['woman', 165.0],\n",
       "       ['woman', 168.0],\n",
       "       ['man', 180.0],\n",
       "       ['woman', 160.0],\n",
       "       ['man', 183.0],\n",
       "       ['woman', 160.0],\n",
       "       ['woman', 171.0],\n",
       "       ['woman', 167.0],\n",
       "       ['woman', 172.0],\n",
       "       ['woman', 1.63],\n",
       "       ['woman', 173.0],\n",
       "       ['man', 187.0],\n",
       "       ['woman', 176.0],\n",
       "       ['man', 180.0],\n",
       "       ['woman', 171.5],\n",
       "       ['woman', 364.0],\n",
       "       ['woman', 168.0],\n",
       "       ['woman', 175.0],\n",
       "       ['man', 185.0],\n",
       "       ['man', 205.0],\n",
       "       ['woman', 165.0],\n",
       "       ['man', 175.0],\n",
       "       ['man', 175.0],\n",
       "       ['man', 172.0],\n",
       "       ['woman', 156.0],\n",
       "       ['woman', 1.68],\n",
       "       ['woman', 163.0],\n",
       "       ['woman', 163.0],\n",
       "       ['woman', 1.73],\n",
       "       ['woman', 169.0],\n",
       "       ['woman', 178.0],\n",
       "       ['woman', 170.0],\n",
       "       ['woman', 168.0],\n",
       "       [nan, nan],\n",
       "       ['woman', 170.0],\n",
       "       ['woman', 173.0],\n",
       "       ['woman', 171.0],\n",
       "       ['woman', 163.0],\n",
       "       ['woman', 166.0],\n",
       "       ['woman', 159.0],\n",
       "       ['woman', 178.0],\n",
       "       ['man', 178.0],\n",
       "       ['woman', 169.0],\n",
       "       ['woman', 158.0],\n",
       "       ['woman', 170.0],\n",
       "       ['woman', 183.0],\n",
       "       ['woman', 173.0],\n",
       "       ['woman', 160.0],\n",
       "       ['woman', 168.0]], dtype=object)"
      ]
     },
     "execution_count": 5,
     "metadata": {},
     "output_type": "execute_result"
    }
   ],
   "source": [
    "shoesizes_height[['gender', 'height']].to_numpy()"
   ]
  },
  {
   "cell_type": "markdown",
   "metadata": {},
   "source": [
    "### Delete data\n",
    "\n",
    "Because the time column is useless, we want to delete it with the pandas function:\n",
    "\n",
    "                                        data_frame.drop(c_labels, axis=1)\n",
    "                                        \n",
    "The axis is one because we want to delete columns. If we want to delete rows, then axis would be 0.\n",
    "\n",
    "For *c_labels* we need the exact column name of the columns that we want to delete.\n",
    "\n",
    "First we check which columns are available"
   ]
  },
  {
   "cell_type": "code",
   "execution_count": 6,
   "metadata": {},
   "outputs": [
    {
     "data": {
      "text/plain": [
       "Index(['time', 'gender', 'height', 'shoe_size'], dtype='object')"
      ]
     },
     "execution_count": 6,
     "metadata": {},
     "output_type": "execute_result"
    }
   ],
   "source": [
    "shoesizes_height.columns"
   ]
  },
  {
   "cell_type": "markdown",
   "metadata": {},
   "source": [
    "Now we delete 'time'"
   ]
  },
  {
   "cell_type": "code",
   "execution_count": 7,
   "metadata": {
    "scrolled": true
   },
   "outputs": [],
   "source": [
    "shoesizes_height = shoesizes_height.drop(['time'], axis=1)"
   ]
  },
  {
   "cell_type": "code",
   "execution_count": 8,
   "metadata": {},
   "outputs": [
    {
     "data": {
      "text/html": [
       "<div>\n",
       "<style scoped>\n",
       "    .dataframe tbody tr th:only-of-type {\n",
       "        vertical-align: middle;\n",
       "    }\n",
       "\n",
       "    .dataframe tbody tr th {\n",
       "        vertical-align: top;\n",
       "    }\n",
       "\n",
       "    .dataframe thead th {\n",
       "        text-align: right;\n",
       "    }\n",
       "</style>\n",
       "<table border=\"1\" class=\"dataframe\">\n",
       "  <thead>\n",
       "    <tr style=\"text-align: right;\">\n",
       "      <th></th>\n",
       "      <th>gender</th>\n",
       "      <th>height</th>\n",
       "      <th>shoe_size</th>\n",
       "    </tr>\n",
       "  </thead>\n",
       "  <tbody>\n",
       "    <tr>\n",
       "      <th>0</th>\n",
       "      <td>woman</td>\n",
       "      <td>160.0</td>\n",
       "      <td>40.0</td>\n",
       "    </tr>\n",
       "    <tr>\n",
       "      <th>1</th>\n",
       "      <td>woman</td>\n",
       "      <td>171.0</td>\n",
       "      <td>39.0</td>\n",
       "    </tr>\n",
       "    <tr>\n",
       "      <th>2</th>\n",
       "      <td>woman</td>\n",
       "      <td>174.0</td>\n",
       "      <td>39.0</td>\n",
       "    </tr>\n",
       "    <tr>\n",
       "      <th>3</th>\n",
       "      <td>woman</td>\n",
       "      <td>176.0</td>\n",
       "      <td>40.0</td>\n",
       "    </tr>\n",
       "    <tr>\n",
       "      <th>4</th>\n",
       "      <td>man</td>\n",
       "      <td>195.0</td>\n",
       "      <td>46.0</td>\n",
       "    </tr>\n",
       "    <tr>\n",
       "      <th>...</th>\n",
       "      <td>...</td>\n",
       "      <td>...</td>\n",
       "      <td>...</td>\n",
       "    </tr>\n",
       "    <tr>\n",
       "      <th>96</th>\n",
       "      <td>woman</td>\n",
       "      <td>170.0</td>\n",
       "      <td>39.0</td>\n",
       "    </tr>\n",
       "    <tr>\n",
       "      <th>97</th>\n",
       "      <td>woman</td>\n",
       "      <td>183.0</td>\n",
       "      <td>39.0</td>\n",
       "    </tr>\n",
       "    <tr>\n",
       "      <th>98</th>\n",
       "      <td>woman</td>\n",
       "      <td>173.0</td>\n",
       "      <td>40.0</td>\n",
       "    </tr>\n",
       "    <tr>\n",
       "      <th>99</th>\n",
       "      <td>woman</td>\n",
       "      <td>160.0</td>\n",
       "      <td>37.0</td>\n",
       "    </tr>\n",
       "    <tr>\n",
       "      <th>100</th>\n",
       "      <td>woman</td>\n",
       "      <td>168.0</td>\n",
       "      <td>39.0</td>\n",
       "    </tr>\n",
       "  </tbody>\n",
       "</table>\n",
       "<p>101 rows × 3 columns</p>\n",
       "</div>"
      ],
      "text/plain": [
       "    gender  height  shoe_size\n",
       "0    woman   160.0       40.0\n",
       "1    woman   171.0       39.0\n",
       "2    woman   174.0       39.0\n",
       "3    woman   176.0       40.0\n",
       "4      man   195.0       46.0\n",
       "..     ...     ...        ...\n",
       "96   woman   170.0       39.0\n",
       "97   woman   183.0       39.0\n",
       "98   woman   173.0       40.0\n",
       "99   woman   160.0       37.0\n",
       "100  woman   168.0       39.0\n",
       "\n",
       "[101 rows x 3 columns]"
      ]
     },
     "execution_count": 8,
     "metadata": {},
     "output_type": "execute_result"
    }
   ],
   "source": [
    "shoesizes_height"
   ]
  },
  {
   "cell_type": "markdown",
   "metadata": {},
   "source": [
    "### Descritptive Statistics\n",
    "\n",
    "1. The **sum** of all shoesizes "
   ]
  },
  {
   "cell_type": "code",
   "execution_count": 9,
   "metadata": {},
   "outputs": [
    {
     "data": {
      "text/plain": [
       "3977.5"
      ]
     },
     "execution_count": 9,
     "metadata": {},
     "output_type": "execute_result"
    }
   ],
   "source": [
    "shoesizes_height['shoe_size'].sum()"
   ]
  },
  {
   "cell_type": "markdown",
   "metadata": {},
   "source": [
    "2. The **mean** shoe size"
   ]
  },
  {
   "cell_type": "code",
   "execution_count": 11,
   "metadata": {},
   "outputs": [
    {
     "data": {
      "text/plain": [
       "39.775"
      ]
     },
     "execution_count": 11,
     "metadata": {},
     "output_type": "execute_result"
    }
   ],
   "source": [
    "shoesizes_height['shoe_size'].mean()"
   ]
  },
  {
   "cell_type": "markdown",
   "metadata": {},
   "source": [
    "3. Sample **standard deviation** of shoe size"
   ]
  },
  {
   "cell_type": "code",
   "execution_count": 13,
   "metadata": {},
   "outputs": [
    {
     "data": {
      "text/plain": [
       "5.556130020804123"
      ]
     },
     "execution_count": 13,
     "metadata": {},
     "output_type": "execute_result"
    }
   ],
   "source": [
    "shoesizes_height['shoe_size'].std()"
   ]
  },
  {
   "cell_type": "markdown",
   "metadata": {},
   "source": [
    "5. **Summary statistics** "
   ]
  },
  {
   "cell_type": "code",
   "execution_count": 15,
   "metadata": {},
   "outputs": [
    {
     "data": {
      "text/plain": [
       "count    100.00000\n",
       "mean      39.77500\n",
       "std        5.55613\n",
       "min       35.00000\n",
       "25%       38.00000\n",
       "50%       39.00000\n",
       "75%       40.00000\n",
       "max       88.00000\n",
       "Name: shoe_size, dtype: float64"
      ]
     },
     "execution_count": 15,
     "metadata": {},
     "output_type": "execute_result"
    }
   ],
   "source": [
    "# for column population\n",
    "shoesizes_height['shoe_size'].describe()"
   ]
  },
  {
   "cell_type": "code",
   "execution_count": 16,
   "metadata": {
    "scrolled": true
   },
   "outputs": [
    {
     "data": {
      "text/html": [
       "<div>\n",
       "<style scoped>\n",
       "    .dataframe tbody tr th:only-of-type {\n",
       "        vertical-align: middle;\n",
       "    }\n",
       "\n",
       "    .dataframe tbody tr th {\n",
       "        vertical-align: top;\n",
       "    }\n",
       "\n",
       "    .dataframe thead th {\n",
       "        text-align: right;\n",
       "    }\n",
       "</style>\n",
       "<table border=\"1\" class=\"dataframe\">\n",
       "  <thead>\n",
       "    <tr style=\"text-align: right;\">\n",
       "      <th></th>\n",
       "      <th>height</th>\n",
       "      <th>shoe_size</th>\n",
       "    </tr>\n",
       "  </thead>\n",
       "  <tbody>\n",
       "    <tr>\n",
       "      <th>count</th>\n",
       "      <td>100.000000</td>\n",
       "      <td>100.00000</td>\n",
       "    </tr>\n",
       "    <tr>\n",
       "      <th>mean</th>\n",
       "      <td>165.233800</td>\n",
       "      <td>39.77500</td>\n",
       "    </tr>\n",
       "    <tr>\n",
       "      <th>std</th>\n",
       "      <td>39.817544</td>\n",
       "      <td>5.55613</td>\n",
       "    </tr>\n",
       "    <tr>\n",
       "      <th>min</th>\n",
       "      <td>1.630000</td>\n",
       "      <td>35.00000</td>\n",
       "    </tr>\n",
       "    <tr>\n",
       "      <th>25%</th>\n",
       "      <td>163.000000</td>\n",
       "      <td>38.00000</td>\n",
       "    </tr>\n",
       "    <tr>\n",
       "      <th>50%</th>\n",
       "      <td>168.500000</td>\n",
       "      <td>39.00000</td>\n",
       "    </tr>\n",
       "    <tr>\n",
       "      <th>75%</th>\n",
       "      <td>174.250000</td>\n",
       "      <td>40.00000</td>\n",
       "    </tr>\n",
       "    <tr>\n",
       "      <th>max</th>\n",
       "      <td>364.000000</td>\n",
       "      <td>88.00000</td>\n",
       "    </tr>\n",
       "  </tbody>\n",
       "</table>\n",
       "</div>"
      ],
      "text/plain": [
       "           height  shoe_size\n",
       "count  100.000000  100.00000\n",
       "mean   165.233800   39.77500\n",
       "std     39.817544    5.55613\n",
       "min      1.630000   35.00000\n",
       "25%    163.000000   38.00000\n",
       "50%    168.500000   39.00000\n",
       "75%    174.250000   40.00000\n",
       "max    364.000000   88.00000"
      ]
     },
     "execution_count": 16,
     "metadata": {},
     "output_type": "execute_result"
    }
   ],
   "source": [
    "# for all columns\n",
    "shoesizes_height.describe()"
   ]
  },
  {
   "cell_type": "code",
   "execution_count": 17,
   "metadata": {
    "scrolled": true
   },
   "outputs": [
    {
     "name": "stdout",
     "output_type": "stream",
     "text": [
      "<class 'pandas.core.frame.DataFrame'>\n",
      "RangeIndex: 101 entries, 0 to 100\n",
      "Data columns (total 3 columns):\n",
      " #   Column     Non-Null Count  Dtype  \n",
      "---  ------     --------------  -----  \n",
      " 0   gender     100 non-null    object \n",
      " 1   height     100 non-null    float64\n",
      " 2   shoe_size  100 non-null    float64\n",
      "dtypes: float64(2), object(1)\n",
      "memory usage: 2.5+ KB\n"
     ]
    }
   ],
   "source": [
    "# Get data types per column\n",
    "shoesizes_height.info()"
   ]
  },
  {
   "cell_type": "markdown",
   "metadata": {},
   "source": [
    "### Function application\n",
    "\n",
    "These were all methods from the pandas library. If you want to apply your own function or a function from another library to a pandas DataFrame, use the\n",
    "      \n",
    "                                            apply()\n",
    "                                    \n",
    "method for row/ column wise application.\n",
    "\n",
    "Example: In our data set, the height and shoe size of women and men are collected. \n",
    "\n",
    "For further processing we want to convert the height of them to the strings \"small\" or \"tall\"."
   ]
  },
  {
   "cell_type": "code",
   "execution_count": 24,
   "metadata": {},
   "outputs": [],
   "source": [
    "def convert_height(height):\n",
    "    if height < 170:\n",
    "        return \"small\"\n",
    "    return \"tall\"\n",
    "\n",
    "shoesizes_height['height2'] = shoesizes_height['height'].apply(convert_height)"
   ]
  },
  {
   "cell_type": "code",
   "execution_count": 25,
   "metadata": {
    "scrolled": true
   },
   "outputs": [
    {
     "data": {
      "text/html": [
       "<div>\n",
       "<style scoped>\n",
       "    .dataframe tbody tr th:only-of-type {\n",
       "        vertical-align: middle;\n",
       "    }\n",
       "\n",
       "    .dataframe tbody tr th {\n",
       "        vertical-align: top;\n",
       "    }\n",
       "\n",
       "    .dataframe thead th {\n",
       "        text-align: right;\n",
       "    }\n",
       "</style>\n",
       "<table border=\"1\" class=\"dataframe\">\n",
       "  <thead>\n",
       "    <tr style=\"text-align: right;\">\n",
       "      <th></th>\n",
       "      <th>gender</th>\n",
       "      <th>height</th>\n",
       "      <th>shoe_size</th>\n",
       "      <th>height2</th>\n",
       "    </tr>\n",
       "  </thead>\n",
       "  <tbody>\n",
       "    <tr>\n",
       "      <th>0</th>\n",
       "      <td>woman</td>\n",
       "      <td>160.0</td>\n",
       "      <td>40.0</td>\n",
       "      <td>small</td>\n",
       "    </tr>\n",
       "    <tr>\n",
       "      <th>1</th>\n",
       "      <td>woman</td>\n",
       "      <td>171.0</td>\n",
       "      <td>39.0</td>\n",
       "      <td>tall</td>\n",
       "    </tr>\n",
       "    <tr>\n",
       "      <th>2</th>\n",
       "      <td>woman</td>\n",
       "      <td>174.0</td>\n",
       "      <td>39.0</td>\n",
       "      <td>tall</td>\n",
       "    </tr>\n",
       "    <tr>\n",
       "      <th>3</th>\n",
       "      <td>woman</td>\n",
       "      <td>176.0</td>\n",
       "      <td>40.0</td>\n",
       "      <td>tall</td>\n",
       "    </tr>\n",
       "    <tr>\n",
       "      <th>4</th>\n",
       "      <td>man</td>\n",
       "      <td>195.0</td>\n",
       "      <td>46.0</td>\n",
       "      <td>tall</td>\n",
       "    </tr>\n",
       "    <tr>\n",
       "      <th>...</th>\n",
       "      <td>...</td>\n",
       "      <td>...</td>\n",
       "      <td>...</td>\n",
       "      <td>...</td>\n",
       "    </tr>\n",
       "    <tr>\n",
       "      <th>96</th>\n",
       "      <td>woman</td>\n",
       "      <td>170.0</td>\n",
       "      <td>39.0</td>\n",
       "      <td>tall</td>\n",
       "    </tr>\n",
       "    <tr>\n",
       "      <th>97</th>\n",
       "      <td>woman</td>\n",
       "      <td>183.0</td>\n",
       "      <td>39.0</td>\n",
       "      <td>tall</td>\n",
       "    </tr>\n",
       "    <tr>\n",
       "      <th>98</th>\n",
       "      <td>woman</td>\n",
       "      <td>173.0</td>\n",
       "      <td>40.0</td>\n",
       "      <td>tall</td>\n",
       "    </tr>\n",
       "    <tr>\n",
       "      <th>99</th>\n",
       "      <td>woman</td>\n",
       "      <td>160.0</td>\n",
       "      <td>37.0</td>\n",
       "      <td>small</td>\n",
       "    </tr>\n",
       "    <tr>\n",
       "      <th>100</th>\n",
       "      <td>woman</td>\n",
       "      <td>168.0</td>\n",
       "      <td>39.0</td>\n",
       "      <td>small</td>\n",
       "    </tr>\n",
       "  </tbody>\n",
       "</table>\n",
       "<p>101 rows × 4 columns</p>\n",
       "</div>"
      ],
      "text/plain": [
       "    gender  height  shoe_size height2\n",
       "0    woman   160.0       40.0   small\n",
       "1    woman   171.0       39.0    tall\n",
       "2    woman   174.0       39.0    tall\n",
       "3    woman   176.0       40.0    tall\n",
       "4      man   195.0       46.0    tall\n",
       "..     ...     ...        ...     ...\n",
       "96   woman   170.0       39.0    tall\n",
       "97   woman   183.0       39.0    tall\n",
       "98   woman   173.0       40.0    tall\n",
       "99   woman   160.0       37.0   small\n",
       "100  woman   168.0       39.0   small\n",
       "\n",
       "[101 rows x 4 columns]"
      ]
     },
     "execution_count": 25,
     "metadata": {},
     "output_type": "execute_result"
    }
   ],
   "source": [
    "shoesizes_height"
   ]
  },
  {
   "cell_type": "markdown",
   "metadata": {},
   "source": [
    "This is a general way how to convert values. In fact, in this case you can use the in-build Pandas method\n",
    "\n",
    "                                            .replace('zero', 0)\n",
    "                                            \n",
    "in this example all string values *zero* are replaced with the number 0. \n",
    "                                            "
   ]
  }
 ],
 "metadata": {
  "kernelspec": {
   "display_name": "Python 3",
   "language": "python",
   "name": "python3"
  },
  "language_info": {
   "codemirror_mode": {
    "name": "ipython",
    "version": 3
   },
   "file_extension": ".py",
   "mimetype": "text/x-python",
   "name": "python",
   "nbconvert_exporter": "python",
   "pygments_lexer": "ipython3",
   "version": "3.12.0"
  }
 },
 "nbformat": 4,
 "nbformat_minor": 4
}
