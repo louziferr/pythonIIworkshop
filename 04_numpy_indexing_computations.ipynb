{
 "cells": [
  {
   "cell_type": "markdown",
   "metadata": {},
   "source": [
    "### Requirements"
   ]
  },
  {
   "cell_type": "code",
   "execution_count": 2,
   "metadata": {},
   "outputs": [],
   "source": [
    "import numpy as np\n",
    "\n",
    "# for measuring execution time\n",
    "import time"
   ]
  },
  {
   "cell_type": "markdown",
   "metadata": {},
   "source": [
    "# 2. NumPy: Indexing and Computations\n",
    "\n",
    "### Indexing\n",
    "The indexing is similar to python lists but there're more options. Multidimensional Indexing is supported. That means, if you have more than one dimension, you can but you don't need to put the second dimension's index into it's own brackts. Here's an example: "
   ]
  },
  {
   "cell_type": "code",
   "execution_count": 11,
   "metadata": {},
   "outputs": [
    {
     "name": "stdout",
     "output_type": "stream",
     "text": [
      "0.9700767666048176\n",
      "0.9700767666048176\n"
     ]
    }
   ],
   "source": [
    "# We want to access the seconds element in the first row of the matrix defines above:\n",
    "matrix = np.random.rand(3,3)\n",
    "\n",
    "print(matrix[0][1])    # first option\n",
    "print(matrix[0,1])     # second option using multidimensional indexing."
   ]
  },
  {
   "cell_type": "markdown",
   "metadata": {},
   "source": [
    "Slicing"
   ]
  },
  {
   "cell_type": "code",
   "execution_count": 13,
   "metadata": {},
   "outputs": [
    {
     "data": {
      "text/plain": [
       "array([2, 3, 4, 5, 6, 7, 8])"
      ]
     },
     "execution_count": 13,
     "metadata": {},
     "output_type": "execute_result"
    }
   ],
   "source": [
    "seq = np.arange(0,10)\n",
    "\n",
    "seq[2:9]"
   ]
  },
  {
   "cell_type": "markdown",
   "metadata": {},
   "source": [
    "You can also leave out the index (use everything)\n",
    "or use negative indices to specify the last indices (-1: last item, -2: second last item, and so on)"
   ]
  },
  {
   "cell_type": "code",
   "execution_count": 14,
   "metadata": {},
   "outputs": [
    {
     "data": {
      "text/plain": [
       "(array([0, 1, 2, 3, 4, 5, 6, 7, 8, 9]),\n",
       " array([0, 1, 2, 3, 4, 5]),\n",
       " array([6, 7, 8, 9]),\n",
       " array([6, 7, 8]))"
      ]
     },
     "execution_count": 14,
     "metadata": {},
     "output_type": "execute_result"
    }
   ],
   "source": [
    "seq[:], seq[:6], seq[6:], seq[6:-1]"
   ]
  },
  {
   "cell_type": "code",
   "execution_count": 15,
   "metadata": {},
   "outputs": [
    {
     "data": {
      "text/plain": [
       "array([[0.07746156, 0.05025073],\n",
       "       [0.38222897, 0.13400318]])"
      ]
     },
     "execution_count": 15,
     "metadata": {},
     "output_type": "execute_result"
    }
   ],
   "source": [
    "matrix[1:3, 1:3]"
   ]
  },
  {
   "cell_type": "markdown",
   "metadata": {},
   "source": [
    "Of course you can not only read, but also overwrite the selected values!"
   ]
  },
  {
   "cell_type": "code",
   "execution_count": 16,
   "metadata": {},
   "outputs": [
    {
     "data": {
      "text/plain": [
       "array([[0.34067404, 0.97007677, 0.68313326],\n",
       "       [0.78646672, 0.07746156, 0.05025073],\n",
       "       [0.60357902, 0.38222897, 0.13400318]])"
      ]
     },
     "execution_count": 16,
     "metadata": {},
     "output_type": "execute_result"
    }
   ],
   "source": [
    "matrix"
   ]
  },
  {
   "cell_type": "code",
   "execution_count": 17,
   "metadata": {},
   "outputs": [],
   "source": [
    "matrix[1:3, 1:3] = np.Infinity # This is a marker for \"positive infinity\", e.g. when there are errors in the data"
   ]
  },
  {
   "cell_type": "code",
   "execution_count": 18,
   "metadata": {},
   "outputs": [
    {
     "data": {
      "text/plain": [
       "array([[0.34067404, 0.97007677, 0.68313326],\n",
       "       [0.78646672,        inf,        inf],\n",
       "       [0.60357902,        inf,        inf]])"
      ]
     },
     "execution_count": 18,
     "metadata": {},
     "output_type": "execute_result"
    }
   ],
   "source": [
    "matrix"
   ]
  },
  {
   "cell_type": "markdown",
   "metadata": {},
   "source": [
    "### Operations\n",
    "Operations on numpy arrays are performed elementwise. They're very fast and computationally efficient. That is very helpful if you have a lot of data, imagine an array with 1,000,000 entries! Let's look at an example:"
   ]
  },
  {
   "cell_type": "code",
   "execution_count": 19,
   "metadata": {},
   "outputs": [],
   "source": [
    "# Python lists\n",
    "small_list = [1]    # with one entry\n",
    "large_list = 1000000 * small_list    # repeated 1,000,000 time, thus 1,000,000 entries\n",
    "\n",
    "# to multiply every element in large_list by 5, we have to loop over every element:\n",
    "new_large_list = []\n",
    "for x in large_list:\n",
    "    new_large_list.append(5*x)\n",
    "\n",
    "# or using a list comprehension\n",
    "new_large_list = [5*x for x in large_list]"
   ]
  },
  {
   "cell_type": "markdown",
   "metadata": {},
   "source": [
    "Now: How long does that take??"
   ]
  },
  {
   "cell_type": "code",
   "execution_count": 20,
   "metadata": {},
   "outputs": [
    {
     "name": "stdout",
     "output_type": "stream",
     "text": [
      "0.052763938903808594\n"
     ]
    }
   ],
   "source": [
    "# we'll measure the time before we start looping over the pyhton list:\n",
    "t_start = time.time()\n",
    "# do the looping:\n",
    "new_large_list = [5*x for x in large_list]\n",
    "# measure time again:\n",
    "t_end = time.time()\n",
    "\n",
    "duration = t_end - t_start\n",
    "\n",
    "print(duration)"
   ]
  },
  {
   "cell_type": "markdown",
   "metadata": {},
   "source": [
    "Now using Numpy instead. The operation * is performed **ELEMENTWISE** on numpy arrays, so all we need to do is:"
   ]
  },
  {
   "cell_type": "code",
   "execution_count": 21,
   "metadata": {},
   "outputs": [
    {
     "name": "stdout",
     "output_type": "stream",
     "text": [
      "0.002240896224975586\n"
     ]
    }
   ],
   "source": [
    "# create large numpy array from large_list:\n",
    "large_array = np.array(large_list)\n",
    "\n",
    "# or use the numpy functions that creates however many 1 s as you want:\n",
    "large_array = np.ones(1000000)\n",
    "\n",
    "# How long does it take to multiply each element by 5?\n",
    "t_start = time.time()\n",
    "\n",
    "new_large_array = 5 * large_array\n",
    "\n",
    "t_end = time.time()\n",
    "\n",
    "duration = t_end - t_start\n",
    "\n",
    "print(duration)"
   ]
  },
  {
   "cell_type": "markdown",
   "metadata": {},
   "source": [
    "Some more operations:"
   ]
  },
  {
   "cell_type": "code",
   "execution_count": null,
   "metadata": {},
   "outputs": [],
   "source": [
    "X = np.array([1,2,3])\n",
    "Y = np.array([-1,0.5,2])\n",
    "\n",
    "A = X+Y     # element-wise addition\n",
    "M = X*Y    # element-wise multiplication\n",
    "D = np.dot(X,Y)    # dot product\n",
    "D = X @ Y # alternative syntax for dot product\n",
    "\n",
    "A,M,D"
   ]
  }
 ],
 "metadata": {
  "kernelspec": {
   "display_name": "Python 3",
   "language": "python",
   "name": "python3"
  },
  "language_info": {
   "codemirror_mode": {
    "name": "ipython",
    "version": 3
   },
   "file_extension": ".py",
   "mimetype": "text/x-python",
   "name": "python",
   "nbconvert_exporter": "python",
   "pygments_lexer": "ipython3",
   "version": "3.8.5"
  }
 },
 "nbformat": 4,
 "nbformat_minor": 4
}
