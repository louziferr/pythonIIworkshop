{
 "cells": [
  {
   "cell_type": "markdown",
   "metadata": {},
   "source": [
    "## Clean Python Code\n",
    "\n",
    "\n",
    "![](images/qualitycode.jpeg)\n",
    "\n",
    "### 1. Use long descriptive names"
   ]
  },
  {
   "cell_type": "code",
   "execution_count": null,
   "metadata": {},
   "outputs": [],
   "source": [
    "# Not recommended\n",
    "# The au variable is the number of active users\n",
    "au = 105\n",
    "\n",
    "# Recommended \n",
    "total_active_users = 105"
   ]
  },
  {
   "cell_type": "code",
   "execution_count": null,
   "metadata": {},
   "outputs": [],
   "source": [
    "# Not recommended\n",
    "c = [\"UK\", \"USA\", \"UAE\"]\n",
    "\n",
    "for x in c:\n",
    "    print(x)\n",
    "\n",
    "# Recommended\n",
    "cities = [\"UK\", \"USA\", \"UAE\"]\n",
    "for city in cities:\n",
    "    print(city)\n"
   ]
  },
  {
   "cell_type": "code",
   "execution_count": null,
   "metadata": {},
   "outputs": [],
   "source": [
    "# Not recommended\n",
    "fn = 'John'\n",
    "Ln = 'Doe'\n",
    "cre_tmstp = 1621535852\n",
    "\n",
    "# Recommended\n",
    "first_name = 'JOhn'\n",
    "last_name = 'Doe'\n",
    "creation_timestamp = 1621535852"
   ]
  },
  {
   "cell_type": "markdown",
   "metadata": {},
   "source": [
    "### 2. Always use same vocabulary"
   ]
  },
  {
   "cell_type": "code",
   "execution_count": null,
   "metadata": {},
   "outputs": [],
   "source": [
    "# Not recommended\n",
    "client_first_name = 'John'\n",
    "customer_last_name = 'Doe'\n",
    "\n",
    "# Recommended\n",
    "client_first_name = 'John'\n",
    "client_last_name = 'Doe'\n",
    "\n",
    "#bad code\n",
    "def fetch_clients(response, variable):\n",
    "    # do something\n",
    "    pass\n",
    "\n",
    "def fetch_posts(res, var):\n",
    "    # do something\n",
    "    pass\n",
    "\n",
    "# Recommended\n",
    "def fetch_clients(response, variable):\n",
    "    # do something\n",
    "    pass\n",
    "\n",
    "def fetch_posts(response, variable):\n",
    "    # do something\n",
    "    pass"
   ]
  },
  {
   "cell_type": "code",
   "execution_count": null,
   "metadata": {},
   "outputs": [],
   "source": [
    "# Not recommended\n",
    "def get_users(): \n",
    "    # do something\n",
    "    pass\n",
    "\n",
    "def fetch_user(id): \n",
    "    # do something\n",
    "    pass\n",
    "\n",
    "def get_posts(): \n",
    "    # do something\n",
    "    pass\n",
    "\n",
    "def fetch_post(id):\n",
    "    # do something\n",
    "    pass\n",
    "\n",
    "# Recommended\n",
    "def fetch_users(): \n",
    "    # do something\n",
    "    pass\n",
    "\n",
    "def fetch_user(id): \n",
    "    # do something\n",
    "    pass\n",
    "\n",
    "def fetch_posts(): \n",
    "    # do something\n",
    "    pass\n",
    "\n",
    "def fetch_post(id):\n",
    "    # do something\n",
    "    pass"
   ]
  },
  {
   "cell_type": "markdown",
   "metadata": {},
   "source": [
    "### 3. Functions do ONE thing and do it well"
   ]
  },
  {
   "cell_type": "code",
   "execution_count": null,
   "metadata": {},
   "outputs": [],
   "source": [
    "# Not recommended\n",
    "def fetch_and_display_users():\n",
    "    users = [] # result from some api call\n",
    "\n",
    "    for user in users:\n",
    "        print(user)\n",
    "\n",
    "\n",
    "# Recommended\n",
    "def fetch_usersl():\n",
    "    users = [] # result from some api call\n",
    "    return users\n",
    "\n",
    "def display_users(users):\n",
    "    for user in users:\n",
    "        print(user)"
   ]
  },
  {
   "cell_type": "markdown",
   "metadata": {},
   "source": [
    "### 4. Do not use flags or boolean flags"
   ]
  },
  {
   "cell_type": "code",
   "execution_count": null,
   "metadata": {},
   "outputs": [],
   "source": [
    "text = \"Python is a simple and elegant programming language.\"\n",
    "\n",
    "# Not recommended\n",
    "def transform_text(text, uppercase):\n",
    "    if uppercase:\n",
    "        return text.upper()\n",
    "    else:\n",
    "        return text.lower()\n",
    "\n",
    "uppercase_text = transform_text(text, True)\n",
    "lowercase_text = transform_text(text, False)\n",
    "\n",
    "\n",
    "# Recommended\n",
    "def transform_to_uppercase(text):\n",
    "    return text.upper()\n",
    "\n",
    "def transform_to_lowercase(text):\n",
    "    return text.lower()\n",
    "\n",
    "uppercase_text = transform_to_uppercase(text)\n",
    "lowercase_text = transform_to_lowercase(text)"
   ]
  },
  {
   "cell_type": "markdown",
   "metadata": {},
   "source": [
    "### 5. Do not use redundant content"
   ]
  },
  {
   "cell_type": "code",
   "execution_count": null,
   "metadata": {},
   "outputs": [],
   "source": [
    "# Not recommended\n",
    "class Person:\n",
    "    def __init__(self, person_username, person_email, person_phone, person_address):\n",
    "        self.person_username = person_username\n",
    "        self.person_email = person_email\n",
    "        self.person_phone = person_phone\n",
    "        self.person_address = person_address\n",
    "\n",
    "# Recommended\n",
    "class Person:\n",
    "    def __init__(self, username, email, phone, address):\n",
    "\n",
    "        self.username = username\n",
    "        self.email = email\n",
    "        self.phone = phone\n",
    "        self.address = address"
   ]
  },
  {
   "cell_type": "markdown",
   "metadata": {},
   "source": [
    "## Python Programming Tips\n",
    "\n",
    "Python coding skills have grown in demand in recent years. To aid you in developing your Python programming skills, here come cool Python tricks you could use to improve your code."
   ]
  },
  {
   "cell_type": "markdown",
   "metadata": {},
   "source": [
    "### 1. Slicing\n",
    "\n",
    "Slicing is a feature in Python that relies on indexing to allow users to access a subset of a sequence. An index is simply the position of an element in a sequence. If the sequence type is mutable, you can use slicing to extract and modify data."
   ]
  },
  {
   "cell_type": "code",
   "execution_count": 1,
   "metadata": {},
   "outputs": [
    {
     "name": "stdout",
     "output_type": "stream",
     "text": [
      "!dlroW olleH\n"
     ]
    }
   ],
   "source": [
    "a = \"Hello World!\"\n",
    "print(a[::-1])"
   ]
  },
  {
   "cell_type": "markdown",
   "metadata": {},
   "source": [
    "### 2. Simultaneous Assignment\n",
    "\n",
    "Combining automatic packing and unpacking gives rise to a technique known as simultaneous assignment. We can use simultaneous assignment to assign a series of values to a series of variables."
   ]
  },
  {
   "cell_type": "code",
   "execution_count": 2,
   "metadata": {},
   "outputs": [
    {
     "name": "stdout",
     "output_type": "stream",
     "text": [
      "First: (10, 5)\n",
      "Second: (5, 12)\n"
     ]
    }
   ],
   "source": [
    "a = 10\n",
    "b = 5\n",
    "print(f\"First: {a, b}\")\n",
    "\n",
    "a, b = b, a + 2\n",
    "print(f\"Second: {a, b}\")"
   ]
  },
  {
   "cell_type": "code",
   "execution_count": 3,
   "metadata": {},
   "outputs": [
    {
     "name": "stdout",
     "output_type": "stream",
     "text": [
      "1\n",
      "2\n",
      "3\n"
     ]
    }
   ],
   "source": [
    "a, b, c = [1, 2, 3]\n",
    "print(a)\n",
    "print(b)\n",
    "print(c)"
   ]
  },
  {
   "cell_type": "markdown",
   "metadata": {},
   "source": [
    "### 3. List vs. Tuples\n",
    "\n",
    "Most Python programmers are familiar with the list data structure. The same can't be said of tuples. They're both iterables, allow indexing, and permit storage of heterogeneous data types. But there are situations in which the use of a tuple may be preferred over a list.\n",
    "\n",
    "Tuples are immutable, which means trying to modify them will raise a TypeError. \n",
    "\n",
    "For this reason, tuples are more memory efficient since Python can allocate the right memory block required for the data. In contrast, in a list, extra memory has to be allocated just in case we extend it - this is called dynamic memory allocation. "
   ]
  },
  {
   "cell_type": "code",
   "execution_count": 5,
   "metadata": {},
   "outputs": [
    {
     "name": "stdout",
     "output_type": "stream",
     "text": [
      "List size: 120 bytes\n",
      "Tuple size: 80 bytes\n"
     ]
    }
   ],
   "source": [
    "import sys\n",
    "\n",
    "a = [1, 2, 3, 4, 5]\n",
    "b = (1, 2, 3, 4, 5)\n",
    "\n",
    "print(f\"List size: {sys.getsizeof(a)} bytes\")\n",
    "print(f\"Tuple size: {sys.getsizeof(b)} bytes\")"
   ]
  },
  {
   "cell_type": "markdown",
   "metadata": {},
   "source": [
    "### 4. Generators\n",
    "\n",
    "List comprehensions are the pythonic way of creating a list from another iterable - It's much faster than using a for loop. But what happens if you accidentally change the brackets from [] to ()? You get a generator object.\n",
    "\n",
    "In Python, rounded brackets with list comprehension logic create what is known as a generator object. Generators are a special kind of iterable. Unlike lists, they do not store their items. Instead, they store instructions to generate each element in order and the current state of iterations.\n",
    "\n",
    "Each element is only generated upon request using a technique called lazy evaluation. The main benefit of this Python tip using a generator is that it uses less memory since the entire sequence is not built at once. "
   ]
  },
  {
   "cell_type": "code",
   "execution_count": null,
   "metadata": {},
   "outputs": [],
   "source": [
    "a = [x * 2 for x in range(10)]\n",
    "b = (x * 2 for x in range(10))\n",
    "\n",
    "print(a)\n",
    "print(b)"
   ]
  },
  {
   "cell_type": "markdown",
   "metadata": {},
   "source": [
    "### 5. Aliasing\n",
    "\n",
    "Python is an object-oriented programming language - everything is an object. Thus, assigning an object to an identifier is creating a reference to the object. \n",
    "\n",
    "When we assign one identifier to another identifier, we end up with two identifiers that reference the same object. This is a concept known as aliasing. Changes in one alias will affect the other. Sometimes this behavior is desired, but often, it catches us off guard. \n",
    "\n",
    "One way around it is to refrain from aliasing when using mutable objects. Another solution could be to create a clone of the original object rather than a reference. "
   ]
  },
  {
   "cell_type": "code",
   "execution_count": 6,
   "metadata": {},
   "outputs": [
    {
     "name": "stdout",
     "output_type": "stream",
     "text": [
      "140429342964224\n",
      "140429342964224\n",
      "[1, 2, 3, 4, 7]\n"
     ]
    }
   ],
   "source": [
    "a = [1, 2, 3, 4 ,5]\n",
    "b = a\n",
    "\n",
    "# Change the 4th index in b\n",
    "b[4] = 7\n",
    "\n",
    "print(id(a))\n",
    "print(id(b))\n",
    "print(a) # Remember we did not explicitly make changes to a."
   ]
  },
  {
   "cell_type": "markdown",
   "metadata": {},
   "source": [
    "### 6. The not Operator\n",
    "\n",
    "Our next Python tip is the easiest way to check if your data structure is empty by using the not operator. Python's built-in not is a logical operator that returns True if the expression is not true, or else it will return False – it inverts the truth value of Boolean expressions and objects."
   ]
  },
  {
   "cell_type": "code",
   "execution_count": null,
   "metadata": {},
   "outputs": [],
   "source": [
    "a = []\n",
    "print(not a)"
   ]
  },
  {
   "cell_type": "markdown",
   "metadata": {},
   "source": [
    "### 7. F-string\n",
    "\n",
    "Occasionally, we may need to format a string object; Python 3.6 introduced a cool feature called f-strings to simplify this process. It helps to understand how strings were formatted before the new release to appreciate the new method better."
   ]
  },
  {
   "cell_type": "code",
   "execution_count": null,
   "metadata": {},
   "outputs": [],
   "source": [
    "first_name = \"John\"\n",
    "age = 19\n",
    "\n",
    "print(f\"Hi, I'm {first_name} and I'm {age} years old!\")"
   ]
  },
  {
   "cell_type": "markdown",
   "metadata": {},
   "source": [
    "### 8. Print Parameters\n",
    "\n",
    "It is quite common to use a print statement without defining any of its optional parameters. Consequently, several Pythonistas are unaware that you can control the output to some degree.\n",
    "\n",
    "One optional parameter we can change is end. The end parameter specifies what should be shown at the end of a call to a print statement. \n",
    "\n",
    "The default of end is \"\\n\" which tells Python to start a new line. In the code below, we changed it to space. Thus, the output returned all the elements of our list are printed on the same line."
   ]
  },
  {
   "cell_type": "code",
   "execution_count": null,
   "metadata": {},
   "outputs": [],
   "source": [
    "a = [\"english\", \"french\", \"spanish\", \"german\", \"twi\"]\n",
    "for language in a:\n",
    "    print(language, end=\" \")"
   ]
  },
  {
   "cell_type": "markdown",
   "metadata": {},
   "source": [
    "### 9. Merging dictionaries\n",
    "\n",
    "In Python 3.9 and above, it is possible to merge dictionaries using | (bitewise OR). There is not much else to say about this particular Python trick other than it is a much more readable solution!"
   ]
  },
  {
   "cell_type": "code",
   "execution_count": 7,
   "metadata": {},
   "outputs": [
    {
     "name": "stdout",
     "output_type": "stream",
     "text": [
      "{'a': 1, 'b': 2, 'c': 3, 'd': 4}\n"
     ]
    }
   ],
   "source": [
    "a = {\"a\": 1, \"b\": 2}\n",
    "b = {\"c\": 3, \"d\": 4}\n",
    "\n",
    "a_and_b = a | b\n",
    "print(a_and_b)"
   ]
  },
  {
   "cell_type": "markdown",
   "metadata": {},
   "source": [
    "### 10. Ternary Operations\n",
    "\n",
    "In the code below, you can see what is known as a ternary operator - it is also referred to as a conditional expression among names. We use ternary operators to evaluate things based on whether a condition is True or False."
   ]
  },
  {
   "cell_type": "code",
   "execution_count": 8,
   "metadata": {},
   "outputs": [
    {
     "name": "stdout",
     "output_type": "stream",
     "text": [
      "John\n"
     ]
    }
   ],
   "source": [
    "condition = True\n",
    "name = \"John\" if condition else \"Doe\"\n",
    "\n",
    "print(name)"
   ]
  }
 ],
 "metadata": {
  "kernelspec": {
   "display_name": "base",
   "language": "python",
   "name": "python3"
  },
  "language_info": {
   "codemirror_mode": {
    "name": "ipython",
    "version": 3
   },
   "file_extension": ".py",
   "mimetype": "text/x-python",
   "name": "python",
   "nbconvert_exporter": "python",
   "pygments_lexer": "ipython3",
   "version": "3.9.12"
  },
  "orig_nbformat": 4
 },
 "nbformat": 4,
 "nbformat_minor": 2
}
