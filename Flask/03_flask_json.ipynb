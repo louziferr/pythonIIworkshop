{
 "cells": [
  {
   "cell_type": "markdown",
   "metadata": {},
   "source": [
    "## Using external Files\n",
    "\n",
    "When doing web development, most of the time you want to display content that is saved somewhere in your database. \n",
    "\n",
    "For this example, we're going to use a json-file as an external database, load and display the contents on the webpage.\n",
    "\n",
    "### 1. Load json file\n",
    "\n",
    "Create a new json file and save it as user.json. Add the following content to it:"
   ]
  },
  {
   "cell_type": "raw",
   "metadata": {},
   "source": [
    "{\n",
    "    \"0\": [\n",
    "        {\n",
    "            \"username\": \"lisa\",\n",
    "            \"age\": 23,\n",
    "            \"messages\": [\"hello, my friend.\", \"Yes, I agree.\"]\n",
    "        }\n",
    "    ],\n",
    "    \"1\": [\n",
    "        {\n",
    "            \"username\": \"h4cker\",\n",
    "            \"age\": 25,\n",
    "            \"messages\": [\"I don't think so.\", \"Maybeee.\"]\n",
    "\n",
    "        }\n",
    "    ],\n",
    "    \"2\": [\n",
    "        {\n",
    "            \"username\": \"fred\",\n",
    "            \"age\": 19,\n",
    "            \"messages\": [\"Of course!\", \"okay\", \"why not!\"]\n",
    "\n",
    "        }\n",
    "    ]\n",
    "}"
   ]
  },
  {
   "cell_type": "markdown",
   "metadata": {},
   "source": [
    "### Load the json file \n",
    "\n",
    "Create a python script that loads the json-file contents and saves it in a variable."
   ]
  },
  {
   "cell_type": "code",
   "execution_count": 5,
   "metadata": {},
   "outputs": [
    {
     "name": "stdout",
     "output_type": "stream",
     "text": [
      "{'0': [{'username': 'lisa', 'age': 23, 'messages': ['hello, my friend.', 'Yes, I agree.']}], '1': [{'username': 'h4cker', 'age': 25, 'messages': [\"I don't think so.\", 'Maybeee.']}], '2': [{'username': 'fred', 'age': 19, 'messages': ['Of course!', 'okay', 'why not!']}]}\n"
     ]
    }
   ],
   "source": [
    "import json\n",
    "\n",
    "## Your solution\n",
    "\n",
    "file = open('static/user.json')\n",
    "users = json.load(file)\n",
    "\n",
    "print(users)"
   ]
  },
  {
   "cell_type": "markdown",
   "metadata": {},
   "source": [
    "Now, use the contents in your webpage. For each user, show their username, their age and their messages."
   ]
  }
 ],
 "metadata": {
  "kernelspec": {
   "display_name": "flask",
   "language": "python",
   "name": "python3"
  },
  "language_info": {
   "codemirror_mode": {
    "name": "ipython",
    "version": 3
   },
   "file_extension": ".py",
   "mimetype": "text/x-python",
   "name": "python",
   "nbconvert_exporter": "python",
   "pygments_lexer": "ipython3",
   "version": "3.9.17"
  },
  "orig_nbformat": 4
 },
 "nbformat": 4,
 "nbformat_minor": 2
}
