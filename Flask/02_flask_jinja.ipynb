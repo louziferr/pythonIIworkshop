{
 "cells": [
  {
   "cell_type": "markdown",
   "metadata": {},
   "source": [
    "## Flask 2\n",
    "\n",
    "### Using Jinja templates\n",
    "\n",
    "```python\n",
    "pip install -U Jinja2\n",
    "```\n",
    "\n",
    "Instead of using duplicate code for each html-subpage, we can create a file called 'base.html' which will be used as the base for new html-files.\n",
    "\n",
    "Create a file templates/base.html"
   ]
  },
  {
   "cell_type": "code",
   "execution_count": null,
   "metadata": {
    "vscode": {
     "languageId": "html"
    }
   },
   "outputs": [],
   "source": [
    "<!doctype html>\n",
    "<html lang=\"en\">\n",
    "  <head>\n",
    "    <!-- Required meta tags -->\n",
    "    <meta charset=\"utf-8\">\n",
    "    <meta name=\"viewport\" content=\"width=device-width, initial-scale=1, shrink-to-fit=no\">\n",
    "\n",
    "    <!-- Bootstrap CSS -->\n",
    "    <link rel=\"stylesheet\" href=\"https://stackpath.bootstrapcdn.com/bootstrap/4.3.1/css/bootstrap.min.css\" integrity=\"sha384-ggOyR0iXCbMQv3Xipma34MD+dH/1fQ784/j6cY/iJTQUOhcWr7x9JvoRxT2MZw1T\" crossorigin=\"anonymous\">\n",
    "\n",
    "    <title>{% block title %} {% endblock %}</title>\n",
    "  </head>\n",
    "  <body>\n",
    "    <nav class=\"navbar navbar-expand-md navbar-light bg-light\">\n",
    "        <a class=\"navbar-brand\" href=\"{{ url_for('index')}}\">FlaskBlog</a>\n",
    "        <button class=\"navbar-toggler\" type=\"button\" data-toggle=\"collapse\" data-target=\"#navbarNav\" aria-controls=\"navbarNav\" aria-expanded=\"false\" aria-label=\"Toggle navigation\">\n",
    "            <span class=\"navbar-toggler-icon\"></span>\n",
    "        </button>\n",
    "        <div class=\"collapse navbar-collapse\" id=\"navbarNav\">\n",
    "            <ul class=\"navbar-nav\">\n",
    "            <li class=\"nav-item active\">\n",
    "                <a class=\"nav-link\" href=\"#\">About</a>\n",
    "            </li>\n",
    "            </ul>\n",
    "        </div>\n",
    "    </nav>\n",
    "    <div class=\"container\">\n",
    "        {% block content %} {% endblock %}\n",
    "    </div>\n",
    "</body>\n",
    "</html>"
   ]
  },
  {
   "cell_type": "markdown",
   "metadata": {},
   "source": [
    "## Jinja\n",
    "\n",
    "In the above example you see a few use-cases of the jinja-engine.\n",
    "\n",
    "```python\n",
    "{% block title %}{% endblock %}\n",
    "```\n",
    "- a block used as a placeholder for title. Can be used later to assign a new title to each webpage.\n",
    "\n",
    "```python\n",
    "{{ url_for('index') }}\n",
    "```\n",
    "- a function call that returns the url for the webpage 'index'.\n",
    "\n",
    "```python\n",
    "{% block content %}{% endblock %}\n",
    "```\n",
    "- another block as a placeholder for content."
   ]
  },
  {
   "cell_type": "markdown",
   "metadata": {},
   "source": [
    "Replace the content of index.html with the following:"
   ]
  },
  {
   "cell_type": "code",
   "execution_count": null,
   "metadata": {
    "vscode": {
     "languageId": "html"
    }
   },
   "outputs": [],
   "source": [
    "{% extends 'base.html' %}\n",
    "\n",
    "{% block content %}\n",
    "    <h1>{% block title %} Welcome to FlaskBlog {% endblock %}</h1>\n",
    "{% endblock %}"
   ]
  },
  {
   "cell_type": "markdown",
   "metadata": {},
   "source": [
    "The 'extends' tag is used to inherit from the file 'base.html'.\n",
    "\n",
    "The 'block' tag is used to mark the start and end of a named block. This will be used to replace the 'block' tags in the template."
   ]
  },
  {
   "cell_type": "markdown",
   "metadata": {},
   "source": [
    "## Jinja\n",
    "\n",
    "Change index.html to the following:"
   ]
  },
  {
   "cell_type": "code",
   "execution_count": null,
   "metadata": {
    "vscode": {
     "languageId": "html"
    }
   },
   "outputs": [],
   "source": [
    "{% extends 'base.html' %}\n",
    "\n",
    "{% block content %}\n",
    "    <h1>{% block title %} Welcome to FlaskBlog {% endblock %}</h1>\n",
    "    {% for post in posts %}\n",
    "        <a href=\"#\">\n",
    "            <h2>{{ post['title'] }}</h2>\n",
    "        </a>\n",
    "        <span class=\"badge badge-primary\">{{ post['created'] }}</span>\n",
    "        <hr>\n",
    "    {% endfor %}\n",
    "{% endblock %}"
   ]
  },
  {
   "cell_type": "markdown",
   "metadata": {},
   "source": [
    "Change your Flask-app to the following:"
   ]
  },
  {
   "cell_type": "code",
   "execution_count": 2,
   "metadata": {},
   "outputs": [],
   "source": [
    "from flask import Flask, render_template\n",
    "\n",
    "app = Flask(__name__)\n",
    "\n",
    "@app.route('/')\n",
    "def index():\n",
    "    posts = [{'title': 'First Post', 'created': '2020-05-01'}, \n",
    "             {'title': 'Second Post', 'created': '2020-05-02'}]\n",
    "    return render_template('index.html', posts=posts)"
   ]
  },
  {
   "cell_type": "markdown",
   "metadata": {},
   "source": [
    "### Now it's your turn! \n",
    "\n",
    "Make the link for the \"About\"-page work and create a new webpage for the \"About\". Add whichever content you like."
   ]
  }
 ],
 "metadata": {
  "kernelspec": {
   "display_name": "electroacoustics",
   "language": "python",
   "name": "python3"
  },
  "language_info": {
   "codemirror_mode": {
    "name": "ipython",
    "version": 3
   },
   "file_extension": ".py",
   "mimetype": "text/x-python",
   "name": "python",
   "nbconvert_exporter": "python",
   "pygments_lexer": "ipython3",
   "version": "3.9.17"
  },
  "orig_nbformat": 4
 },
 "nbformat": 4,
 "nbformat_minor": 2
}
