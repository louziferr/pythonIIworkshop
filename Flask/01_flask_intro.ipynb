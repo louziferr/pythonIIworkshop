{
 "cells": [
  {
   "cell_type": "markdown",
   "metadata": {},
   "source": [
    "## FLASK\n",
    "\n",
    "A small and easy python framework for creating web applications.\n",
    "\n",
    "Install Flask:\n",
    "\n",
    "```python\n",
    "pip install flask\n",
    "```\n",
    "\n",
    "### First Application\n",
    "\n",
    "Create a file named hello.py"
   ]
  },
  {
   "cell_type": "code",
   "execution_count": null,
   "metadata": {},
   "outputs": [],
   "source": [
    "# hello.py\n",
    "\n",
    "from flask import Flask\n",
    "\n",
    "app = flask(__name__)\n",
    "\n",
    "@app.route('/')\n",
    "def hello():\n",
    "    return 'Hello, World!'"
   ]
  },
  {
   "cell_type": "markdown",
   "metadata": {},
   "source": [
    "Let Flask know where the application is:\n",
    "```python\n",
    "export FLASK_APP=hello\n",
    "```\n",
    "\n",
    "Set to development mode:\n",
    "```python\n",
    "export FLASK_ENV=development\n",
    "```\n",
    "Run:\n",
    "```python\n",
    "flask run\n",
    "```"
   ]
  },
  {
   "cell_type": "markdown",
   "metadata": {},
   "source": [
    "## Using HTML Templates\n",
    "\n",
    "Create a file named app.py"
   ]
  },
  {
   "cell_type": "code",
   "execution_count": null,
   "metadata": {},
   "outputs": [],
   "source": [
    "from flask import Flask, render_template\n",
    "\n",
    "app = Flask(__name__)\n",
    "\n",
    "@app.route('/')\n",
    "def index():\n",
    "    return render_template('index.html')"
   ]
  },
  {
   "cell_type": "markdown",
   "metadata": {},
   "source": [
    "### Run via Terminal\n",
    "\n",
    "```python\n",
    "export FLASK_APP=app\n",
    "flask run\n",
    "```\n",
    "\n",
    "-> No Template found. To fix this, we will now create a template.\n",
    "\n",
    "### Create Template\n",
    "\n",
    "Create a folder templates. Create a file named index.html in the templates-folder."
   ]
  },
  {
   "cell_type": "code",
   "execution_count": null,
   "metadata": {
    "vscode": {
     "languageId": "html"
    }
   },
   "outputs": [],
   "source": [
    "<!DOCTYPE html>\n",
    "<html lang=\"en\">\n",
    "<head>\n",
    "    <meta charset=\"UTF-8\">\n",
    "    <title>FlaskBlog</title>\n",
    "</head>\n",
    "<body>\n",
    "   <h1>Welcome to FlaskBlog</h1>\n",
    "</body>\n",
    "</html>"
   ]
  },
  {
   "cell_type": "markdown",
   "metadata": {},
   "source": [
    "### Using CSS\n",
    "\n",
    "Flask applications usually have a folder namend 'static' where all static files should be located. Examples are js-files, images or css-files.\n",
    "\n",
    "Create the folder 'static'. Create a folder 'css' inside 'static'.\n",
    "\n",
    "Create file 'static/css/style.css'"
   ]
  },
  {
   "cell_type": "code",
   "execution_count": null,
   "metadata": {
    "vscode": {
     "languageId": "html"
    }
   },
   "outputs": [],
   "source": [
    "h1 {\n",
    "    border: 2px #eee solid;\n",
    "    color: brown;\n",
    "    text-align: center;\n",
    "    padding: 10px;\n",
    "}"
   ]
  },
  {
   "cell_type": "markdown",
   "metadata": {},
   "source": [
    "Add the following line to your file 'index.html'."
   ]
  },
  {
   "cell_type": "code",
   "execution_count": null,
   "metadata": {
    "vscode": {
     "languageId": "html"
    }
   },
   "outputs": [],
   "source": [
    "<link rel=\"stylesheet\" href=\"{{ url_for('static', filename= 'css/style.css') }}\">"
   ]
  },
  {
   "cell_type": "markdown",
   "metadata": {},
   "source": [
    "Congrats! You are now using your css-file inside your first Flask application!\n",
    "\n",
    "To use a library (Bootstrap) instead of your own css-file, add the following line to your html-template."
   ]
  },
  {
   "cell_type": "code",
   "execution_count": null,
   "metadata": {
    "vscode": {
     "languageId": "html"
    }
   },
   "outputs": [],
   "source": [
    "<link rel=\"stylesheet\" href=\"https://stackpath.bootstrapcdn.com/bootstrap/4.3.1/css/bootstrap.min.css\" integrity=\"sha384-ggOyR0iXCbMQv3Xipma34MD+dH/1fQ784/j6cY/iJTQUOhcWr7x9JvoRxT2MZw1T\" crossorigin=\"anonymous\">"
   ]
  }
 ],
 "metadata": {
  "language_info": {
   "name": "python"
  },
  "orig_nbformat": 4
 },
 "nbformat": 4,
 "nbformat_minor": 2
}
