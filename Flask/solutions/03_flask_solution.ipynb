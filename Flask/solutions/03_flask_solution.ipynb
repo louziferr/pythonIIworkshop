{
 "cells": [
  {
   "cell_type": "code",
   "execution_count": null,
   "metadata": {},
   "outputs": [],
   "source": [
    "# app.py\n",
    "\n",
    "from flask import Flask, render_template\n",
    "import json\n",
    "\n",
    "app = Flask(__name__)\n",
    "\n",
    "@app.route('/')\n",
    "def index():\n",
    "    posts = [{'title': 'First Post', 'created': '2020-05-01'}, \n",
    "             {'title': 'Second Post', 'created': '2020-05-02'}]\n",
    "    return render_template('index.html', posts=posts)\n",
    "\n",
    "\n",
    "@app.route('/about')\n",
    "def about():\n",
    "    posts = [{'title': 'About me', 'created': '2020-05-01'}, \n",
    "             {'title': 'About you', 'created': '2020-05-02'}]\n",
    "    return render_template('about.html', posts=posts)\n",
    "\n",
    "\n",
    "\n",
    "@app.route('/users')\n",
    "def users():\n",
    "    file = open('static/users.json')\n",
    "    users = json.load(file)\n",
    "    return render_template('users.html', users=users)"
   ]
  },
  {
   "cell_type": "code",
   "execution_count": null,
   "metadata": {
    "vscode": {
     "languageId": "html"
    }
   },
   "outputs": [],
   "source": [
    "<!-- base.html -->\n",
    "\n",
    "<!doctype html>\n",
    "<html lang=\"en\">\n",
    "  <head>\n",
    "    <!-- Required meta tags -->\n",
    "    <meta charset=\"utf-8\">\n",
    "    <meta name=\"viewport\" content=\"width=device-width, initial-scale=1, shrink-to-fit=no\">\n",
    "\n",
    "    <!-- Bootstrap CSS -->\n",
    "    <link rel=\"stylesheet\" href=\"https://stackpath.bootstrapcdn.com/bootstrap/4.3.1/css/bootstrap.min.css\" integrity=\"sha384-ggOyR0iXCbMQv3Xipma34MD+dH/1fQ784/j6cY/iJTQUOhcWr7x9JvoRxT2MZw1T\" crossorigin=\"anonymous\">\n",
    "\n",
    "    <title>{% block title %} {% endblock %}</title>\n",
    "  </head>\n",
    "  <body>\n",
    "    <nav class=\"navbar navbar-expand-md navbar-light bg-light\">\n",
    "        <a class=\"navbar-brand\" href=\"{{ url_for('index')}}\">FlaskBlog</a>\n",
    "        <button class=\"navbar-toggler\" type=\"button\" data-toggle=\"collapse\" data-target=\"#navbarNav\" aria-controls=\"navbarNav\" aria-expanded=\"false\" aria-label=\"Toggle navigation\">\n",
    "            <span class=\"navbar-toggler-icon\"></span>\n",
    "        </button>\n",
    "        <div class=\"collapse navbar-collapse\" id=\"navbarNav\">\n",
    "            <ul class=\"navbar-nav\">\n",
    "            <li class=\"nav-item active\">\n",
    "                <a class=\"nav-link\" href=\"{{ url_for('about') }}\">About</a>\n",
    "            </li>\n",
    "            <li class=\"nav-item active\">\n",
    "                <a class=\"nav-link\" href=\"{{ url_for('users') }}\">Users</a>\n",
    "            </li>\n",
    "            </ul>\n",
    "        </div>\n",
    "    </nav>\n",
    "    <div class=\"container\">\n",
    "        {% block content %} {% endblock %}\n",
    "    </div>\n",
    "</body>\n",
    "</html>"
   ]
  },
  {
   "cell_type": "code",
   "execution_count": null,
   "metadata": {
    "vscode": {
     "languageId": "html"
    }
   },
   "outputs": [],
   "source": [
    "{% extends 'base.html' %}\n",
    "\n",
    "{% block content %}\n",
    "    <h1>{% block title %} Welcome to FlaskBlog {% endblock %}</h1>\n",
    "    {% for user in users %}\n",
    "        <a href=\"#\">\n",
    "            <h2>{{ users[user]['username'] }}</h2>\n",
    "        </a>\n",
    "        <span class=\"badge badge-primary\">{{ users[user]['age'] }}</span>\n",
    "        {% for message in users[user]['messages'] %}\n",
    "            <h3>{{ message }}</h3>\n",
    "        {% endfor %}\n",
    "        <hr>\n",
    "    {% endfor %}\n",
    "{% endblock %}"
   ]
  }
 ],
 "metadata": {
  "language_info": {
   "name": "python"
  },
  "orig_nbformat": 4
 },
 "nbformat": 4,
 "nbformat_minor": 2
}
