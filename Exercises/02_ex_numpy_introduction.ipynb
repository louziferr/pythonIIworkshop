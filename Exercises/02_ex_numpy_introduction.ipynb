{
 "cells": [
  {
   "cell_type": "markdown",
   "metadata": {},
   "source": [
    "### Requirements\n",
    "\n",
    "For the last tasks we need to import a custom python script which should already be in the same folder as this jupyter notebook file."
   ]
  },
  {
   "cell_type": "code",
   "execution_count": 2,
   "metadata": {},
   "outputs": [
    {
     "name": "stdout",
     "output_type": "stream",
     "text": [
      "Intel MKL WARNING: Support of Intel(R) Streaming SIMD Extensions 4.2 (Intel(R) SSE4.2) enabled only processors has been deprecated. Intel oneAPI Math Kernel Library 2025.0 will require Intel(R) Advanced Vector Extensions (Intel(R) AVX) instructions.\n",
      "Intel MKL WARNING: Support of Intel(R) Streaming SIMD Extensions 4.2 (Intel(R) SSE4.2) enabled only processors has been deprecated. Intel oneAPI Math Kernel Library 2025.0 will require Intel(R) Advanced Vector Extensions (Intel(R) AVX) instructions.\n"
     ]
    }
   ],
   "source": [
    "import numpy as np\n",
    "\n",
    "# the file \"source.py\" should already be in the same folder\n",
    "import source"
   ]
  },
  {
   "cell_type": "markdown",
   "metadata": {},
   "source": [
    "## Exercises for lecture 1\n",
    "\n",
    "**Task a)** Create a Numpy Array with the numbers 1 2 3 4 5 by converting a python list to an array "
   ]
  },
  {
   "cell_type": "code",
   "execution_count": 3,
   "metadata": {},
   "outputs": [
    {
     "data": {
      "text/plain": [
       "array([1, 2, 3, 4, 5])"
      ]
     },
     "execution_count": 3,
     "metadata": {},
     "output_type": "execute_result"
    }
   ],
   "source": [
    "# your code\n",
    "np.array([1, 2, 3, 4, 5])"
   ]
  },
  {
   "cell_type": "markdown",
   "metadata": {},
   "source": [
    "**Task b)** Create a Numpy Array with the numbers 1 2 3 4 5 by using the numpy arange method"
   ]
  },
  {
   "cell_type": "code",
   "execution_count": 4,
   "metadata": {},
   "outputs": [
    {
     "data": {
      "text/plain": [
       "array([1, 2, 3, 4, 5])"
      ]
     },
     "execution_count": 4,
     "metadata": {},
     "output_type": "execute_result"
    }
   ],
   "source": [
    "# your code\n",
    "np.arange(1, 6)"
   ]
  },
  {
   "cell_type": "markdown",
   "metadata": {},
   "source": [
    "**Task c)** Create the following matrix as ndarray object:\n",
    "\n",
    "$$\\begin{pmatrix}\n",
    "1 & 2 & 3\\\\\n",
    "5 & 8 & 13 \\\\\n",
    "21 & 34 & 55\n",
    "\\end{pmatrix}$$"
   ]
  },
  {
   "cell_type": "code",
   "execution_count": 5,
   "metadata": {},
   "outputs": [
    {
     "data": {
      "text/plain": [
       "array([[ 1,  2,  3],\n",
       "       [ 5,  8, 13],\n",
       "       [21, 34, 55]])"
      ]
     },
     "execution_count": 5,
     "metadata": {},
     "output_type": "execute_result"
    }
   ],
   "source": [
    "# your code\n",
    "np.array([[1, 2, 3],[5, 8, 13],[21, 34, 55]])"
   ]
  },
  {
   "cell_type": "markdown",
   "metadata": {},
   "source": [
    "**Task d)** Create a vector with 100 random integers between -50 and 50."
   ]
  },
  {
   "cell_type": "code",
   "execution_count": 6,
   "metadata": {},
   "outputs": [
    {
     "data": {
      "text/plain": [
       "array([-37,  12, -44,  40, -15, -49, -46, -47, -23,  28,  14, -39, -23,\n",
       "       -14, -14,  24, -43,  22, -47,  -1,  -8, -39, -36,  32, -10,   3,\n",
       "         3, -15,   8,  -7, -26,  -2,  22, -13, -44,  35, -11,  46, -44,\n",
       "        41, -30, -19, -36,  26, -47,   1, -49,  48, -50,  -4, -36,   4,\n",
       "        27, -48, -17, -49, -42, -10,   9, -49, -11, -22, -16,   7,  21,\n",
       "        36,   8, -25,  26,  10, -46,  46,  49, -33, -26,  47, -41, -43,\n",
       "       -34, -24,  -6,  41, -22,  35, -45,  46,   9, -40,  46,  36, -31,\n",
       "       -47,  -3,  -4,  16,  45,   6, -43,   9, -36])"
      ]
     },
     "execution_count": 6,
     "metadata": {},
     "output_type": "execute_result"
    }
   ],
   "source": [
    "# your code\n",
    "np.random.randint(-50, 50, 100)"
   ]
  },
  {
   "cell_type": "markdown",
   "metadata": {},
   "source": [
    "**Task e)** Create a matrix with random values between 0 and 1 and size $17 \\times 128$"
   ]
  },
  {
   "cell_type": "code",
   "execution_count": 8,
   "metadata": {},
   "outputs": [
    {
     "name": "stdout",
     "output_type": "stream",
     "text": [
      "(17, 128)\n",
      "[[0.9805819  0.57634205 0.80673178 ... 0.92966624 0.52913109 0.40077363]\n",
      " [0.58898168 0.21793743 0.96059689 ... 0.40787796 0.14276525 0.50703596]\n",
      " [0.99349776 0.8536051  0.4427178  ... 0.71973717 0.46225967 0.90581375]\n",
      " ...\n",
      " [0.39865152 0.26880823 0.46990745 ... 0.56045203 0.48756944 0.7281786 ]\n",
      " [0.2634594  0.97630396 0.38173642 ... 0.10085065 0.32714078 0.51216008]\n",
      " [0.74324889 0.19390437 0.29173971 ... 0.95595484 0.60100713 0.15486855]]\n"
     ]
    }
   ],
   "source": [
    "# your code\n",
    "matrix = np.random.rand(17, 128)\n",
    "\n",
    "print(matrix.shape)"
   ]
  },
  {
   "cell_type": "markdown",
   "metadata": {},
   "source": [
    "**Task f)** Create an ndarray with random values between 0 and 1 and size $10 \\times 10 \\times 150 \\times 1$"
   ]
  },
  {
   "cell_type": "code",
   "execution_count": 9,
   "metadata": {},
   "outputs": [
    {
     "name": "stdout",
     "output_type": "stream",
     "text": [
      "(10, 10, 150, 1)\n"
     ]
    }
   ],
   "source": [
    "# your code\n",
    "ndarray = np.random.rand(10, 10, 150, 1)\n",
    "\n",
    "print(ndarray.shape)"
   ]
  },
  {
   "cell_type": "markdown",
   "metadata": {},
   "source": [
    "**Task g)** Create an ndarray with only zeros and size $4 \\times 4 \\times 100 \\times 100$"
   ]
  },
  {
   "cell_type": "code",
   "execution_count": 11,
   "metadata": {},
   "outputs": [
    {
     "name": "stdout",
     "output_type": "stream",
     "text": [
      "(4, 4, 100, 100)\n"
     ]
    }
   ],
   "source": [
    "# your code\n",
    "ndarray = np.zeros((4, 4, 100, 100))\n",
    "\n",
    "print(ndarray.shape)"
   ]
  },
  {
   "cell_type": "markdown",
   "metadata": {},
   "source": [
    "**Tasks h) i) j)**\n",
    "Analyse the given ndarrays regarding the shape, amount of data and data type. "
   ]
  },
  {
   "cell_type": "code",
   "execution_count": 25,
   "metadata": {},
   "outputs": [],
   "source": [
    "# h)\n",
    "array_1g =  source.get_hidden_array_1()\n",
    "\n",
    "\n",
    "# your code"
   ]
  },
  {
   "cell_type": "code",
   "execution_count": 26,
   "metadata": {},
   "outputs": [],
   "source": [
    "# i)\n",
    "array_1h =  source.get_hidden_array_2()\n",
    "\n",
    "# your code"
   ]
  },
  {
   "cell_type": "code",
   "execution_count": 25,
   "metadata": {},
   "outputs": [],
   "source": [
    "# j)\n",
    "array_1j =  source.get_hidden_array_4()\n",
    "\n",
    "# your code"
   ]
  }
 ],
 "metadata": {
  "kernelspec": {
   "display_name": "Python 3",
   "language": "python",
   "name": "python3"
  },
  "language_info": {
   "codemirror_mode": {
    "name": "ipython",
    "version": 3
   },
   "file_extension": ".py",
   "mimetype": "text/x-python",
   "name": "python",
   "nbconvert_exporter": "python",
   "pygments_lexer": "ipython3",
   "version": "3.9.17"
  }
 },
 "nbformat": 4,
 "nbformat_minor": 4
}
