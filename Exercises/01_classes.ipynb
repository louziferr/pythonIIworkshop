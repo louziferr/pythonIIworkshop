{
 "cells": [
  {
   "cell_type": "markdown",
   "metadata": {},
   "source": [
    "### Excercise Classes\n",
    "\n",
    "### Task 1: Student Information\n",
    "\n",
    "The university system crashed and now you need to re-write the whole code base. First off, we need a system to save each student's information.\n",
    "\n",
    "#### Task 1.1\n",
    "\n",
    "Write a class named `Student` that saves the following information about each student:\n",
    "\n",
    "- first name\n",
    "- second name\n",
    "- student ID\n",
    "- degree programm\n",
    "- current semester\n",
    "\n",
    "The constructor of the class needs all the above information to create a new instance of `Student`. Make sure you type-check the parameters!\n",
    "\n",
    "#### Task 1.2\n",
    "\n",
    "Write the function `_ _ str _ _` that pretty-prints all the information of the student.\n",
    "\n",
    "#### Task 1.3\n",
    "\n",
    "Write a function named `new_semester()` that updates the student's semester (+1) when it is called."
   ]
  },
  {
   "cell_type": "code",
   "execution_count": 3,
   "metadata": {},
   "outputs": [],
   "source": [
    "### your solution ### "
   ]
  },
  {
   "cell_type": "code",
   "execution_count": 4,
   "metadata": {},
   "outputs": [],
   "source": [
    "## TESTING ###\n",
    "assert(callable(Student))\n",
    "carla = Student('Carla', \"Botzkow\", 456123, \"Computer Science\", 4)\n",
    "assert(isinstance(carla, Student))\n",
    "carla.new_semester()\n",
    "assert(carla.semester == 5)"
   ]
  },
  {
   "cell_type": "markdown",
   "metadata": {},
   "source": [
    "### Task 2: University System\n",
    "\n",
    "#### Task 2.1\n",
    "\n",
    "Write a class called `University` that has a list of all current students. The students are of type `Student`.\n",
    "\n",
    "The constructor of the class takes no arguments. \n",
    "\n",
    "#### Task 2.2\n",
    "\n",
    "With a function called `new_student(Student)` which adds a new student to the system.\n",
    "\n",
    "#### Task 2.3\n",
    "\n",
    "Write the function `_ _ str _ _` that returns a string with all student names.\n",
    "\n",
    "#### Task 2.4\n",
    "\n",
    "Write a function called `programm_students(degree_programm)` that takes a degree programm as an argument and returns a list of all students studying that programm."
   ]
  },
  {
   "cell_type": "code",
   "execution_count": 11,
   "metadata": {},
   "outputs": [],
   "source": [
    "### your solution ###"
   ]
  },
  {
   "cell_type": "code",
   "execution_count": 12,
   "metadata": {},
   "outputs": [
    {
     "name": "stdout",
     "output_type": "stream",
     "text": [
      "['Bernd']\n"
     ]
    }
   ],
   "source": [
    "### TESTING ###\n",
    "\n",
    "assert(callable(University))\n",
    "uni = University()\n",
    "leo = Student('Leo', \"Bernd\", 12345, \"Computer Science\", 2)\n",
    "bernd = Student('Bernd', \"Thomson\", 134454, \"Architecture\", 1)\n",
    "uni.new_student(carla)\n",
    "uni.new_student(leo)\n",
    "uni.new_student(bernd)\n",
    "assert(uni.programm_students(\"Architecture\") == ['Bernd'])"
   ]
  }
 ],
 "metadata": {
  "kernelspec": {
   "display_name": "pythonIIworkshop",
   "language": "python",
   "name": "python3"
  },
  "language_info": {
   "codemirror_mode": {
    "name": "ipython",
    "version": 3
   },
   "file_extension": ".py",
   "mimetype": "text/x-python",
   "name": "python",
   "nbconvert_exporter": "python",
   "pygments_lexer": "ipython3",
   "version": "3.11.3"
  },
  "orig_nbformat": 4
 },
 "nbformat": 4,
 "nbformat_minor": 2
}
