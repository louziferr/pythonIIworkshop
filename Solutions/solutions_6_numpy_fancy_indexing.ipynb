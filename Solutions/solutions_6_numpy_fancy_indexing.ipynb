{
 "cells": [
  {
   "cell_type": "markdown",
   "metadata": {},
   "source": [
    "### Requirements"
   ]
  },
  {
   "cell_type": "code",
   "execution_count": 1,
   "metadata": {},
   "outputs": [],
   "source": [
    "import numpy as np\n",
    "\n",
    "# for plotting\n",
    "import matplotlib.pyplot as plt"
   ]
  },
  {
   "cell_type": "code",
   "execution_count": 2,
   "metadata": {
    "scrolled": true
   },
   "outputs": [],
   "source": [
    "palette = np.array( [   [0,0,0],            # black\n",
    "                       [255,0,0],           # red\n",
    "                       [0,255,0],           # green\n",
    "                       [0,0,255],           # blue\n",
    "                       [255,255,255] ])    # white\n"
   ]
  },
  {
   "cell_type": "markdown",
   "metadata": {},
   "source": [
    "## Exercises for lecture 6"
   ]
  },
  {
   "cell_type": "markdown",
   "metadata": {},
   "source": [
    "**Task a)** Using the array palette with the rgb codes for black, red, green, blue and white recreate this image:\n",
    "\n",
    "![](../images/fancyindexing.png)"
   ]
  },
  {
   "cell_type": "code",
   "execution_count": 3,
   "metadata": {},
   "outputs": [
    {
     "data": {
      "image/png": "[encoded data removed]",
      "text/plain": [
       "<Figure size 432x288 with 1 Axes>"
      ]
     },
     "metadata": {
      "needs_background": "light"
     },
     "output_type": "display_data"
    }
   ],
   "source": [
    "image = np.array( [ [ 0, 1, 0],         # each value corresponds to a color in the palette\n",
    "                    [ 2, 3, 2],\n",
    "                      [4, 1, 4]] )     # the (2,4,3) color image\n",
    "\n",
    "                                    \n",
    "plt.imshow(palette[image])\n",
    "plt.show()"
   ]
  },
  {
   "cell_type": "markdown",
   "metadata": {},
   "source": [
    "**Task b)** Filter an array of integers for only even numbers. (*Hint: use %*)"
   ]
  },
  {
   "cell_type": "code",
   "execution_count": 4,
   "metadata": {
    "scrolled": true
   },
   "outputs": [
    {
     "data": {
      "text/plain": [
       "array([668, 152, 488, 352, 582,  68,  12, 112, 768, 750,  56, 192, 108,\n",
       "       540, 388, 154, 778, 430, 788, 986, 100, 224, 132, 750, 826, 282,\n",
       "       286, 724, 752, 672,  28, 538, 230, 278,  88, 538, 844,  50, 368,\n",
       "       270, 540, 486, 944, 870, 716, 564, 832, 712, 868, 504, 784, 908,\n",
       "       642,  18, 744, 816, 540, 754, 970, 722, 936, 506, 214, 104, 628,\n",
       "       990, 154, 842, 170, 632, 656, 126,  32, 714, 174, 180, 412, 314,\n",
       "       698, 398, 332, 754, 968, 426,  70, 864, 448, 524, 676,  56, 262,\n",
       "        72, 262, 944, 766, 804, 976, 376, 768, 790, 320, 510, 724, 396,\n",
       "       170, 746, 446, 182, 300, 734, 842, 962, 424, 802, 208, 824, 698,\n",
       "       950, 304, 428, 268, 338, 828, 898, 740, 554, 930, 390, 940, 746,\n",
       "       154, 402, 794, 314, 942, 156, 984, 556,  92, 422, 788,   6, 168,\n",
       "       952, 332, 984, 872, 998, 160, 134,  44, 658, 846, 298, 234, 696,\n",
       "       578, 962,  54, 720, 484, 766,  28, 904, 342,  76, 572, 790, 472,\n",
       "       652,  12, 210, 302, 900, 856, 964, 770, 728, 218, 436, 162,  94,\n",
       "       568, 872,  22,  12, 988, 554, 788, 800, 832, 704, 718,  26, 414,\n",
       "       536, 898, 696, 216,  40, 920, 424, 656, 358, 308, 756, 838, 208,\n",
       "       756, 190, 906, 248, 166, 818, 604,  58, 754, 112, 634, 684, 436,\n",
       "       380, 890, 182, 492, 440, 240,  90, 354, 966, 494, 982, 742, 338,\n",
       "       800, 520, 908, 148, 506, 170, 108, 668, 728, 816, 390, 614, 266,\n",
       "       150, 292,  30, 720, 158, 728, 160, 788, 294, 532, 958, 920, 790,\n",
       "       498, 530, 734, 496, 794, 778, 242, 918, 532, 186, 854, 280, 950,\n",
       "       502, 708, 436, 144, 888, 132, 676, 584, 714, 326, 516, 752, 740,\n",
       "       378, 822, 458, 554, 756, 470, 940, 546, 350,  60, 258, 748, 650,\n",
       "       242, 536, 660, 500, 758, 862,  22, 258, 378, 126, 566, 324, 500,\n",
       "       744,  20, 894, 720, 952, 856, 126,  48, 140, 490,  26,  24, 344,\n",
       "       864, 974, 864, 516, 974, 108, 674, 404, 514, 878, 790,   4, 104,\n",
       "       716, 520, 978, 748,  82, 772, 902, 406, 838, 628, 336, 762, 546,\n",
       "       608, 344, 648, 454, 488, 362, 324, 210,  22,  62, 884, 398, 608,\n",
       "       338, 426, 572, 350, 286, 778, 582, 384, 508, 698, 758, 454, 492,\n",
       "       828, 170, 278, 798, 520, 234,  72, 314, 442, 582, 480, 202, 742,\n",
       "       886,  66,   4, 408, 792, 794, 576, 766, 252, 334, 440, 348, 212,\n",
       "       876, 420, 388, 334, 312,  22,  60, 912, 580, 274, 956,  16, 244,\n",
       "       992, 630, 186, 106, 554, 982, 246, 690, 364, 602, 760, 908, 590,\n",
       "       828, 400, 894, 210,  64, 442, 344, 242, 830, 698, 988, 332, 818,\n",
       "       282, 350, 682,  90, 922, 654, 420,  52,  88, 702, 142, 458, 688,\n",
       "       896, 572, 170, 270, 254, 172, 740, 116, 602, 810, 886, 450, 908,\n",
       "       534, 980, 116, 640, 390, 338, 294, 570, 904, 790, 926, 810, 788,\n",
       "       614, 512, 228, 530,  38, 122, 856, 606, 324,  82, 176, 704,  86,\n",
       "       540, 412, 228, 630, 806, 628, 480, 798, 318,  66, 812, 920, 816,\n",
       "       764, 674, 214, 890, 240, 176, 826, 832, 924])"
      ]
     },
     "execution_count": 4,
     "metadata": {},
     "output_type": "execute_result"
    }
   ],
   "source": [
    "array_of_ints = np.random.randint(0,1000,1000)\n",
    "\n",
    "array_of_ints[array_of_ints % 2 == 0]"
   ]
  }
 ],
 "metadata": {
  "kernelspec": {
   "display_name": "Python 3",
   "language": "python",
   "name": "python3"
  },
  "language_info": {
   "codemirror_mode": {
    "name": "ipython",
    "version": 3
   },
   "file_extension": ".py",
   "mimetype": "text/x-python",
   "name": "python",
   "nbconvert_exporter": "python",
   "pygments_lexer": "ipython3",
   "version": "3.8.5"
  }
 },
 "nbformat": 4,
 "nbformat_minor": 4
}
