{
 "cells": [
  {
   "cell_type": "markdown",
   "metadata": {},
   "source": [
    "### Excercise Classes\n",
    "\n",
    "### University System\n",
    "\n",
    "The university system crashed and now you need to re-write the whole code base. First off, we need a system to save each student's information.\n",
    "\n",
    "### 1. Constructor\n",
    "\n",
    "Write a class named 'Student' that saves the following information about each student:\n",
    "\n",
    "- first name\n",
    "- second name\n",
    "- student ID\n",
    "- degree programm\n",
    "- current semester\n",
    "\n",
    "The constructor of the class needs all the above information to create a new instance of 'Student'. Make sure you type-check the parameters!\n",
    "\n",
    "#### Testing\n",
    "\n",
    "Test your constructor by creating a new student.\n",
    "\n",
    "### 2. Pretty print\n",
    "\n",
    "Write a function _ _ str _ _ that pretty-prints all the information of the student.\n",
    "\n",
    "### 3. New Semester\n",
    "\n",
    "Write a function named 'new_semester()' that updates the student's semester (+1) when it is called.\n",
    "\n",
    "#### Testing\n",
    "\n",
    "Test your function by calling it once and checking if the semester was updated."
   ]
  },
  {
   "cell_type": "code",
   "execution_count": 2,
   "metadata": {},
   "outputs": [],
   "source": [
    "## Solution\n",
    "\n",
    "class Student:\n",
    "\n",
    "    # Constructor\n",
    "    def __init__(self, first_name: str, second_name: str, studentID: int, degree_programm: str, semester: int):\n",
    "        self.first_name: str = first_name\n",
    "        self.second_name: str = second_name\n",
    "        self.studentID: int = studentID\n",
    "        self.degree_programm: str = degree_programm\n",
    "        self.semester: int = semester\n",
    "\n",
    "    # Function to upgrade semester\n",
    "    def new_semester(self):\n",
    "        self.semester += 1\n",
    "\n",
    "    def __str__(self):\n",
    "        return \"\\n\".join([\"[STUDENT]\",\n",
    "                          \"First Name: \" + self.first_name,\n",
    "                          \"Second Name: \" + self.second_name,\n",
    "                          \"Student ID: \" + str(self.studentID),\n",
    "                          \"Degree Programm: \" + self.degree_programm,\n",
    "                          \"Semester: \" + str(self.semester)])"
   ]
  },
  {
   "cell_type": "code",
   "execution_count": 3,
   "metadata": {},
   "outputs": [
    {
     "name": "stdout",
     "output_type": "stream",
     "text": [
      "[STUDENT]\n",
      "First Name: Carla\n",
      "Second Name: Botzkow\n",
      "Student ID: 456123\n",
      "Degree Programm: Computer Science\n",
      "Semester: 2\n",
      "Carla's semester: 2\n",
      "Carla's semester: 3\n"
     ]
    }
   ],
   "source": [
    "### Testing\n",
    "carla = Student('Carla', 'Botzkow', 456123, 'Computer Science', 2)\n",
    "\n",
    "print(carla)\n",
    "\n",
    "print(\"Carla's semester: \" + str(carla.semester))\n",
    "\n",
    "carla.new_semester()\n",
    "\n",
    "print(\"Carla's semester: \" + str(carla.semester))\n"
   ]
  },
  {
   "cell_type": "markdown",
   "metadata": {},
   "source": [
    "### University System\n",
    "\n",
    "### 1. List of students\n",
    "\n",
    "Now, write a class 'University' that has a list of all current students. The students are of type 'Student'.\n",
    "\n",
    "The constructor of the class takes no arguments. \n",
    "\n",
    "With a function 'new_student(Student)' a new student will be added to the system.\n",
    "\n",
    "Write the function _ _ str _ _ that returns a string with all student names.\n",
    "\n",
    "#### Testing\n",
    "\n",
    "Test your class by creating a new instance and adding three students.\n",
    "\n",
    "### 2. Degree Programm Function\n",
    "\n",
    "Write a function 'programm_students(degree_programm)' that takes a degree programm as an argument and returns a list of all students studying that programm."
   ]
  },
  {
   "cell_type": "code",
   "execution_count": 4,
   "metadata": {},
   "outputs": [],
   "source": [
    "### your solution ###\n",
    "\n",
    "class University:\n",
    "    # Constructor\n",
    "    def __init__(self):\n",
    "        self.students = list()\n",
    "\n",
    "    # Function to add a new student to the system\n",
    "    def new_student(self, student: Student):\n",
    "        self.students.append(student)\n",
    "\n",
    "    def __str__(self):\n",
    "        names = list()\n",
    "        for student in self.students:\n",
    "            names.append(student.first_name + \" \" + student.second_name)\n",
    "        return \"[UNIVERSITY]\\n\" + \"\\n\".join(names)\n",
    "    \n",
    "    def programm_students(self, degree_programm: str):\n",
    "        students = [student.first_name for student in self.students if student.degree_programm == degree_programm]\n",
    "        return students"
   ]
  },
  {
   "cell_type": "code",
   "execution_count": 7,
   "metadata": {},
   "outputs": [
    {
     "name": "stdout",
     "output_type": "stream",
     "text": [
      "[UNIVERSITY]\n",
      "Carla Botzkow\n",
      "Ben Schulz\n",
      "Lisa Berehnd\n",
      "Computer Science Student: Carla\n",
      "Computer Science Student: Lisa\n"
     ]
    }
   ],
   "source": [
    "uni = University()\n",
    "\n",
    "carla = Student('Carla', 'Botzkow', 456123, 'Computer Science', 2)\n",
    "ben = Student('Ben', 'Schulz', 125672, 'Architecture', 3)\n",
    "lisa = Student('Lisa', 'Berehnd', 432154, 'Computer Science', 5)\n",
    "\n",
    "uni.new_student(carla)\n",
    "uni.new_student(ben)\n",
    "uni.new_student(lisa)\n",
    "\n",
    "print(uni)\n",
    "\n",
    "program_students = uni.programm_students('Computer Science')\n",
    "for student in program_students:\n",
    "    print(\"Computer Science Student: \" + student.first_name)"
   ]
  }
 ],
 "metadata": {
  "kernelspec": {
   "display_name": "electroacoustics",
   "language": "python",
   "name": "python3"
  },
  "language_info": {
   "codemirror_mode": {
    "name": "ipython",
    "version": 3
   },
   "file_extension": ".py",
   "mimetype": "text/x-python",
   "name": "python",
   "nbconvert_exporter": "python",
   "pygments_lexer": "ipython3",
   "version": "3.11.3"
  },
  "orig_nbformat": 4
 },
 "nbformat": 4,
 "nbformat_minor": 2
}
