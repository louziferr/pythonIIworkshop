{
 "cells": [
  {
   "cell_type": "markdown",
   "metadata": {},
   "source": [
    "### Requirements"
   ]
  },
  {
   "cell_type": "code",
   "execution_count": 1,
   "metadata": {},
   "outputs": [],
   "source": [
    "import pandas as pd\n",
    "\n",
    "# for plotting\n",
    "import matplotlib.pyplot as plt"
   ]
  },
  {
   "cell_type": "markdown",
   "metadata": {},
   "source": [
    "## Data preprocessing and Data cleansing\n",
    "\n",
    "In lecture 9 we have worked with a data set, which consists of the height and shoe size of men and women. \n",
    "\n",
    "In the exercises further below we want to preprocess and clean the data such that we can use it in lecture 10 to train a prediction model."
   ]
  },
  {
   "cell_type": "code",
   "execution_count": 2,
   "metadata": {},
   "outputs": [
    {
     "data": {
      "text/html": [
       "<div>\n",
       "<style scoped>\n",
       "    .dataframe tbody tr th:only-of-type {\n",
       "        vertical-align: middle;\n",
       "    }\n",
       "\n",
       "    .dataframe tbody tr th {\n",
       "        vertical-align: top;\n",
       "    }\n",
       "\n",
       "    .dataframe thead th {\n",
       "        text-align: right;\n",
       "    }\n",
       "</style>\n",
       "<table border=\"1\" class=\"dataframe\">\n",
       "  <thead>\n",
       "    <tr style=\"text-align: right;\">\n",
       "      <th></th>\n",
       "      <th>time</th>\n",
       "      <th>gender</th>\n",
       "      <th>height</th>\n",
       "      <th>shoe_size</th>\n",
       "    </tr>\n",
       "  </thead>\n",
       "  <tbody>\n",
       "    <tr>\n",
       "      <th>0</th>\n",
       "      <td>04.10.2016 17:58:51</td>\n",
       "      <td>woman</td>\n",
       "      <td>160.0</td>\n",
       "      <td>40.0</td>\n",
       "    </tr>\n",
       "    <tr>\n",
       "      <th>1</th>\n",
       "      <td>04.10.2016 17:58:59</td>\n",
       "      <td>woman</td>\n",
       "      <td>171.0</td>\n",
       "      <td>39.0</td>\n",
       "    </tr>\n",
       "    <tr>\n",
       "      <th>2</th>\n",
       "      <td>04.10.2016 18:00:15</td>\n",
       "      <td>woman</td>\n",
       "      <td>174.0</td>\n",
       "      <td>39.0</td>\n",
       "    </tr>\n",
       "    <tr>\n",
       "      <th>3</th>\n",
       "      <td>04.10.2016 18:01:17</td>\n",
       "      <td>woman</td>\n",
       "      <td>176.0</td>\n",
       "      <td>40.0</td>\n",
       "    </tr>\n",
       "    <tr>\n",
       "      <th>4</th>\n",
       "      <td>04.10.2016 18:01:22</td>\n",
       "      <td>man</td>\n",
       "      <td>195.0</td>\n",
       "      <td>46.0</td>\n",
       "    </tr>\n",
       "    <tr>\n",
       "      <th>...</th>\n",
       "      <td>...</td>\n",
       "      <td>...</td>\n",
       "      <td>...</td>\n",
       "      <td>...</td>\n",
       "    </tr>\n",
       "    <tr>\n",
       "      <th>96</th>\n",
       "      <td>17.10.2016 12:37:09</td>\n",
       "      <td>woman</td>\n",
       "      <td>170.0</td>\n",
       "      <td>39.0</td>\n",
       "    </tr>\n",
       "    <tr>\n",
       "      <th>97</th>\n",
       "      <td>17.10.2016 13:12:48</td>\n",
       "      <td>woman</td>\n",
       "      <td>183.0</td>\n",
       "      <td>39.0</td>\n",
       "    </tr>\n",
       "    <tr>\n",
       "      <th>98</th>\n",
       "      <td>19.10.2016 17:07:53</td>\n",
       "      <td>woman</td>\n",
       "      <td>173.0</td>\n",
       "      <td>40.0</td>\n",
       "    </tr>\n",
       "    <tr>\n",
       "      <th>99</th>\n",
       "      <td>29.10.2016 20:28:33</td>\n",
       "      <td>woman</td>\n",
       "      <td>160.0</td>\n",
       "      <td>37.0</td>\n",
       "    </tr>\n",
       "    <tr>\n",
       "      <th>100</th>\n",
       "      <td>30.10.2016 11:57:57</td>\n",
       "      <td>woman</td>\n",
       "      <td>168.0</td>\n",
       "      <td>39.0</td>\n",
       "    </tr>\n",
       "  </tbody>\n",
       "</table>\n",
       "<p>101 rows × 4 columns</p>\n",
       "</div>"
      ],
      "text/plain": [
       "                    time gender  height  shoe_size\n",
       "0    04.10.2016 17:58:51  woman   160.0       40.0\n",
       "1    04.10.2016 17:58:59  woman   171.0       39.0\n",
       "2    04.10.2016 18:00:15  woman   174.0       39.0\n",
       "3    04.10.2016 18:01:17  woman   176.0       40.0\n",
       "4    04.10.2016 18:01:22    man   195.0       46.0\n",
       "..                   ...    ...     ...        ...\n",
       "96   17.10.2016 12:37:09  woman   170.0       39.0\n",
       "97   17.10.2016 13:12:48  woman   183.0       39.0\n",
       "98   19.10.2016 17:07:53  woman   173.0       40.0\n",
       "99   29.10.2016 20:28:33  woman   160.0       37.0\n",
       "100  30.10.2016 11:57:57  woman   168.0       39.0\n",
       "\n",
       "[101 rows x 4 columns]"
      ]
     },
     "execution_count": 2,
     "metadata": {},
     "output_type": "execute_result"
    }
   ],
   "source": [
    "shoesize_height = pd.read_csv(\"data/wo_men.csv\")\n",
    "shoesize_height"
   ]
  },
  {
   "cell_type": "code",
   "execution_count": 3,
   "metadata": {},
   "outputs": [],
   "source": [
    "def convert_sex(x):\n",
    "    if x==\"woman\":\n",
    "        return 1\n",
    "    elif x==\"man\":\n",
    "        return 0\n",
    "    else: # in case no data is available\n",
    "        return None"
   ]
  },
  {
   "cell_type": "code",
   "execution_count": 4,
   "metadata": {},
   "outputs": [],
   "source": [
    "shoesize_height['gender2'] = shoesize_height['gender'].apply(convert_sex)"
   ]
  },
  {
   "cell_type": "code",
   "execution_count": 5,
   "metadata": {
    "scrolled": true
   },
   "outputs": [
    {
     "data": {
      "text/html": [
       "<div>\n",
       "<style scoped>\n",
       "    .dataframe tbody tr th:only-of-type {\n",
       "        vertical-align: middle;\n",
       "    }\n",
       "\n",
       "    .dataframe tbody tr th {\n",
       "        vertical-align: top;\n",
       "    }\n",
       "\n",
       "    .dataframe thead th {\n",
       "        text-align: right;\n",
       "    }\n",
       "</style>\n",
       "<table border=\"1\" class=\"dataframe\">\n",
       "  <thead>\n",
       "    <tr style=\"text-align: right;\">\n",
       "      <th></th>\n",
       "      <th>time</th>\n",
       "      <th>gender</th>\n",
       "      <th>height</th>\n",
       "      <th>shoe_size</th>\n",
       "      <th>gender2</th>\n",
       "    </tr>\n",
       "  </thead>\n",
       "  <tbody>\n",
       "    <tr>\n",
       "      <th>0</th>\n",
       "      <td>04.10.2016 17:58:51</td>\n",
       "      <td>woman</td>\n",
       "      <td>160.0</td>\n",
       "      <td>40.0</td>\n",
       "      <td>1.0</td>\n",
       "    </tr>\n",
       "    <tr>\n",
       "      <th>1</th>\n",
       "      <td>04.10.2016 17:58:59</td>\n",
       "      <td>woman</td>\n",
       "      <td>171.0</td>\n",
       "      <td>39.0</td>\n",
       "      <td>1.0</td>\n",
       "    </tr>\n",
       "    <tr>\n",
       "      <th>2</th>\n",
       "      <td>04.10.2016 18:00:15</td>\n",
       "      <td>woman</td>\n",
       "      <td>174.0</td>\n",
       "      <td>39.0</td>\n",
       "      <td>1.0</td>\n",
       "    </tr>\n",
       "    <tr>\n",
       "      <th>3</th>\n",
       "      <td>04.10.2016 18:01:17</td>\n",
       "      <td>woman</td>\n",
       "      <td>176.0</td>\n",
       "      <td>40.0</td>\n",
       "      <td>1.0</td>\n",
       "    </tr>\n",
       "    <tr>\n",
       "      <th>4</th>\n",
       "      <td>04.10.2016 18:01:22</td>\n",
       "      <td>man</td>\n",
       "      <td>195.0</td>\n",
       "      <td>46.0</td>\n",
       "      <td>0.0</td>\n",
       "    </tr>\n",
       "    <tr>\n",
       "      <th>...</th>\n",
       "      <td>...</td>\n",
       "      <td>...</td>\n",
       "      <td>...</td>\n",
       "      <td>...</td>\n",
       "      <td>...</td>\n",
       "    </tr>\n",
       "    <tr>\n",
       "      <th>96</th>\n",
       "      <td>17.10.2016 12:37:09</td>\n",
       "      <td>woman</td>\n",
       "      <td>170.0</td>\n",
       "      <td>39.0</td>\n",
       "      <td>1.0</td>\n",
       "    </tr>\n",
       "    <tr>\n",
       "      <th>97</th>\n",
       "      <td>17.10.2016 13:12:48</td>\n",
       "      <td>woman</td>\n",
       "      <td>183.0</td>\n",
       "      <td>39.0</td>\n",
       "      <td>1.0</td>\n",
       "    </tr>\n",
       "    <tr>\n",
       "      <th>98</th>\n",
       "      <td>19.10.2016 17:07:53</td>\n",
       "      <td>woman</td>\n",
       "      <td>173.0</td>\n",
       "      <td>40.0</td>\n",
       "      <td>1.0</td>\n",
       "    </tr>\n",
       "    <tr>\n",
       "      <th>99</th>\n",
       "      <td>29.10.2016 20:28:33</td>\n",
       "      <td>woman</td>\n",
       "      <td>160.0</td>\n",
       "      <td>37.0</td>\n",
       "      <td>1.0</td>\n",
       "    </tr>\n",
       "    <tr>\n",
       "      <th>100</th>\n",
       "      <td>30.10.2016 11:57:57</td>\n",
       "      <td>woman</td>\n",
       "      <td>168.0</td>\n",
       "      <td>39.0</td>\n",
       "      <td>1.0</td>\n",
       "    </tr>\n",
       "  </tbody>\n",
       "</table>\n",
       "<p>101 rows × 5 columns</p>\n",
       "</div>"
      ],
      "text/plain": [
       "                    time gender  height  shoe_size  gender2\n",
       "0    04.10.2016 17:58:51  woman   160.0       40.0      1.0\n",
       "1    04.10.2016 17:58:59  woman   171.0       39.0      1.0\n",
       "2    04.10.2016 18:00:15  woman   174.0       39.0      1.0\n",
       "3    04.10.2016 18:01:17  woman   176.0       40.0      1.0\n",
       "4    04.10.2016 18:01:22    man   195.0       46.0      0.0\n",
       "..                   ...    ...     ...        ...      ...\n",
       "96   17.10.2016 12:37:09  woman   170.0       39.0      1.0\n",
       "97   17.10.2016 13:12:48  woman   183.0       39.0      1.0\n",
       "98   19.10.2016 17:07:53  woman   173.0       40.0      1.0\n",
       "99   29.10.2016 20:28:33  woman   160.0       37.0      1.0\n",
       "100  30.10.2016 11:57:57  woman   168.0       39.0      1.0\n",
       "\n",
       "[101 rows x 5 columns]"
      ]
     },
     "execution_count": 5,
     "metadata": {},
     "output_type": "execute_result"
    }
   ],
   "source": [
    "shoesize_height"
   ]
  },
  {
   "cell_type": "markdown",
   "metadata": {},
   "source": [
    "## Exercises for lecture 9"
   ]
  },
  {
   "cell_type": "markdown",
   "metadata": {},
   "source": [
    "**Task a)** Delete the *time* column in the *shoesize_height* dataset."
   ]
  },
  {
   "cell_type": "code",
   "execution_count": 6,
   "metadata": {},
   "outputs": [],
   "source": [
    "# this can be executed only once, otherwise an error occurs, \n",
    "# because the column time was already deleted\n",
    "shoesize_height = shoesize_height.drop(\"time\",axis=1)"
   ]
  },
  {
   "cell_type": "code",
   "execution_count": 7,
   "metadata": {
    "scrolled": true
   },
   "outputs": [
    {
     "data": {
      "text/html": [
       "<div>\n",
       "<style scoped>\n",
       "    .dataframe tbody tr th:only-of-type {\n",
       "        vertical-align: middle;\n",
       "    }\n",
       "\n",
       "    .dataframe tbody tr th {\n",
       "        vertical-align: top;\n",
       "    }\n",
       "\n",
       "    .dataframe thead th {\n",
       "        text-align: right;\n",
       "    }\n",
       "</style>\n",
       "<table border=\"1\" class=\"dataframe\">\n",
       "  <thead>\n",
       "    <tr style=\"text-align: right;\">\n",
       "      <th></th>\n",
       "      <th>gender</th>\n",
       "      <th>height</th>\n",
       "      <th>shoe_size</th>\n",
       "      <th>gender2</th>\n",
       "    </tr>\n",
       "  </thead>\n",
       "  <tbody>\n",
       "    <tr>\n",
       "      <th>0</th>\n",
       "      <td>woman</td>\n",
       "      <td>160.0</td>\n",
       "      <td>40.0</td>\n",
       "      <td>1.0</td>\n",
       "    </tr>\n",
       "    <tr>\n",
       "      <th>1</th>\n",
       "      <td>woman</td>\n",
       "      <td>171.0</td>\n",
       "      <td>39.0</td>\n",
       "      <td>1.0</td>\n",
       "    </tr>\n",
       "    <tr>\n",
       "      <th>2</th>\n",
       "      <td>woman</td>\n",
       "      <td>174.0</td>\n",
       "      <td>39.0</td>\n",
       "      <td>1.0</td>\n",
       "    </tr>\n",
       "    <tr>\n",
       "      <th>3</th>\n",
       "      <td>woman</td>\n",
       "      <td>176.0</td>\n",
       "      <td>40.0</td>\n",
       "      <td>1.0</td>\n",
       "    </tr>\n",
       "    <tr>\n",
       "      <th>4</th>\n",
       "      <td>man</td>\n",
       "      <td>195.0</td>\n",
       "      <td>46.0</td>\n",
       "      <td>0.0</td>\n",
       "    </tr>\n",
       "    <tr>\n",
       "      <th>...</th>\n",
       "      <td>...</td>\n",
       "      <td>...</td>\n",
       "      <td>...</td>\n",
       "      <td>...</td>\n",
       "    </tr>\n",
       "    <tr>\n",
       "      <th>96</th>\n",
       "      <td>woman</td>\n",
       "      <td>170.0</td>\n",
       "      <td>39.0</td>\n",
       "      <td>1.0</td>\n",
       "    </tr>\n",
       "    <tr>\n",
       "      <th>97</th>\n",
       "      <td>woman</td>\n",
       "      <td>183.0</td>\n",
       "      <td>39.0</td>\n",
       "      <td>1.0</td>\n",
       "    </tr>\n",
       "    <tr>\n",
       "      <th>98</th>\n",
       "      <td>woman</td>\n",
       "      <td>173.0</td>\n",
       "      <td>40.0</td>\n",
       "      <td>1.0</td>\n",
       "    </tr>\n",
       "    <tr>\n",
       "      <th>99</th>\n",
       "      <td>woman</td>\n",
       "      <td>160.0</td>\n",
       "      <td>37.0</td>\n",
       "      <td>1.0</td>\n",
       "    </tr>\n",
       "    <tr>\n",
       "      <th>100</th>\n",
       "      <td>woman</td>\n",
       "      <td>168.0</td>\n",
       "      <td>39.0</td>\n",
       "      <td>1.0</td>\n",
       "    </tr>\n",
       "  </tbody>\n",
       "</table>\n",
       "<p>101 rows × 4 columns</p>\n",
       "</div>"
      ],
      "text/plain": [
       "    gender  height  shoe_size  gender2\n",
       "0    woman   160.0       40.0      1.0\n",
       "1    woman   171.0       39.0      1.0\n",
       "2    woman   174.0       39.0      1.0\n",
       "3    woman   176.0       40.0      1.0\n",
       "4      man   195.0       46.0      0.0\n",
       "..     ...     ...        ...      ...\n",
       "96   woman   170.0       39.0      1.0\n",
       "97   woman   183.0       39.0      1.0\n",
       "98   woman   173.0       40.0      1.0\n",
       "99   woman   160.0       37.0      1.0\n",
       "100  woman   168.0       39.0      1.0\n",
       "\n",
       "[101 rows x 4 columns]"
      ]
     },
     "execution_count": 7,
     "metadata": {},
     "output_type": "execute_result"
    }
   ],
   "source": [
    "shoesize_height"
   ]
  },
  {
   "cell_type": "markdown",
   "metadata": {},
   "source": [
    "**Task b)** Delete *gender2* and directly convert the string values in *gender* to binary without adding a new column."
   ]
  },
  {
   "cell_type": "code",
   "execution_count": 8,
   "metadata": {},
   "outputs": [],
   "source": [
    "shoesize_height = shoesize_height.drop(\"gender2\", axis=1)\n",
    "\n",
    "shoesize_height['gender'] = shoesize_height['gender'].apply(convert_sex)"
   ]
  },
  {
   "cell_type": "code",
   "execution_count": 9,
   "metadata": {},
   "outputs": [
    {
     "data": {
      "text/html": [
       "<div>\n",
       "<style scoped>\n",
       "    .dataframe tbody tr th:only-of-type {\n",
       "        vertical-align: middle;\n",
       "    }\n",
       "\n",
       "    .dataframe tbody tr th {\n",
       "        vertical-align: top;\n",
       "    }\n",
       "\n",
       "    .dataframe thead th {\n",
       "        text-align: right;\n",
       "    }\n",
       "</style>\n",
       "<table border=\"1\" class=\"dataframe\">\n",
       "  <thead>\n",
       "    <tr style=\"text-align: right;\">\n",
       "      <th></th>\n",
       "      <th>gender</th>\n",
       "      <th>height</th>\n",
       "      <th>shoe_size</th>\n",
       "    </tr>\n",
       "  </thead>\n",
       "  <tbody>\n",
       "    <tr>\n",
       "      <th>0</th>\n",
       "      <td>1.0</td>\n",
       "      <td>160.0</td>\n",
       "      <td>40.0</td>\n",
       "    </tr>\n",
       "    <tr>\n",
       "      <th>1</th>\n",
       "      <td>1.0</td>\n",
       "      <td>171.0</td>\n",
       "      <td>39.0</td>\n",
       "    </tr>\n",
       "    <tr>\n",
       "      <th>2</th>\n",
       "      <td>1.0</td>\n",
       "      <td>174.0</td>\n",
       "      <td>39.0</td>\n",
       "    </tr>\n",
       "    <tr>\n",
       "      <th>3</th>\n",
       "      <td>1.0</td>\n",
       "      <td>176.0</td>\n",
       "      <td>40.0</td>\n",
       "    </tr>\n",
       "    <tr>\n",
       "      <th>4</th>\n",
       "      <td>0.0</td>\n",
       "      <td>195.0</td>\n",
       "      <td>46.0</td>\n",
       "    </tr>\n",
       "    <tr>\n",
       "      <th>...</th>\n",
       "      <td>...</td>\n",
       "      <td>...</td>\n",
       "      <td>...</td>\n",
       "    </tr>\n",
       "    <tr>\n",
       "      <th>96</th>\n",
       "      <td>1.0</td>\n",
       "      <td>170.0</td>\n",
       "      <td>39.0</td>\n",
       "    </tr>\n",
       "    <tr>\n",
       "      <th>97</th>\n",
       "      <td>1.0</td>\n",
       "      <td>183.0</td>\n",
       "      <td>39.0</td>\n",
       "    </tr>\n",
       "    <tr>\n",
       "      <th>98</th>\n",
       "      <td>1.0</td>\n",
       "      <td>173.0</td>\n",
       "      <td>40.0</td>\n",
       "    </tr>\n",
       "    <tr>\n",
       "      <th>99</th>\n",
       "      <td>1.0</td>\n",
       "      <td>160.0</td>\n",
       "      <td>37.0</td>\n",
       "    </tr>\n",
       "    <tr>\n",
       "      <th>100</th>\n",
       "      <td>1.0</td>\n",
       "      <td>168.0</td>\n",
       "      <td>39.0</td>\n",
       "    </tr>\n",
       "  </tbody>\n",
       "</table>\n",
       "<p>101 rows × 3 columns</p>\n",
       "</div>"
      ],
      "text/plain": [
       "     gender  height  shoe_size\n",
       "0       1.0   160.0       40.0\n",
       "1       1.0   171.0       39.0\n",
       "2       1.0   174.0       39.0\n",
       "3       1.0   176.0       40.0\n",
       "4       0.0   195.0       46.0\n",
       "..      ...     ...        ...\n",
       "96      1.0   170.0       39.0\n",
       "97      1.0   183.0       39.0\n",
       "98      1.0   173.0       40.0\n",
       "99      1.0   160.0       37.0\n",
       "100     1.0   168.0       39.0\n",
       "\n",
       "[101 rows x 3 columns]"
      ]
     },
     "execution_count": 9,
     "metadata": {},
     "output_type": "execute_result"
    }
   ],
   "source": [
    "shoesize_height"
   ]
  },
  {
   "cell_type": "markdown",
   "metadata": {},
   "source": [
    "**Task c)** Find out if there are missing data values and where they are. \n",
    "\n",
    "For this, you can use the methods \n",
    "\n",
    "                                data_frame.isna() \n",
    "https://pandas.pydata.org/pandas-docs/stable/reference/api/pandas.DataFrame.isna.html\n",
    "\n",
    "*Hint: you can use masks here and check for each column*"
   ]
  },
  {
   "cell_type": "code",
   "execution_count": 10,
   "metadata": {},
   "outputs": [
    {
     "data": {
      "text/html": [
       "<div>\n",
       "<style scoped>\n",
       "    .dataframe tbody tr th:only-of-type {\n",
       "        vertical-align: middle;\n",
       "    }\n",
       "\n",
       "    .dataframe tbody tr th {\n",
       "        vertical-align: top;\n",
       "    }\n",
       "\n",
       "    .dataframe thead th {\n",
       "        text-align: right;\n",
       "    }\n",
       "</style>\n",
       "<table border=\"1\" class=\"dataframe\">\n",
       "  <thead>\n",
       "    <tr style=\"text-align: right;\">\n",
       "      <th></th>\n",
       "      <th>gender</th>\n",
       "      <th>height</th>\n",
       "      <th>shoe_size</th>\n",
       "    </tr>\n",
       "  </thead>\n",
       "  <tbody>\n",
       "    <tr>\n",
       "      <th>85</th>\n",
       "      <td>NaN</td>\n",
       "      <td>NaN</td>\n",
       "      <td>NaN</td>\n",
       "    </tr>\n",
       "  </tbody>\n",
       "</table>\n",
       "</div>"
      ],
      "text/plain": [
       "    gender  height  shoe_size\n",
       "85     NaN     NaN        NaN"
      ]
     },
     "execution_count": 10,
     "metadata": {},
     "output_type": "execute_result"
    }
   ],
   "source": [
    "shoesize_height[shoesize_height['gender'].isna()]"
   ]
  },
  {
   "cell_type": "markdown",
   "metadata": {},
   "source": [
    "**Task d)** Delete the missing data values with the method\n",
    "\n",
    "                                    data_frame.dropna()\n",
    "    \n",
    "https://pandas.pydata.org/docs/reference/api/pandas.DataFrame.dropna.html"
   ]
  },
  {
   "cell_type": "code",
   "execution_count": 11,
   "metadata": {},
   "outputs": [],
   "source": [
    "shoesize_height = shoesize_height.dropna()"
   ]
  },
  {
   "cell_type": "markdown",
   "metadata": {},
   "source": [
    "**Task e)** How many women and how many men are in the data set? What is the maximum and the minimum height and shoe_size per gender? *Hint: you can use masks here*"
   ]
  },
  {
   "cell_type": "code",
   "execution_count": 12,
   "metadata": {},
   "outputs": [
    {
     "name": "stdout",
     "output_type": "stream",
     "text": [
      "       gender      height  shoe_size\n",
      "count    82.0   82.000000  82.000000\n",
      "mean      1.0  161.309512  38.871951\n",
      "std       0.0   42.782380   5.651292\n",
      "min       1.0    1.630000  35.000000\n",
      "25%       1.0  161.250000  37.000000\n",
      "50%       1.0  168.000000  38.000000\n",
      "75%       1.0  171.000000  39.000000\n",
      "max       1.0  364.000000  88.000000\n",
      "\n",
      "       gender      height  shoe_size\n",
      "count    18.0   18.000000  18.000000\n",
      "mean      0.0  183.111111  43.888889\n",
      "std       0.0    9.958082   2.398256\n",
      "min       0.0  171.000000  41.000000\n",
      "25%       0.0  175.750000  42.000000\n",
      "50%       0.0  181.500000  44.000000\n",
      "75%       0.0  184.500000  44.000000\n",
      "max       0.0  206.000000  50.000000\n"
     ]
    }
   ],
   "source": [
    "woman = shoesize_height[shoesize_height['gender'] == 1]\n",
    "\n",
    "man = shoesize_height[shoesize_height['gender'] == 0]\n",
    "\n",
    "print(woman.describe())\n",
    "print()\n",
    "print(man.describe())"
   ]
  },
  {
   "cell_type": "markdown",
   "metadata": {},
   "source": [
    "**Task f)** If you have solved the last task, you have probably recognized that some values cannot be correct. \n",
    "Now we want to visualize the data in order to further evaluate this issue. \n",
    "\n",
    "Make a 2d scatter plot with matplotlib plotting the height on the x-axis and the shoe size on the y-axis and give each gender a different color and a label (just e.g. label=\"woman\" for data from women). "
   ]
  },
  {
   "cell_type": "code",
   "execution_count": 13,
   "metadata": {
    "scrolled": true
   },
   "outputs": [
    {
     "data": {
      "image/png": "[encoded data removed]",
      "text/plain": [
       "<Figure size 432x288 with 1 Axes>"
      ]
     },
     "metadata": {
      "needs_background": "light"
     },
     "output_type": "display_data"
    }
   ],
   "source": [
    "plt.scatter(woman['height'], woman['shoe_size'], c = \"blue\", label=\"woman\")\n",
    "plt.scatter(man['height'], man['shoe_size'], c = \"orange\", label=\"man\")\n",
    "\n",
    "\n",
    "plt.title(\"Shoe size - height per gender\")\n",
    "plt.legend()\n",
    "plt.xlabel(\"height\")\n",
    "plt.ylabel(\"shoe size\")\n",
    "plt.show()"
   ]
  },
  {
   "cell_type": "markdown",
   "metadata": {},
   "source": [
    "**Task g)** Delete the data point with a height above 300."
   ]
  },
  {
   "cell_type": "code",
   "execution_count": 14,
   "metadata": {},
   "outputs": [],
   "source": [
    "shoesize_height = shoesize_height[shoesize_height['height']<300]"
   ]
  },
  {
   "cell_type": "markdown",
   "metadata": {},
   "source": [
    "**Task h)** Analyse the height values which are below 50. What is wrong here? Do a reasonable correction of the data."
   ]
  },
  {
   "cell_type": "code",
   "execution_count": 15,
   "metadata": {},
   "outputs": [],
   "source": [
    "row_indexer = shoesize_height['height']<50\n",
    "col_indexer = ['height']\n",
    "\n",
    "# height like 1.63 to be tranformed to 163\n",
    "shoesize_height.loc[row_indexer, col_indexer] *= 100"
   ]
  },
  {
   "cell_type": "markdown",
   "metadata": {},
   "source": [
    "**Task i)** Now do the same visualisation as in task f)"
   ]
  },
  {
   "cell_type": "code",
   "execution_count": 16,
   "metadata": {
    "scrolled": true
   },
   "outputs": [
    {
     "data": {
      "image/png": "[encoded data removed]",
      "text/plain": [
       "<Figure size 432x288 with 1 Axes>"
      ]
     },
     "metadata": {
      "needs_background": "light"
     },
     "output_type": "display_data"
    }
   ],
   "source": [
    "woman = shoesize_height[shoesize_height['gender'] == 1]\n",
    "man = shoesize_height[shoesize_height['gender'] == 0]\n",
    "\n",
    "plt.scatter(woman['height'], woman['shoe_size'], c = \"blue\", label=\"woman\")\n",
    "plt.scatter(man['height'], man['shoe_size'], c = \"orange\", label=\"man\")\n",
    "\n",
    "plt.title(\"Shoe size - height per gender\")\n",
    "plt.legend()\n",
    "plt.xlabel(\"height\")\n",
    "plt.ylabel(\"shoe size\")\n",
    "plt.show()"
   ]
  }
 ],
 "metadata": {
  "kernelspec": {
   "display_name": "Python 3",
   "language": "python",
   "name": "python3"
  },
  "language_info": {
   "codemirror_mode": {
    "name": "ipython",
    "version": 3
   },
   "file_extension": ".py",
   "mimetype": "text/x-python",
   "name": "python",
   "nbconvert_exporter": "python",
   "pygments_lexer": "ipython3",
   "version": "3.8.5"
  }
 },
 "nbformat": 4,
 "nbformat_minor": 4
}
