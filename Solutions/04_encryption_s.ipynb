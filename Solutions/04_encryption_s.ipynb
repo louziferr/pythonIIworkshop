{
 "cells": [
  {
   "cell_type": "markdown",
   "metadata": {},
   "source": [
    "### Exercise: Encryption\n",
    "\n",
    "- Encrypting and Decrypting messages\n",
    "\n",
    "You work in cybersecurity and are now writing functions for encrypting and decrypting messages."
   ]
  },
  {
   "cell_type": "markdown",
   "metadata": {},
   "source": [
    "### Task 1\n",
    "\n",
    "For the first step, we need a dictionary that allows us to map letters following the [ROT13](https://en.wikipedia.org/wiki/ROT13)-encryption.\n",
    "\n",
    "In the ROT13-encryption, each letter is mapped to the 13th letter after it in the alphabet.\n",
    "\n",
    "Write a function called `get_lettermap()`.\n",
    "\n",
    "The function creates a new dictionary in the following format:\n",
    "\n",
    "- `keys`: strings that represent single lower-case letters of the alphabet\n",
    "- `values`: strings that represent the 13th letter after the letter in the alphabet\n",
    "\n",
    "The function returns the resulting dictionary."
   ]
  },
  {
   "cell_type": "markdown",
   "metadata": {},
   "source": [
    "#### Hints\n",
    "\n",
    "1. Create a list with the letters of the alphabet.\n",
    "\n",
    "2. Loop over the list and find the key-value pairs for the dictionary.\n",
    "\n",
    "3. Use the % operator."
   ]
  },
  {
   "cell_type": "code",
   "execution_count": 7,
   "metadata": {},
   "outputs": [],
   "source": [
    "### your solution ###\n",
    "\n",
    "def get_lettermap():\n",
    "    letter_map = dict()\n",
    "    alphabet = \"a b c d e f g h i j k l m n o p q r s t u v w x y z\".split(\" \")\n",
    "    len_alphabet = len(alphabet)\n",
    "    for i in range(len_alphabet):\n",
    "        old_letter = alphabet[i]\n",
    "        new_letter = alphabet[(i+13)%len_alphabet]\n",
    "        letter_map[old_letter] = new_letter\n",
    "    return letter_map"
   ]
  },
  {
   "cell_type": "code",
   "execution_count": 8,
   "metadata": {},
   "outputs": [],
   "source": [
    "### TESTING ###\n",
    "assert(callable(get_lettermap))\n",
    "lettermap = get_lettermap()\n",
    "assert(len(lettermap) == 26)\n",
    "assert(lettermap['a'] == 'n')\n",
    "assert(lettermap['q'] == 'd')"
   ]
  },
  {
   "cell_type": "markdown",
   "metadata": {},
   "source": [
    "### Task 2\n",
    "\n",
    "Write a function called `encrypt(message)` that takes on argument:\n",
    "\n",
    "- `message`: a string that represents a message\n",
    "\n",
    "The function encrypts a message following [ROT13](https://en.wikipedia.org/wiki/ROT13)-encryption."
   ]
  },
  {
   "cell_type": "markdown",
   "metadata": {},
   "source": [
    "#### Hints\n",
    "\n",
    "1. Obtain a dict for mapping the letters using `get_lettermap()` and save it in a variable called `lettermap`.\n",
    "2. Transform the string `message` to a lower-case string.\n",
    "3. Create a new, empty string called `encrypted_message`.\n",
    "4. Loop over the letters of `message`. Process each letter as follows:\n",
    "\n",
    "    4.1. If the letter is in lettermap, the corresponding encrypted letter will be appended to `encrypted_message`.\n",
    "\n",
    "    4.2. Otherwise the letter as it is will be appended to `encrypted_message`.\n",
    "\n",
    "5. Return the string `encrypted_message`."
   ]
  },
  {
   "cell_type": "code",
   "execution_count": 23,
   "metadata": {},
   "outputs": [],
   "source": [
    "### your solution ###\n",
    "\n",
    "def encrypt(message):\n",
    "    lettermap = get_lettermap()\n",
    "    message = message.lower()\n",
    "    encrypted_message = \"\"\n",
    "    for letter in message:\n",
    "        if letter in lettermap:\n",
    "            encrypted_message += lettermap[letter]\n",
    "        else:\n",
    "            encrypted_message += letter\n",
    "    return encrypted_message"
   ]
  },
  {
   "cell_type": "code",
   "execution_count": 26,
   "metadata": {},
   "outputs": [],
   "source": [
    "### TESTING ###\n",
    "assert(callable(encrypt))\n",
    "assert(encrypt(\"hello this is a test\") == \"uryyb guvf vf n grfg\")\n",
    "assert(encrypt(\"Hello this is a Test\") == \"uryyb guvf vf n grfg\")\n",
    "assert(encrypt(\"And, this is also a Test!\") == \"naq, guvf vf nyfb n grfg!\")"
   ]
  },
  {
   "cell_type": "markdown",
   "metadata": {},
   "source": [
    "### Task 3\n",
    "\n",
    "Create a function called `decrypt(message)` that takes on argument:\n",
    "\n",
    "- `message`: a string that represents an encrypted message\n",
    "\n",
    "The function decrypts a message following [ROT13](https://en.wikipedia.org/wiki/ROT13)-decryption."
   ]
  },
  {
   "cell_type": "markdown",
   "metadata": {},
   "source": [
    "#### Hints\n",
    "\n",
    "1. Obtain a dict for mapping the letters using `get_lettermap()` and save it in a variable called `lettermap`.\n",
    "2. Reverse the key-value pairs in `lettermap`. *(hint: check [stackoverflow](https://stackoverflow.com/questions/483666/reverse-invert-a-dictionary-mapping))*\n",
    "3. Create a new, empty string called `decrypted_message`.\n",
    "4. Loop over the letters of `message`. Process each letter as follows:\n",
    "\n",
    "    4.1 If the letter is in `lettermap`, the corresponding decrypted letter will be appended to `decrypted_message`.\n",
    "\n",
    "    4.2. Otherwise the letter as it is will be appended to `decrypted_message`.\n",
    "\n",
    "5. Return the string `decrypted_message`."
   ]
  },
  {
   "cell_type": "code",
   "execution_count": 27,
   "metadata": {},
   "outputs": [],
   "source": [
    "### your solution ###\n",
    "\n",
    "def decrypt(message):\n",
    "    lettermap = get_lettermap()\n",
    "    lettermap = {v: k for k, v in lettermap.items()}\n",
    "    decrypted_message = \"\"\n",
    "    for letter in message:\n",
    "        if letter in lettermap:\n",
    "            decrypted_message += lettermap[letter]\n",
    "        else:\n",
    "            decrypted_message += letter\n",
    "    return decrypted_message"
   ]
  },
  {
   "cell_type": "code",
   "execution_count": 29,
   "metadata": {},
   "outputs": [],
   "source": [
    "### TESTING ###\n",
    "\n",
    "assert(callable(decrypt))\n",
    "assert(decrypt(\"uryyb guvf vf n grfg\") == 'hello this is a test')\n",
    "assert(decrypt(\"naq, guvf vf nyfb n grfg!\") == \"and, this is also a test!\")"
   ]
  },
  {
   "cell_type": "markdown",
   "metadata": {},
   "source": [
    "### Task 4\n",
    "\n",
    "Create a new python-file called `encryption.py`.\n",
    "\n",
    "Copy the three functions from above into the file (`get_lettermap()`, `encrypt()` and `decrypt()`).\n",
    "\n",
    "Save the file."
   ]
  }
 ],
 "metadata": {
  "kernelspec": {
   "display_name": "pythonWorkshop",
   "language": "python",
   "name": "python3"
  },
  "language_info": {
   "codemirror_mode": {
    "name": "ipython",
    "version": 3
   },
   "file_extension": ".py",
   "mimetype": "text/x-python",
   "name": "python",
   "nbconvert_exporter": "python",
   "pygments_lexer": "ipython3",
   "version": "3.12.0"
  }
 },
 "nbformat": 4,
 "nbformat_minor": 2
}
