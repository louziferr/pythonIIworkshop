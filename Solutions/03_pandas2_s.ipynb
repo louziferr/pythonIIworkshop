{
 "cells": [
  {
   "cell_type": "markdown",
   "metadata": {},
   "source": [
    "### Exercise: Pandas 2\n",
    "\n",
    "- Data preprocessing and Data cleansing\n",
    "\n",
    "In this exercise, we will work with the file `wo_men.csv`.\n",
    "\n",
    "It contains information about the height and shoe size of men and women. \n",
    "\n",
    "We want to preprocess and clean the data."
   ]
  },
  {
   "cell_type": "code",
   "execution_count": 1,
   "metadata": {},
   "outputs": [],
   "source": [
    "import pandas as pd\n",
    "\n",
    "# for plotting\n",
    "import matplotlib.pyplot as plt"
   ]
  },
  {
   "cell_type": "markdown",
   "metadata": {},
   "source": [
    "### Task 1\n",
    "\n",
    "Read in the data from the csv-file `wo_men.csv` and save it in a Pandas Dataframe called `shoesize_heigth`."
   ]
  },
  {
   "cell_type": "code",
   "execution_count": 2,
   "metadata": {},
   "outputs": [],
   "source": [
    "### your solution ###\n",
    "shoesize_height = pd.read_csv(\"wo_men.csv\")"
   ]
  },
  {
   "cell_type": "markdown",
   "metadata": {},
   "source": [
    "### Task 2\n",
    "\n",
    "Write a function called `convert_sex(x)` which takes one argument:\n",
    "\n",
    "- `x`: a string that represents the gender (`woman` or `man`)\n",
    "\n",
    "It returns:\n",
    "\n",
    "- `1` if the gender is `woman`.\n",
    "- `0` if the gender is `man`.\n",
    "- `None` in every other case."
   ]
  },
  {
   "cell_type": "code",
   "execution_count": 3,
   "metadata": {},
   "outputs": [],
   "source": [
    "### your solution ###\n",
    "def convert_sex(x):\n",
    "    if x==\"woman\":\n",
    "        return 1\n",
    "    elif x==\"man\":\n",
    "        return 0\n",
    "    else: # in case no data is available\n",
    "        return None"
   ]
  },
  {
   "cell_type": "code",
   "execution_count": 4,
   "metadata": {},
   "outputs": [],
   "source": [
    "### TESTING ###\n",
    "assert(callable(convert_sex))\n",
    "assert(convert_sex('woman') == 1)\n",
    "assert(convert_sex('man') == 0)\n",
    "assert(convert_sex('non-binary') == None)"
   ]
  },
  {
   "cell_type": "markdown",
   "metadata": {},
   "source": [
    "### Task 3\n",
    "\n",
    "In the pd dataframe `shoesize_height`, create a new column `gender2`. \n",
    "\n",
    "It contains the converted information about the gender (`1` for `woman`, `0` for `man`, else `None`).\n",
    "\n",
    "*Hint: Use the `.apply` method to call your function `convert_sex`*"
   ]
  },
  {
   "cell_type": "code",
   "execution_count": 5,
   "metadata": {},
   "outputs": [],
   "source": [
    "### your solution ###\n",
    "\n",
    "shoesize_height['gender2'] = shoesize_height['gender'].apply(convert_sex)"
   ]
  },
  {
   "cell_type": "markdown",
   "metadata": {},
   "source": [
    "### Task 4\n",
    "\n",
    "Delete time column `time` in the `shoesize_height` dataframe."
   ]
  },
  {
   "cell_type": "code",
   "execution_count": 6,
   "metadata": {},
   "outputs": [],
   "source": [
    "### your solution ###\n",
    "shoesize_height = shoesize_height.drop(\"time\",axis=1)"
   ]
  },
  {
   "cell_type": "markdown",
   "metadata": {},
   "source": [
    "### Task 5\n",
    "\n",
    "Delete the *gender2* column in the `shoesize_height` dataframe."
   ]
  },
  {
   "cell_type": "code",
   "execution_count": 7,
   "metadata": {},
   "outputs": [],
   "source": [
    "### your solution ###\n",
    "shoesize_height = shoesize_height.drop(\"gender2\", axis=1)"
   ]
  },
  {
   "cell_type": "markdown",
   "metadata": {},
   "source": [
    "### Task 6\n",
    "\n",
    "Overwrite the string values in the column `gender` with binary values from your function `convert_sex`."
   ]
  },
  {
   "cell_type": "code",
   "execution_count": 8,
   "metadata": {},
   "outputs": [],
   "source": [
    "### your solution ###\n",
    "shoesize_height['gender'] = shoesize_height['gender'].apply(convert_sex)"
   ]
  },
  {
   "cell_type": "markdown",
   "metadata": {},
   "source": [
    "### Task 7\n",
    "\n",
    "Find out if there are missing data values in the column `gender` and where they are. \n",
    "\n",
    "For this, you can use the methods \n",
    "\n",
    "                                data_frame.isna() \n",
    "https://pandas.pydata.org/pandas-docs/stable/reference/api/pandas.DataFrame.isna.html\n",
    "\n",
    "*Hint: you can use masks here and check for each column*"
   ]
  },
  {
   "cell_type": "code",
   "execution_count": 9,
   "metadata": {},
   "outputs": [
    {
     "data": {
      "text/html": [
       "<div>\n",
       "<style scoped>\n",
       "    .dataframe tbody tr th:only-of-type {\n",
       "        vertical-align: middle;\n",
       "    }\n",
       "\n",
       "    .dataframe tbody tr th {\n",
       "        vertical-align: top;\n",
       "    }\n",
       "\n",
       "    .dataframe thead th {\n",
       "        text-align: right;\n",
       "    }\n",
       "</style>\n",
       "<table border=\"1\" class=\"dataframe\">\n",
       "  <thead>\n",
       "    <tr style=\"text-align: right;\">\n",
       "      <th></th>\n",
       "      <th>gender</th>\n",
       "      <th>height</th>\n",
       "      <th>shoe_size</th>\n",
       "    </tr>\n",
       "  </thead>\n",
       "  <tbody>\n",
       "    <tr>\n",
       "      <th>85</th>\n",
       "      <td>NaN</td>\n",
       "      <td>NaN</td>\n",
       "      <td>NaN</td>\n",
       "    </tr>\n",
       "  </tbody>\n",
       "</table>\n",
       "</div>"
      ],
      "text/plain": [
       "    gender  height  shoe_size\n",
       "85     NaN     NaN        NaN"
      ]
     },
     "execution_count": 9,
     "metadata": {},
     "output_type": "execute_result"
    }
   ],
   "source": [
    "### your solution ###\n",
    "shoesize_height[shoesize_height['gender'].isna()]"
   ]
  },
  {
   "cell_type": "markdown",
   "metadata": {},
   "source": [
    "### Task 8\n",
    "\n",
    "Delete the missing data values with the method\n",
    "\n",
    "                                    data_frame.dropna()\n",
    "    \n",
    "https://pandas.pydata.org/docs/reference/api/pandas.DataFrame.dropna.html"
   ]
  },
  {
   "cell_type": "code",
   "execution_count": 10,
   "metadata": {},
   "outputs": [],
   "source": [
    "### your solution ###\n",
    "shoesize_height = shoesize_height.dropna()"
   ]
  },
  {
   "cell_type": "markdown",
   "metadata": {},
   "source": [
    "### Task 9\n",
    "\n",
    "How many women and how many men are in the data set?\n",
    "\n",
    "Create two new Pandas Dataframes, `woman` and `men` which contain only the information about the specific gender.\n",
    "\n",
    "*Hint: you can use masks here*"
   ]
  },
  {
   "cell_type": "code",
   "execution_count": 11,
   "metadata": {},
   "outputs": [],
   "source": [
    "### your solution ###\n",
    "woman = shoesize_height[shoesize_height['gender'] == 1]\n",
    "\n",
    "man = shoesize_height[shoesize_height['gender'] == 0]"
   ]
  },
  {
   "cell_type": "markdown",
   "metadata": {},
   "source": [
    "### Task 10\n",
    "\n",
    "What is the maximum and the minimum height and shoe_size per gender?"
   ]
  },
  {
   "cell_type": "code",
   "execution_count": 12,
   "metadata": {},
   "outputs": [
    {
     "name": "stdout",
     "output_type": "stream",
     "text": [
      "       gender      height  shoe_size\n",
      "count    82.0   82.000000  82.000000\n",
      "mean      1.0  161.309512  38.871951\n",
      "std       0.0   42.782380   5.651292\n",
      "min       1.0    1.630000  35.000000\n",
      "25%       1.0  161.250000  37.000000\n",
      "50%       1.0  168.000000  38.000000\n",
      "75%       1.0  171.000000  39.000000\n",
      "max       1.0  364.000000  88.000000\n",
      "\n",
      "       gender      height  shoe_size\n",
      "count    18.0   18.000000  18.000000\n",
      "mean      0.0  183.111111  43.888889\n",
      "std       0.0    9.958082   2.398256\n",
      "min       0.0  171.000000  41.000000\n",
      "25%       0.0  175.750000  42.000000\n",
      "50%       0.0  181.500000  44.000000\n",
      "75%       0.0  184.500000  44.000000\n",
      "max       0.0  206.000000  50.000000\n"
     ]
    }
   ],
   "source": [
    "### your solution ###\n",
    "print(woman.describe())\n",
    "print()\n",
    "print(man.describe())"
   ]
  },
  {
   "cell_type": "markdown",
   "metadata": {},
   "source": [
    "### Task 11\n",
    "\n",
    "Now we want to visualize the data in order to further evaluate. \n",
    "\n",
    "Make a 2d scatter plot with matplotlib plotting the height on the x-axis and the shoe size on the y-axis.\n",
    "\n",
    "Give each gender a different color and a label. "
   ]
  },
  {
   "cell_type": "code",
   "execution_count": 13,
   "metadata": {
    "scrolled": true
   },
   "outputs": [
    {
     "data": {
      "image/png": "[encoded data removed]",
      "text/plain": [
       "<Figure size 640x480 with 1 Axes>"
      ]
     },
     "metadata": {},
     "output_type": "display_data"
    }
   ],
   "source": [
    "### your solution ###\n",
    "plt.scatter(woman['height'], woman['shoe_size'], c = \"blue\", label=\"woman\")\n",
    "plt.scatter(man['height'], man['shoe_size'], c = \"orange\", label=\"man\")\n",
    "\n",
    "## this is here to help you\n",
    "plt.title(\"Shoe size - height per gender\")\n",
    "plt.legend()\n",
    "plt.xlabel(\"height\")\n",
    "plt.ylabel(\"shoe size\")\n",
    "plt.show()"
   ]
  },
  {
   "cell_type": "markdown",
   "metadata": {},
   "source": [
    "### Task 12\n",
    "\n",
    "Delete the data point with a height above 300."
   ]
  },
  {
   "cell_type": "code",
   "execution_count": 14,
   "metadata": {},
   "outputs": [],
   "source": [
    "### your solution ###\n",
    "shoesize_height = shoesize_height[shoesize_height['height']<300]"
   ]
  },
  {
   "cell_type": "markdown",
   "metadata": {},
   "source": [
    "### Task 13\n",
    "\n",
    "Analyse the height values which are below 50. What is wrong here? Do a reasonable correction of the data."
   ]
  },
  {
   "cell_type": "code",
   "execution_count": 15,
   "metadata": {},
   "outputs": [],
   "source": [
    "### your solution ###\n",
    "row_indexer = shoesize_height['height']<50\n",
    "col_indexer = ['height']\n",
    "\n",
    "# height like 1.63 to be tranformed to 163\n",
    "shoesize_height.loc[row_indexer, col_indexer] *= 100"
   ]
  },
  {
   "cell_type": "markdown",
   "metadata": {},
   "source": [
    "### Task 14\n",
    "\n",
    "Now do the same visualisation as in Task 11."
   ]
  },
  {
   "cell_type": "code",
   "execution_count": 16,
   "metadata": {},
   "outputs": [
    {
     "data": {
      "image/png": "[encoded data removed]",
      "text/plain": [
       "<Figure size 640x480 with 1 Axes>"
      ]
     },
     "metadata": {},
     "output_type": "display_data"
    }
   ],
   "source": [
    "### your solution ###\n",
    "woman = shoesize_height[shoesize_height['gender'] == 1]\n",
    "man = shoesize_height[shoesize_height['gender'] == 0]\n",
    "\n",
    "plt.scatter(woman['height'], woman['shoe_size'], c = \"blue\", label=\"woman\")\n",
    "plt.scatter(man['height'], man['shoe_size'], c = \"orange\", label=\"man\")\n",
    "\n",
    "plt.title(\"Shoe size - height per gender\")\n",
    "plt.legend()\n",
    "plt.xlabel(\"height\")\n",
    "plt.ylabel(\"shoe size\")\n",
    "plt.show()"
   ]
  }
 ],
 "metadata": {
  "kernelspec": {
   "display_name": "Python 3",
   "language": "python",
   "name": "python3"
  },
  "language_info": {
   "codemirror_mode": {
    "name": "ipython",
    "version": 3
   },
   "file_extension": ".py",
   "mimetype": "text/x-python",
   "name": "python",
   "nbconvert_exporter": "python",
   "pygments_lexer": "ipython3",
   "version": "3.11.3"
  }
 },
 "nbformat": 4,
 "nbformat_minor": 4
}
