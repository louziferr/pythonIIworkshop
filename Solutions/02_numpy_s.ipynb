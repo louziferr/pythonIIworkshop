{
 "cells": [
  {
   "cell_type": "markdown",
   "metadata": {},
   "source": [
    "## Exercise: Numpy\n",
    "\n",
    "- Creating Numpy Arrays"
   ]
  },
  {
   "cell_type": "code",
   "execution_count": 1,
   "metadata": {},
   "outputs": [],
   "source": [
    "import numpy as np"
   ]
  },
  {
   "cell_type": "markdown",
   "metadata": {},
   "source": [
    "### Task 1\n",
    "\n",
    " Create a numpy array with the numbers 1 2 3 4 5 by converting a python list to an array."
   ]
  },
  {
   "cell_type": "code",
   "execution_count": 2,
   "metadata": {},
   "outputs": [
    {
     "data": {
      "text/plain": [
       "array([1, 2, 3, 4, 5])"
      ]
     },
     "execution_count": 2,
     "metadata": {},
     "output_type": "execute_result"
    }
   ],
   "source": [
    "### your solution ###\n",
    "\n",
    "np.array([1,2,3,4,5])"
   ]
  },
  {
   "cell_type": "markdown",
   "metadata": {},
   "source": [
    "### Task 2\n",
    "\n",
    "Create a numpy array with the numbers 1 2 3 4 5 by using the numpy arange method."
   ]
  },
  {
   "cell_type": "code",
   "execution_count": 3,
   "metadata": {},
   "outputs": [
    {
     "data": {
      "text/plain": [
       "array([1, 2, 3, 4, 5])"
      ]
     },
     "execution_count": 3,
     "metadata": {},
     "output_type": "execute_result"
    }
   ],
   "source": [
    "### your solution ###\n",
    "\n",
    "np.arange(1,6)"
   ]
  },
  {
   "cell_type": "markdown",
   "metadata": {},
   "source": [
    "### Task 3\n",
    "\n",
    "Create the following matrix as ndarray object:\n",
    "\n",
    "$$\\begin{pmatrix}\n",
    "1 & 2 & 3\\\\\n",
    "5 & 8 & 13 \\\\\n",
    "21 & 34 & 55\n",
    "\\end{pmatrix}$$"
   ]
  },
  {
   "cell_type": "code",
   "execution_count": 4,
   "metadata": {},
   "outputs": [
    {
     "data": {
      "text/plain": [
       "array([[ 1,  2,  3],\n",
       "       [ 5,  8, 13],\n",
       "       [21, 34, 55]])"
      ]
     },
     "execution_count": 4,
     "metadata": {},
     "output_type": "execute_result"
    }
   ],
   "source": [
    "### your solution ###\n",
    "\n",
    "np.array([[1,2,3], [5,8,13], [21,34,55]])"
   ]
  },
  {
   "cell_type": "markdown",
   "metadata": {},
   "source": [
    "### Task 4\n",
    "\n",
    "Create a vector with 100 random integers between -50 and 50."
   ]
  },
  {
   "cell_type": "code",
   "execution_count": 5,
   "metadata": {},
   "outputs": [
    {
     "data": {
      "text/plain": [
       "array([ -2, -24,  47,  17,  14,  42, -49, -15,  38, -25, -23, -23,  -4,\n",
       "       -30, -25, -26, -42,  32, -17,  40,  26, -32, -27, -42,  -3,  41,\n",
       "       -24, -28,  28,  -1,   5, -16,  36,  34,  37,  18, -19,   9,  16,\n",
       "        23, -37,  12,  30,  31, -36,  15,   9,  40,  -6,  31,  32, -42,\n",
       "        42,   0,  15,  21,  36, -15,  46, -46,  30,  -4,  19,  24, -43,\n",
       "       -12,  -1,   1,  33, -32,  12,  37,  35, -23, -50, -26, -20, -33,\n",
       "       -34,  11,  16,  36,  39, -35, -33,  43,  11,  39, -23, -38,  -5,\n",
       "         1, -40, -19,  25, -42, -12,  -4,  17,  -8])"
      ]
     },
     "execution_count": 5,
     "metadata": {},
     "output_type": "execute_result"
    }
   ],
   "source": [
    "### your solution ###\n",
    "\n",
    "np.random.randint(-50,50, 100)"
   ]
  },
  {
   "cell_type": "markdown",
   "metadata": {},
   "source": [
    "### Task 5\n",
    "\n",
    "Create a matrix with random values between 0 and 1 and size $17 \\times 128$"
   ]
  },
  {
   "cell_type": "code",
   "execution_count": 6,
   "metadata": {},
   "outputs": [
    {
     "name": "stdout",
     "output_type": "stream",
     "text": [
      "(17, 128)\n",
      "[[0.43221191 0.70934784 0.45213633 ... 0.95172142 0.2190227  0.37600299]\n",
      " [0.77657164 0.49168118 0.43675442 ... 0.51774045 0.61267699 0.34576996]\n",
      " [0.95297365 0.63110942 0.9705607  ... 0.14348408 0.07848992 0.42015205]\n",
      " ...\n",
      " [0.03946637 0.29061126 0.44723754 ... 0.43930355 0.01134406 0.41366046]\n",
      " [0.66186376 0.37514008 0.67571221 ... 0.04573515 0.51180121 0.45909344]\n",
      " [0.39533788 0.21083284 0.38125039 ... 0.48246902 0.90330345 0.83692816]]\n"
     ]
    }
   ],
   "source": [
    "### your solution ###\n",
    "\n",
    "mat = np.random.rand(17,128)\n",
    "\n",
    "print(mat.shape)\n",
    "print(mat)"
   ]
  },
  {
   "cell_type": "markdown",
   "metadata": {},
   "source": [
    "### Task 6\n",
    "\n",
    "Given is a numpy array. Delete all even numbers from that array."
   ]
  },
  {
   "cell_type": "code",
   "execution_count": 7,
   "metadata": {},
   "outputs": [
    {
     "data": {
      "text/plain": [
       "array([1, 3, 5, 7, 9])"
      ]
     },
     "execution_count": 7,
     "metadata": {},
     "output_type": "execute_result"
    }
   ],
   "source": [
    "arr = np.array([0, 1, 2, 3, 4, 5, 6, 7, 8, 9])\n",
    "\n",
    "### your solution ###\n",
    "\n",
    "arr[arr % 2 == 1]"
   ]
  },
  {
   "cell_type": "markdown",
   "metadata": {},
   "source": [
    "### Task 7\n",
    "\n",
    "Given is a numpy array. Replace all odd numbers in the array with -1."
   ]
  },
  {
   "cell_type": "code",
   "execution_count": 8,
   "metadata": {},
   "outputs": [],
   "source": [
    "arr = np.array([0, 1, 2, 3, 4, 5, 6, 7, 8, 9])\n",
    "\n",
    "### your solution ###\n",
    "\n",
    "arr[arr % 2 == 1] = -1"
   ]
  },
  {
   "cell_type": "markdown",
   "metadata": {},
   "source": [
    "### Task 8\n",
    "\n",
    "Given are two numpy arrays.\n",
    "\n",
    "Create a new numpy array that contains only the values that appear in both arrays."
   ]
  },
  {
   "cell_type": "code",
   "execution_count": 9,
   "metadata": {},
   "outputs": [
    {
     "data": {
      "text/plain": [
       "array([2, 4])"
      ]
     },
     "execution_count": 9,
     "metadata": {},
     "output_type": "execute_result"
    }
   ],
   "source": [
    "a = np.array([1,2,3,2,3,4,3,4,5,6])\n",
    "b = np.array([7,2,10,2,7,4,9,4,9,8])\n",
    "\n",
    "### your solution ###\n",
    "np.intersect1d(a,b)"
   ]
  },
  {
   "cell_type": "markdown",
   "metadata": {},
   "source": [
    "### Task 9\n",
    "\n",
    "Given is a numpy array with numbers.\n",
    "\n",
    "Calculate the following for the numpy array:\n",
    "\n",
    "- mean value\n",
    "- median value\n",
    "- standard deviation"
   ]
  },
  {
   "cell_type": "code",
   "execution_count": 10,
   "metadata": {},
   "outputs": [
    {
     "name": "stdout",
     "output_type": "stream",
     "text": [
      "93.1\n",
      "48.5\n",
      "117.73992525902162\n"
     ]
    }
   ],
   "source": [
    "arr = np.array([1, 4, 213, 32, 125, 3, 12 ,389, 87, 65])\n",
    "\n",
    "### your solution ###\n",
    "\n",
    "print(np.mean(arr))\n",
    "print(np.median(arr))\n",
    "print(np.std(arr))"
   ]
  },
  {
   "cell_type": "markdown",
   "metadata": {},
   "source": [
    "### Task 10\n",
    "\n",
    "Given is a numpy array with numbers.\n",
    "\n",
    "Create a new array that is in a normalized form (so the values range from 0-1)."
   ]
  },
  {
   "cell_type": "code",
   "execution_count": 11,
   "metadata": {},
   "outputs": [
    {
     "name": "stdout",
     "output_type": "stream",
     "text": [
      "[0.19148936 0.93617021 1.         0.70212766 0.         0.76595745]\n"
     ]
    }
   ],
   "source": [
    "arr = np.array([-3, 32, 35, 21, -12, 24])\n",
    "\n",
    "### your solution ###\n",
    "\n",
    "arr_max, arr_min = arr.max(), arr.min()\n",
    "new_array = (arr - arr_min)/(arr_max - arr_min)\n",
    "print(new_array)"
   ]
  },
  {
   "cell_type": "markdown",
   "metadata": {},
   "source": [
    "### Task 11\n",
    "\n",
    "Create a two numpy arrays that represent the x- and y-coordinates of a sine wave.\n",
    "\n",
    "Plot the sine wave."
   ]
  },
  {
   "cell_type": "code",
   "execution_count": 12,
   "metadata": {},
   "outputs": [
    {
     "data": {
      "image/png": "[encoded data removed]",
      "text/plain": [
       "<Figure size 640x480 with 1 Axes>"
      ]
     },
     "metadata": {},
     "output_type": "display_data"
    }
   ],
   "source": [
    "import matplotlib.pyplot as plt\n",
    "\n",
    "### your solution ###\n",
    "\n",
    "# Compute the x and y coordinates for points on a sine curve \n",
    "x = np.arange(0, 3 * np.pi, 0.1) \n",
    "y = np.sin(x) \n",
    "plt.title(\"sine wave form\") \n",
    "\n",
    "# Plot the points using matplotlib \n",
    "plt.plot(x, y) \n",
    "plt.show() "
   ]
  }
 ],
 "metadata": {
  "kernelspec": {
   "display_name": "Python 3",
   "language": "python",
   "name": "python3"
  },
  "language_info": {
   "codemirror_mode": {
    "name": "ipython",
    "version": 3
   },
   "file_extension": ".py",
   "mimetype": "text/x-python",
   "name": "python",
   "nbconvert_exporter": "python",
   "pygments_lexer": "ipython3",
   "version": "3.11.3"
  }
 },
 "nbformat": 4,
 "nbformat_minor": 4
}
