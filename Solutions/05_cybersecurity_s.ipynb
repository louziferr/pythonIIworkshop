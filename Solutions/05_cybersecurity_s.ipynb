{
 "cells": [
  {
   "cell_type": "markdown",
   "metadata": {},
   "source": [
    "### Exercise: Cyber Security\n",
    "\n",
    "- Before doing this exercise, you should have completed the 'Exercise: Encryption' (`encryption.ipynb`) first.\n",
    "\n",
    "You work in cyber security and will now create a safe network for sending and receiving messages within your company."
   ]
  },
  {
   "cell_type": "markdown",
   "metadata": {},
   "source": [
    "### Task 1\n",
    "\n",
    "Import the module `encryption` from your file `encryption.py`."
   ]
  },
  {
   "cell_type": "code",
   "execution_count": 2,
   "metadata": {},
   "outputs": [],
   "source": [
    "#### your solution ###\n",
    "import encryption"
   ]
  },
  {
   "cell_type": "markdown",
   "metadata": {},
   "source": [
    "### Task 2\n",
    "\n",
    "Create an empty dictionary called `company_mails` for storing all your companies messages."
   ]
  },
  {
   "cell_type": "code",
   "execution_count": 3,
   "metadata": {},
   "outputs": [],
   "source": [
    "### your solution ###\n",
    "company_mails = dict()"
   ]
  },
  {
   "cell_type": "code",
   "execution_count": 4,
   "metadata": {},
   "outputs": [],
   "source": [
    "### TESTING ###\n",
    "assert(isinstance(company_mails, dict))\n",
    "assert(len(company_mails) == 0)"
   ]
  },
  {
   "cell_type": "markdown",
   "metadata": {},
   "source": [
    "### Task 3\n",
    "\n",
    "Given is a list of names of your companies employees.\n",
    "\n",
    "For each employee, create a new entry in the dict `company_mails` with the following key-value pair:\n",
    "\n",
    "- `key`: a string that is the employee's name\n",
    "- `value`: another dict that has the following key-value pair:\n",
    "    - `key`: two strings: one is `outbox`, one is `inbox`\n",
    "    - `value`: an empty list for each key"
   ]
  },
  {
   "cell_type": "code",
   "execution_count": 5,
   "metadata": {},
   "outputs": [],
   "source": [
    "employees = [\"Paula\", \"Ron\", \"Michel\", \"Anna\", \"Lisa\"]\n",
    "\n",
    "### your solution ###\n",
    "for name in employees:\n",
    "    company_mails[name] = {'outbox': list(), 'inbox': list()}"
   ]
  },
  {
   "cell_type": "code",
   "execution_count": 6,
   "metadata": {},
   "outputs": [],
   "source": [
    "assert(len(company_mails) == 5)\n",
    "assert('Paula' in company_mails)\n",
    "assert('outbox' in company_mails['Ron'])"
   ]
  },
  {
   "cell_type": "markdown",
   "metadata": {},
   "source": [
    "You now have a dictionary that has another dictionary as the value.\n",
    "\n",
    "The dictionary makes it possible for us to track mails between employees."
   ]
  },
  {
   "cell_type": "markdown",
   "metadata": {},
   "source": [
    "### Task 5\n",
    "\n",
    "\n",
    "Given are three variables.\n",
    "\n",
    "- `sender`: a string that represents the name of an employee sending a mail\n",
    "- `recipient`: a string that represents the name of an employee receiving a mail\n",
    "- `message`: a string that represents the message to be send\n",
    "\n",
    "Follow these steps:\n",
    "\n",
    "1. Encrypt the message using the module `encryption`.\n",
    "2. Create two new entries in the dict `company_mails`:\n",
    "\n",
    "- Append a tuple in the form `(recipient, encrypted_message)` to the list `outbox` of the sender.\n",
    "- Append a tuple in the form `(sender, encrypted_message)` to the list `inbox` of the receiver."
   ]
  },
  {
   "cell_type": "code",
   "execution_count": 7,
   "metadata": {},
   "outputs": [],
   "source": [
    "sender = \"Paula\"\n",
    "recipient = \"Ron\"\n",
    "message = \"Hey, how are you?\"\n",
    "\n",
    "### your solution ###\n",
    "\n",
    "encrypted_msg = encryption.encrypt(message)\n",
    "company_mails[sender]['outbox'].append((recipient, encrypted_msg))\n",
    "company_mails[recipient]['inbox'].append((sender, encrypted_msg))"
   ]
  },
  {
   "cell_type": "code",
   "execution_count": 11,
   "metadata": {},
   "outputs": [
    {
     "name": "stdout",
     "output_type": "stream",
     "text": [
      "Paula: {'outbox': [('Ron', 'url, ubj ner lbh?')], 'inbox': []}\n",
      "Ron: {'outbox': [], 'inbox': [('Paula', 'url, ubj ner lbh?')]}\n",
      "Michel: {'outbox': [], 'inbox': []}\n",
      "Anna: {'outbox': [], 'inbox': []}\n",
      "Lisa: {'outbox': [], 'inbox': []}\n"
     ]
    }
   ],
   "source": [
    "### TESTING ###\n",
    "assert(('Ron', 'url, ubj ner lbh?') in company_mails[\"Paula\"][\"outbox\"])\n",
    "assert(('Paula', 'url, ubj ner lbh?') in company_mails[\"Ron\"][\"inbox\"])"
   ]
  },
  {
   "cell_type": "markdown",
   "metadata": {},
   "source": [
    "### Task 6\n",
    "\n",
    "Given is a list of tuples called `list_of_messages` in the following format:\n",
    "\n",
    "`[(sender1, recipient1, message1), (sender2, recipient2, message2), ...]`\n",
    "\n",
    "Iterate over the list and process each message just like in the example above:\n",
    "\n",
    "1. Encrypt the message using the module `encrypt`\n",
    "2. Append a tuple in the form `(recipient, encrypted_message)` to the outbox of the sender\n",
    "3. Append a tuple in the form `(sender, encrypted_message)` to the inbox of the recipient"
   ]
  },
  {
   "cell_type": "code",
   "execution_count": 13,
   "metadata": {},
   "outputs": [],
   "source": [
    "list_of_messages = [(\"Ron\", \"Paula\", \"I am doing well!\"),\n",
    "                    (\"Michel\", \"Anna\", \"When is the meeting?\"),\n",
    "                    (\"Anna\", \"Lisa\", \"Michel is so annoying...\")]\n",
    "\n",
    "### your solution ###\n",
    "\n",
    "for (sender, recipient, message) in list_of_messages:\n",
    "    encrypted_msg = encryption.encrypt(message)\n",
    "    company_mails[sender]['outbox'].append((recipient, encrypted_msg))\n",
    "    company_mails[recipient]['inbox'].append((sender, encrypted_msg))"
   ]
  },
  {
   "cell_type": "code",
   "execution_count": 15,
   "metadata": {},
   "outputs": [
    {
     "name": "stdout",
     "output_type": "stream",
     "text": [
      "{'Paula': {'outbox': [('Ron', 'url, ubj ner lbh?')], 'inbox': [('Ron', 'v nz qbvat jryy!')]}, 'Ron': {'outbox': [('Paula', 'v nz qbvat jryy!')], 'inbox': [('Paula', 'url, ubj ner lbh?')]}, 'Michel': {'outbox': [('Anna', 'jura vf gur zrrgvat?')], 'inbox': []}, 'Anna': {'outbox': [('Lisa', 'zvpury vf fb naablvat...')], 'inbox': [('Michel', 'jura vf gur zrrgvat?')]}, 'Lisa': {'outbox': [], 'inbox': [('Anna', 'zvpury vf fb naablvat...')]}}\n"
     ]
    }
   ],
   "source": [
    "### TESTING ###\n",
    "assert(('Paula', 'url, ubj ner lbh?') in company_mails[\"Ron\"]['inbox'])\n",
    "assert(('Lisa', 'zvpury vf fb naablvat...') in company_mails[\"Anna\"]['outbox'])\n",
    "assert(('Michel', 'jura vf gur zrrgvat?') in company_mails[\"Anna\"]['inbox'])"
   ]
  },
  {
   "cell_type": "markdown",
   "metadata": {},
   "source": [
    "### Task 7\n",
    "\n",
    "Write a function called `read_inbox(name)` that takes one argument:\n",
    "\n",
    "- `name`: a string that represents the name of an employee\n",
    "\n",
    "Follow these steps:\n",
    "\n",
    "1. Create a new empty list called `messages`.\n",
    "1. Get the `inbox` of the employee from `company_mails`.\n",
    "2. For each entry in the inbox, retrieve the sender and the encrypted message.\n",
    "3. Decrypt the message using the module `encryption`.\n",
    "4. Append a tuple in the form `(sender, decrypted_message)` to your list `messages`.\n",
    "\n",
    "Return the list `messages`."
   ]
  },
  {
   "cell_type": "code",
   "execution_count": 9,
   "metadata": {},
   "outputs": [],
   "source": [
    "### your solution ###\n",
    "\n",
    "def read_inbox(name):\n",
    "    messages = []\n",
    "    for (sender, encrypted_message) in company_mails[name]['inbox']:\n",
    "        message = encryption.decrypt(encrypted_message)\n",
    "        messages.append((sender, message))\n",
    "    return messages"
   ]
  },
  {
   "cell_type": "code",
   "execution_count": 10,
   "metadata": {},
   "outputs": [],
   "source": [
    "### TESTING ###\n",
    "assert(callable(read_inbox))\n",
    "assert(isinstance(read_inbox(\"Paula\"), list))"
   ]
  }
 ],
 "metadata": {
  "kernelspec": {
   "display_name": "pythonWorkshop",
   "language": "python",
   "name": "python3"
  },
  "language_info": {
   "codemirror_mode": {
    "name": "ipython",
    "version": 3
   },
   "file_extension": ".py",
   "mimetype": "text/x-python",
   "name": "python",
   "nbconvert_exporter": "python",
   "pygments_lexer": "ipython3",
   "version": "3.12.0"
  }
 },
 "nbformat": 4,
 "nbformat_minor": 2
}
