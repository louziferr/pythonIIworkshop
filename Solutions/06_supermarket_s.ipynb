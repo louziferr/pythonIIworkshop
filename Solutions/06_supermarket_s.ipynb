{
 "cells": [
  {
   "cell_type": "markdown",
   "metadata": {},
   "source": [
    "### Excercise: Classes\n",
    "\n",
    "This is an exercise for writing a class in Python.\n",
    "\n",
    "Take a look at the Notepad for `classes` to get an overview of the concept."
   ]
  },
  {
   "cell_type": "markdown",
   "metadata": {},
   "source": [
    "### Task 1.1\n",
    "\n",
    "You are the owner of a supermarket and need to build a system to manage your store.\n",
    "\n",
    "Create a new file called `Supermarket.py`.\n",
    "\n",
    "In the file, create a class called `Supermarket`.\n",
    "\n",
    "Create a constructor that creates a new class attribute: an empty dictionary called `stock`.\n",
    "\n",
    "Test your code with the cell below. \n",
    "\n",
    "<b>ALWAYS RESTART THE KERNEL BEFORE TESTING!</b>"
   ]
  },
  {
   "cell_type": "code",
   "execution_count": 8,
   "metadata": {},
   "outputs": [],
   "source": [
    "## TESTING ###\n",
    "from Supermarket import Supermarket\n",
    "\n",
    "# create instance of Supermarket\n",
    "supermarket = Supermarket()\n",
    "\n",
    "# check if stock exists and is empty\n",
    "assert(isinstance(supermarket.stock, dict))\n",
    "assert(len(supermarket.stock) == 0)"
   ]
  },
  {
   "cell_type": "markdown",
   "metadata": {},
   "source": [
    "### Task 1.2\n",
    "\n",
    "In your class `Supermarket`, write a method called `add_product(product, quantity)` that takes two arguments:\n",
    "\n",
    "- `product`: a string that represents the name of the product\n",
    "- `quantity`: an integer that represents the quantity of that product in your stock\n",
    "\n",
    "The method adds a new product to your dict `stock`, with `product` being the key and `quantity` being the value.\n",
    "\n",
    "If the product already is in your stock, it simply adds up the quantities.\n",
    "\n",
    "Test your code with the cell below. \n",
    "\n",
    "<b>ALWAYS RESTART THE KERNEL BEFORE TESTING!</b>"
   ]
  },
  {
   "cell_type": "code",
   "execution_count": 2,
   "metadata": {},
   "outputs": [],
   "source": [
    "### TESTING ###\n",
    "from Supermarket import Supermarket\n",
    "supermarket = Supermarket()\n",
    "\n",
    "# check if stock exists and is empty\n",
    "assert(isinstance(supermarket.stock, dict))\n",
    "assert(len(supermarket.stock) == 0)\n",
    "\n",
    "# add product\n",
    "supermarket.add_product(\"apples\", 5)\n",
    "\n",
    "# check if product has been added\n",
    "assert(\"apples\" in supermarket.stock)\n",
    "assert(supermarket.stock[\"apples\"] == 5)"
   ]
  },
  {
   "cell_type": "markdown",
   "metadata": {},
   "source": [
    "### Task 1.3\n",
    "\n",
    "In the constructor of your class `Supermarket` add two more class attributes:\n",
    "\n",
    "- `money`: a floating number that represents the money your supermarket has (0.0 on instantiation)\n",
    "- `prices`: a dictionary that has product names as `keys` and their `prices` as values (empty on instantiation)\n",
    "\n",
    "Test your code with the cell below. \n",
    "\n",
    "<b>ALWAYS RESTART THE KERNEL BEFORE TESTING!</b>"
   ]
  },
  {
   "cell_type": "code",
   "execution_count": 1,
   "metadata": {},
   "outputs": [],
   "source": [
    "### TESTING ###\n",
    "from Supermarket import Supermarket\n",
    "supermarket = Supermarket()\n",
    "\n",
    "# check if stock exists and is empty\n",
    "assert(isinstance(supermarket.stock, dict))\n",
    "assert(len(supermarket.stock) == 0)\n",
    "\n",
    "# check if money exists and is 0\n",
    "assert(isinstance(supermarket.money, float))\n",
    "assert(supermarket.money == 0)\n",
    "\n",
    "# check if prices exists and is empty\n",
    "assert(isinstance(supermarket.prices, dict))\n",
    "assert(len(supermarket.prices) == 0)"
   ]
  },
  {
   "cell_type": "markdown",
   "metadata": {},
   "source": [
    "### Task 1.4\n",
    "\n",
    "In your class `Supermarket`, write a method called `set_price(product, price)` that takes two arguments:\n",
    "\n",
    "- `product`: a string that represents the name of the product\n",
    "- `price`: a floating number that represents the price of that product\n",
    "\n",
    "The method creates an entry in your dict `prices`, with `product` being the `key` and `price` being the `value`.\n",
    "\n",
    "Test your code with the cell below. \n",
    "\n",
    "<b>ALWAYS RESTART THE KERNEL BEFORE TESTING!</b>"
   ]
  },
  {
   "cell_type": "code",
   "execution_count": 1,
   "metadata": {},
   "outputs": [],
   "source": [
    "### TESTING ###\n",
    "from Supermarket import Supermarket\n",
    "supermarket = Supermarket()\n",
    "\n",
    "# check if prices exists and is empty\n",
    "assert(isinstance(supermarket.prices, dict))\n",
    "assert(len(supermarket.prices) == 0)\n",
    "\n",
    "# set price of apples\n",
    "supermarket.set_price(\"apples\", 0.99)\n",
    "\n",
    "assert(len(supermarket.prices) == 1)\n",
    "assert(supermarket.prices[\"apples\"] == 0.99)"
   ]
  },
  {
   "cell_type": "markdown",
   "metadata": {},
   "source": [
    "### Task 1.5\n",
    "\n",
    "In your class `Supermarket`, write a method called `sell(product, quantity)` that takes two arguments:\n",
    "\n",
    "- `product`: a string that represents the name of the product\n",
    "- `quantity`: an integer that represents the quantity of the sold product\n",
    "\n",
    "The method checks if you have enough of your products in `stock`.\n",
    "\n",
    "If you don't have enough, simply return for now.\n",
    "\n",
    "If you do have enough:\n",
    "\n",
    "1. Remove the given quantity from `stock`\n",
    "2. Calculate the price with the help of `prices`\n",
    "3. Add the resulting income to `money`\n",
    "\n",
    "Test your code with the cell below. \n",
    "\n",
    "<b>ALWAYS RESTART THE KERNEL BEFORE TESTING!</b>"
   ]
  },
  {
   "cell_type": "code",
   "execution_count": 1,
   "metadata": {},
   "outputs": [],
   "source": [
    "### TESTING ###\n",
    "from Supermarket import Supermarket\n",
    "supermarket = Supermarket()\n",
    "\n",
    "# add products\n",
    "supermarket.set_price(\"apples\", 0.99)\n",
    "supermarket.add_product(\"apples\", 5)\n",
    "supermarket.set_price(\"milk\", 0.85)\n",
    "supermarket.add_product(\"milk\", 20)\n",
    "supermarket.set_price(\"olives\", 2.99)\n",
    "supermarket.add_product(\"olives\", 8)\n",
    "\n",
    "assert(supermarket.money == 0.0)\n",
    "\n",
    "# sell products\n",
    "supermarket.sell(\"milk\", 5)\n",
    "assert(supermarket.money == 4.25)\n",
    "\n",
    "supermarket.sell(\"olives\", 2)\n",
    "assert(supermarket.money == 10.23)"
   ]
  },
  {
   "cell_type": "markdown",
   "metadata": {},
   "source": [
    "### Task 1.6\n",
    "\n",
    "In the method `sell(product, quantity)`, add an Error:\n",
    "\n",
    "Raise a `ValueError` if you don't have enough of the requested product to sell.\n",
    "\n",
    "In the ValueError, specify which product was attempted to be sold and that there is not enough in `stock`.\n",
    "\n",
    "Test your code with the cell below. It should show the given ValueError."
   ]
  },
  {
   "cell_type": "code",
   "execution_count": 6,
   "metadata": {},
   "outputs": [
    {
     "name": "stdout",
     "output_type": "stream",
     "text": [
      "Not enough in stock (apples).\n"
     ]
    }
   ],
   "source": [
    "### TESTING ###\n",
    "from Supermarket import Supermarket\n",
    "supermarket = Supermarket()\n",
    "\n",
    "# add products\n",
    "supermarket.set_price(\"apples\", 0.99)\n",
    "supermarket.add_product(\"apples\", 5)\n",
    "\n",
    "try:\n",
    "    supermarket.sell(\"apples\", 6)\n",
    "except ValueError as e:\n",
    "    print(e)"
   ]
  },
  {
   "cell_type": "markdown",
   "metadata": {},
   "source": [
    "### Exercise Part Two: Classes\n",
    "\n",
    "We will now use the created class `Supermarket` to manage our supermarket.\n",
    "\n",
    "You are opening new stores in Berlin and Leipzig.\n",
    "\n",
    "### Task 2.1\n",
    "\n",
    "Import the class and create two new instances of Supermarket called `shop_berlin` and `shop_leipzig`."
   ]
  },
  {
   "cell_type": "code",
   "execution_count": 1,
   "metadata": {},
   "outputs": [],
   "source": [
    "### your solution ###\n",
    "from Supermarket import Supermarket\n",
    "\n",
    "shop_berlin = Supermarket()\n",
    "shop_leipzig = Supermarket()"
   ]
  },
  {
   "cell_type": "code",
   "execution_count": 2,
   "metadata": {},
   "outputs": [],
   "source": [
    "### TESTING ###\n",
    "assert(isinstance(shop_berlin, Supermarket))\n",
    "assert(isinstance(shop_leipzig, Supermarket))"
   ]
  },
  {
   "cell_type": "markdown",
   "metadata": {},
   "source": [
    "### Task 2.2\n",
    "\n",
    "Given are two list of tuples in the following form:\n",
    "\n",
    "`[(product1, quantity1), (product2, quantity2), ...]`\n",
    "\n",
    "The lists contains new products for your stocks in Berlin and Leipzig. \n",
    "\n",
    "Loop over the lists and add the products to the stock of the respective supermarket using the method `add_product()`."
   ]
  },
  {
   "cell_type": "code",
   "execution_count": 3,
   "metadata": {},
   "outputs": [],
   "source": [
    "product_delivery_berlin = [(\"bread\", 20), (\"milk\", 50), (\"cereal\", 40), (\"noodles\", 110), (\"icecream\", 30)]\n",
    "product_delivery_leipzig = [(\"apples\", 60), (\"tea\", 25), (\"banana\", 50), (\"chicken\", 20), (\"tomatoes\", 40)]\n",
    "\n",
    "### your solution ###\n",
    "\n",
    "for (product, quantity) in product_delivery_berlin:\n",
    "    shop_berlin.add_product(product, quantity)\n",
    "\n",
    "\n",
    "for (product, quantity) in product_delivery_leipzig:\n",
    "    shop_leipzig.add_product(product, quantity)"
   ]
  },
  {
   "cell_type": "code",
   "execution_count": 4,
   "metadata": {},
   "outputs": [],
   "source": [
    "### TESTING ###\n",
    "assert(len(shop_berlin.stock) == 5)\n",
    "assert(len(shop_leipzig.stock) == 5)\n",
    "assert(shop_berlin.stock[\"bread\"] == 20)\n",
    "assert(shop_leipzig.stock[\"tomatoes\"] == 40)"
   ]
  },
  {
   "cell_type": "markdown",
   "metadata": {},
   "source": [
    "### Task 2.3\n",
    "\n",
    "Given is a list of tuples called `product_prices` in the following form:\n",
    "\n",
    "`[(product1, price1), (product2, price2), ...]`\n",
    "\n",
    "The list contains the prices for your products.\n",
    "\n",
    "Loop over the list and add the prices for each product to both shops using the method `set_price()`."
   ]
  },
  {
   "cell_type": "code",
   "execution_count": 6,
   "metadata": {},
   "outputs": [],
   "source": [
    "product_prices = [(\"bread\", 1.45), (\"milk\", 0.85), (\"cereal\", 3.49), (\"noodles\", 1.49), (\"icecream\", 3.99),\n",
    "                  (\"apples\", 0.84), (\"tea\", 1.95), (\"banana\", 0.25), (\"chicken\", 2.59), (\"tomatoes\", 2.20)]\n",
    "\n",
    "### your solution ###\n",
    "\n",
    "for (product, price) in product_prices:\n",
    "    shop_berlin.set_price(product, price)\n",
    "    shop_leipzig.set_price(product, price)"
   ]
  },
  {
   "cell_type": "code",
   "execution_count": 7,
   "metadata": {},
   "outputs": [],
   "source": [
    "### TESTING ###\n",
    "assert(len(shop_berlin.prices) == 10)\n",
    "assert(len(shop_leipzig.prices) == 10)\n",
    "assert(shop_berlin.prices[\"milk\"] == 0.85)\n",
    "assert(shop_leipzig.prices[\"chicken\"] == 2.59)"
   ]
  },
  {
   "cell_type": "markdown",
   "metadata": {},
   "source": [
    "### Task 2.4\n",
    "\n",
    "You are selling products in your shop in Berlin.\n",
    "\n",
    "Given is a list uf tuples called `shopping_cart_berlin` in the following form:\n",
    "\n",
    "`[(item1, quantity1), (item2, quantity2), ...]`\n",
    "\n",
    "The list represents the shopping cart of a customer.\n",
    "\n",
    "Loop over the list and sell each item in the shop in Berlin using the method `sell()`."
   ]
  },
  {
   "cell_type": "code",
   "execution_count": 8,
   "metadata": {},
   "outputs": [],
   "source": [
    "shopping_cart_berlin = [(\"milk\", 3), (\"bread\", 2), (\"icecream\", 1)]\n",
    "\n",
    "### your solution ###\n",
    "for (product, quantity) in shopping_cart_berlin:\n",
    "    shop_berlin.sell(product, quantity)"
   ]
  },
  {
   "cell_type": "code",
   "execution_count": 9,
   "metadata": {},
   "outputs": [],
   "source": [
    "### TESTING ###\n",
    "assert(shop_berlin.stock[\"milk\"] == 47)\n",
    "assert(shop_berlin.stock[\"bread\"] == 18)\n",
    "assert(shop_berlin.stock[\"icecream\"] == 29)\n",
    "assert(shop_berlin.money == 9.44)"
   ]
  },
  {
   "cell_type": "markdown",
   "metadata": {},
   "source": [
    "### Task 2.5\n",
    "\n",
    "Now you are selling products in your shop in Leipzig.\n",
    "\n",
    "Given is a list uf tuples called `shopping_cart_leipzig` in the following form:\n",
    "\n",
    "`[(item1, quantity1), (item2, quantity2), ...]`\n",
    "\n",
    "The list represents the shopping cart of a customer.\n",
    "\n",
    "Loop over the list and sell each item in the shop in Leipzig using the method `sell()`."
   ]
  },
  {
   "cell_type": "code",
   "execution_count": 11,
   "metadata": {},
   "outputs": [
    {
     "name": "stdout",
     "output_type": "stream",
     "text": [
      "{'apples': 55, 'tea': 23, 'banana': 50, 'chicken': 17, 'tomatoes': 40}\n",
      "15.87\n"
     ]
    }
   ],
   "source": [
    "shopping_cart_leipzig = [(\"apples\", 5), (\"tea\", 2), (\"chicken\", 3)]\n",
    "\n",
    "### your solution ###\n",
    "\n",
    "for (product, quantity) in shopping_cart_leipzig:\n",
    "    shop_leipzig.sell(product, quantity)\n",
    "\n",
    "print(shop_leipzig.stock)\n",
    "print(shop_leipzig.money)"
   ]
  },
  {
   "cell_type": "code",
   "execution_count": null,
   "metadata": {},
   "outputs": [],
   "source": [
    "### TESTING ###\n",
    "### TESTING ###\n",
    "assert(shop_leipzig.stock[\"apples\"] == 55)\n",
    "assert(shop_leipzig.stock[\"tea\"] == 23)\n",
    "assert(shop_leipzig.stock[\"chicken\"] == 17)\n",
    "assert(shop_leipzig.money == 15.87)"
   ]
  },
  {
   "cell_type": "markdown",
   "metadata": {},
   "source": [
    "### Task 2.5\n",
    "\n",
    "Print how much money both of your shops currently have."
   ]
  },
  {
   "cell_type": "code",
   "execution_count": 13,
   "metadata": {},
   "outputs": [
    {
     "name": "stdout",
     "output_type": "stream",
     "text": [
      "[SHOP BERLIN] 9.44 EUR\n",
      "[SHOP LEIPZIG] 15.87 EUR\n"
     ]
    }
   ],
   "source": [
    "### your solution ###\n",
    "print(f\"[SHOP BERLIN] {shop_berlin.money} EUR\")\n",
    "print(f\"[SHOP LEIPZIG] {shop_leipzig.money} EUR\")"
   ]
  }
 ],
 "metadata": {
  "kernelspec": {
   "display_name": "pythonIIworkshop",
   "language": "python",
   "name": "python3"
  },
  "language_info": {
   "codemirror_mode": {
    "name": "ipython",
    "version": 3
   },
   "file_extension": ".py",
   "mimetype": "text/x-python",
   "name": "python",
   "nbconvert_exporter": "python",
   "pygments_lexer": "ipython3",
   "version": "3.12.0"
  },
  "orig_nbformat": 4
 },
 "nbformat": 4,
 "nbformat_minor": 2
}
