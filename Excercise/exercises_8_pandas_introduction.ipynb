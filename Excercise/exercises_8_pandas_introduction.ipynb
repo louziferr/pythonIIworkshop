{
 "cells": [
  {
   "cell_type": "markdown",
   "metadata": {},
   "source": [
    "### Requirements"
   ]
  },
  {
   "cell_type": "code",
   "execution_count": 2,
   "metadata": {},
   "outputs": [],
   "source": [
    "import pandas as pd\n",
    "\n",
    "import numpy as np "
   ]
  },
  {
   "cell_type": "markdown",
   "metadata": {},
   "source": [
    "## Exercises for lecture 8\n",
    "\n",
    "**Task a)** Create a Pandas Series that consists of the names *Gerty, Rosalyn, Barbara, Rita, Gertrude, Christiane, Linda, Francoise, Elizabeth, Carolyn, May-Britt, Tu.* (you can use a Python list for this)"
   ]
  },
  {
   "cell_type": "code",
   "execution_count": null,
   "metadata": {},
   "outputs": [],
   "source": [
    "# your code"
   ]
  },
  {
   "cell_type": "markdown",
   "metadata": {},
   "source": [
    "**Task b)** Create a Pandas Series that consists of the numbers 1 to 30. (you can use np.arange for this)"
   ]
  },
  {
   "cell_type": "code",
   "execution_count": 34,
   "metadata": {},
   "outputs": [],
   "source": [
    "# your code"
   ]
  },
  {
   "cell_type": "markdown",
   "metadata": {},
   "source": [
    "**Task c)** Create the following table as Pandas DataFrame "
   ]
  },
  {
   "cell_type": "markdown",
   "metadata": {},
   "source": [
    "\n",
    "|  | population |  % of world |  \n",
    "|----------|----------|----------|\n",
    "| China | 1411778724 | \t17.9 |\n",
    "| India | 1378774335 | \t17.5 |\n",
    "| United States | 331927360 | 4.21 |\n",
    "| Indonesia | 271350000 | 3.44 |\n",
    "| Pakistan | 225200000 | 2.86 |\n",
    "\n",
    "*Information taken from:* https://en.wikipedia.org/wiki/List_of_countries_and_dependencies_by_population"
   ]
  },
  {
   "cell_type": "code",
   "execution_count": 33,
   "metadata": {},
   "outputs": [],
   "source": [
    "# your code "
   ]
  },
  {
   "cell_type": "markdown",
   "metadata": {},
   "source": [
    "**Task d)** Regarding the DataFrame of the previous task, check if the values in column \"population\" are correctly saved as integers (data type: int...) and if the values in the column \"% of world\" are correctly saved as floats (data type: float...)."
   ]
  },
  {
   "cell_type": "code",
   "execution_count": 32,
   "metadata": {},
   "outputs": [],
   "source": [
    "# your code"
   ]
  },
  {
   "cell_type": "markdown",
   "metadata": {},
   "source": [
    "**The next tasks will all deal with the given DataFrame *df***\n",
    "\n"
   ]
  },
  {
   "cell_type": "code",
   "execution_count": 30,
   "metadata": {},
   "outputs": [],
   "source": [
    "# make sure to have the same random numbers for every iteration\n",
    "np.random.seed(42)\n",
    "\n",
    "d = np.random.rand(1000,10)\n",
    "c = ['a','b','c','d','e','f','g','h','i','j']\n",
    "\n",
    "df = pd.DataFrame(d, columns=c)"
   ]
  },
  {
   "cell_type": "markdown",
   "metadata": {},
   "source": [
    "**Task e)** Print out the columns *b, e* and *f* from the first 20 rows. You can use a list of labels for indexing columns!"
   ]
  },
  {
   "cell_type": "code",
   "execution_count": 31,
   "metadata": {},
   "outputs": [],
   "source": [
    "# your code"
   ]
  },
  {
   "cell_type": "markdown",
   "metadata": {},
   "source": [
    "**Task f)** Set the values of column *d* in rows with index 10 and 17 to zero."
   ]
  },
  {
   "cell_type": "code",
   "execution_count": 30,
   "metadata": {},
   "outputs": [],
   "source": [
    "# your code"
   ]
  },
  {
   "cell_type": "markdown",
   "metadata": {},
   "source": [
    "**Task g)** Print out all rows whose value in column *d* is less than *0.01*."
   ]
  },
  {
   "cell_type": "code",
   "execution_count": 29,
   "metadata": {},
   "outputs": [],
   "source": [
    "# your code"
   ]
  }
 ],
 "metadata": {
  "kernelspec": {
   "display_name": "Python 3",
   "language": "python",
   "name": "python3"
  },
  "language_info": {
   "codemirror_mode": {
    "name": "ipython",
    "version": 3
   },
   "file_extension": ".py",
   "mimetype": "text/x-python",
   "name": "python",
   "nbconvert_exporter": "python",
   "pygments_lexer": "ipython3",
   "version": "3.8.5"
  }
 },
 "nbformat": 4,
 "nbformat_minor": 4
}
