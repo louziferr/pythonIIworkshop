{
 "cells": [
  {
   "cell_type": "markdown",
   "metadata": {},
   "source": [
    "### Excercise Classes\n",
    "\n",
    "### University System\n",
    "\n",
    "The university system crashed and now you need to re-write the whole code base. First off, we need a system to save each student's information.\n",
    "\n",
    "### 1. Constructor\n",
    "\n",
    "Write a class named 'Student' that saves the following information about each student:\n",
    "\n",
    "- first name\n",
    "- second name\n",
    "- student ID\n",
    "- degree programm\n",
    "- current semester\n",
    "\n",
    "The constructor of the class needs all the above information to create a new instance of 'Student'. Make sure you type-check the parameters!\n",
    "\n",
    "#### Testing\n",
    "\n",
    "Test your constructor by creating a new student.\n",
    "\n",
    "### 2. Pretty print\n",
    "\n",
    "Write the function _ _ str _ _ that pretty-prints all the information of the student.\n",
    "\n",
    "### 3. New Semester\n",
    "\n",
    "Write a function named 'new_semester()' that updates the student's semester (+1) when it is called.\n",
    "\n",
    "#### Testing\n",
    "\n",
    "Test your function by calling it once and checking if the semester was updated."
   ]
  },
  {
   "cell_type": "code",
   "execution_count": null,
   "metadata": {},
   "outputs": [],
   "source": [
    "## Your solution"
   ]
  },
  {
   "cell_type": "markdown",
   "metadata": {},
   "source": [
    "### University System\n",
    "\n",
    "### 1. List of students\n",
    "\n",
    "Now, write a class 'University' that has a list of all current students. The students are of type 'Student'.\n",
    "\n",
    "The constructor of the class takes no arguments. \n",
    "\n",
    "With a function 'new_student(Student)' a new student will be added to the system.\n",
    "\n",
    "Write the function _ _ str _ _ that returns a string with all student names.\n",
    "\n",
    "#### Testing\n",
    "\n",
    "Test your class by creating a new instance and adding three students.\n",
    "\n",
    "### 2. Degree Programm Function\n",
    "\n",
    "Write a function 'programm_students(degree_programm)' that takes a degree programm as an argument and returns a list of all students studying that programm."
   ]
  },
  {
   "cell_type": "code",
   "execution_count": null,
   "metadata": {},
   "outputs": [],
   "source": [
    "## Your solution"
   ]
  }
 ],
 "metadata": {
  "language_info": {
   "name": "python"
  },
  "orig_nbformat": 4
 },
 "nbformat": 4,
 "nbformat_minor": 2
}
