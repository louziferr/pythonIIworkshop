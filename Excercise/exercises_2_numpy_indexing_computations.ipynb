{
 "cells": [
  {
   "cell_type": "markdown",
   "metadata": {},
   "source": [
    "### Requirements"
   ]
  },
  {
   "cell_type": "code",
   "execution_count": null,
   "metadata": {},
   "outputs": [],
   "source": [
    "import numpy as np\n",
    "\n",
    "# the file \"source.py\" should already be in the same folder\n",
    "import source"
   ]
  },
  {
   "cell_type": "markdown",
   "metadata": {},
   "source": [
    "## Exercises for lecture 2\n",
    "\n",
    "In general, try to use numpy arrays instead of loops for the solutions.\n",
    "\n",
    "**Task a)** Create a numpy array with 1000 entries and each entry has the value 10."
   ]
  },
  {
   "cell_type": "code",
   "execution_count": 26,
   "metadata": {},
   "outputs": [],
   "source": [
    "# your code"
   ]
  },
  {
   "cell_type": "markdown",
   "metadata": {},
   "source": [
    "**Task b)** Create two numpy vectors with random values between 0 and 1 (length 40) and add them together."
   ]
  },
  {
   "cell_type": "code",
   "execution_count": 27,
   "metadata": {},
   "outputs": [],
   "source": [
    "# your code"
   ]
  },
  {
   "cell_type": "markdown",
   "metadata": {},
   "source": [
    "**Task c)** Print out the third row vector and the seventh column vector of the given matrix *mat* and add them together."
   ]
  },
  {
   "cell_type": "code",
   "execution_count": 30,
   "metadata": {},
   "outputs": [],
   "source": [
    "import source\n",
    "\n",
    "mat = source.get_hidden_array_5()\n",
    "\n",
    "# your code"
   ]
  },
  {
   "cell_type": "markdown",
   "metadata": {},
   "source": [
    "**Task d)** Implement the following dot product:\n",
    "$$ \n",
    "    \\pmatrix{4 & 3 & 1 & 1} \\cdot \\pmatrix{1 & -5 & 2 & 19 \\\\ -2 & 1 & -3 & -25  \\\\ 2 & 15 & 2 & -2  \\\\ 1 & 3 & 0 & 2 } = \n",
    "$$"
   ]
  },
  {
   "cell_type": "code",
   "execution_count": 31,
   "metadata": {},
   "outputs": [],
   "source": [
    "# your code"
   ]
  },
  {
   "cell_type": "markdown",
   "metadata": {},
   "source": [
    "**Task e)** Implement the following dot product:\n",
    "$$ \n",
    "    \\pmatrix{17 & 18 & 19 & 20 & 21 & 22 & 23 & 24 & 25 } \\cdot \\pmatrix{-47 \\\\ -46 \\\\ -45 \\\\ -44 \\\\ -43 \\\\ -42 \\\\ -41 \\\\ -40 \\\\ -39 } = \n",
    "$$"
   ]
  },
  {
   "cell_type": "code",
   "execution_count": 42,
   "metadata": {},
   "outputs": [],
   "source": [
    "# your code"
   ]
  }
 ],
 "metadata": {
  "kernelspec": {
   "display_name": "Python 3",
   "language": "python",
   "name": "python3"
  },
  "language_info": {
   "codemirror_mode": {
    "name": "ipython",
    "version": 3
   },
   "file_extension": ".py",
   "mimetype": "text/x-python",
   "name": "python",
   "nbconvert_exporter": "python",
   "pygments_lexer": "ipython3",
   "version": "3.8.5"
  }
 },
 "nbformat": 4,
 "nbformat_minor": 4
}
