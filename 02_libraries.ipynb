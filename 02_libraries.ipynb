{
 "cells": [
  {
   "cell_type": "markdown",
   "metadata": {},
   "source": [
    "### Python Libraries\n",
    "\n",
    "#### Standard Library:\n",
    "\n",
    "https://docs.python.org/3/library/index.html\n",
    "\n",
    "\n",
    "#### System Library:\n",
    "\n",
    "https://docs.python.org/3/library/sys.html\n",
    "\n",
    "sys.argv\n",
    "\n",
    "The list of command line arguments passed to a Python script. argv[0] is the script name (it is operating system dependent whether this is a full pathname or not). If the command was executed using the -c command line option to the interpreter, argv[0] is set to the string '-c'. If no script name was passed to the Python interpreter, argv[0] is the empty string."
   ]
  },
  {
   "cell_type": "code",
   "execution_count": 4,
   "metadata": {},
   "outputs": [
    {
     "name": "stdout",
     "output_type": "stream",
     "text": [
      "['/Users/luzieahrens/opt/anaconda3/envs/electroacoustics/lib/python3.11/site-packages/ipykernel_launcher.py', '--ip=127.0.0.1', '--stdin=9008', '--control=9006', '--hb=9005', '--Session.signature_scheme=\"hmac-sha256\"', '--Session.key=b\"d4f6cd55-9001-43d4-8c9e-18393bec9cfc\"', '--shell=9007', '--transport=\"tcp\"', '--iopub=9009', '--f=/Users/luzieahrens/Library/Jupyter/runtime/kernel-v2-97445X0B23D1QAgmj.json']\n",
      "/Users/luzieahrens/opt/anaconda3/envs/electroacoustics/lib/python3.11/site-packages/ipykernel_launcher.py\n"
     ]
    }
   ],
   "source": [
    "import sys\n",
    "\n",
    "print(sys.argv)\n",
    "\n",
    "print(sys.argv[0])"
   ]
  },
  {
   "cell_type": "markdown",
   "metadata": {},
   "source": [
    "#### OS Library\n",
    "\n",
    "https://docs.python.org/3/library/os.html\n",
    "\n",
    "This module provides a portable way of using operating system dependent functionality."
   ]
  },
  {
   "cell_type": "code",
   "execution_count": 9,
   "metadata": {},
   "outputs": [
    {
     "name": "stdout",
     "output_type": "stream",
     "text": [
      "posix\n",
      "environ({'COMMAND_MODE': 'unix2003', 'CONDA_DEFAULT_ENV': 'electroacoustics', 'CONDA_EXE': '/Users/luzieahrens/opt/anaconda3/bin/conda', 'CONDA_PREFIX': '/Users/luzieahrens/opt/anaconda3/envs/electroacoustics', 'CONDA_PROMPT_MODIFIER': '(electroacoustics) ', 'CONDA_PYTHON_EXE': '/Users/luzieahrens/opt/anaconda3/bin/python', 'CONDA_SHLVL': '2', 'HOME': '/Users/luzieahrens', 'LOGNAME': 'luzieahrens', 'MallocNanoZone': '0', 'OLDPWD': '/', 'ORIGINAL_XDG_CURRENT_DESKTOP': 'undefined', 'PATH': '/Users/luzieahrens/opt/anaconda3/envs/electroacoustics/bin:/Users/luzieahrens/opt/anaconda3/condabin:/Library/Frameworks/Python.framework/Versions/3.10/bin:/usr/local/bin:/System/Cryptexes/App/usr/bin:/usr/bin:/bin:/usr/sbin:/sbin:/usr/local/go/bin:/Library/Apple/usr/bin:/var/run/com.apple.security.cryptexd/codex.system/bootstrap/usr/local/bin:/var/run/com.apple.security.cryptexd/codex.system/bootstrap/usr/bin:/var/run/com.apple.security.cryptexd/codex.system/bootstrap/usr/appleinternal/bin', 'PWD': '/', 'SHELL': '/bin/zsh', 'SHLVL': '2', 'SSH_AUTH_SOCK': '/private/tmp/com.apple.launchd.jsBlryGbAt/Listeners', 'TMPDIR': '/var/folders/16/s58qb7kx2m7dws7gdyrzfw7w0000gn/T/', 'USER': 'luzieahrens', 'VSCODE_AMD_ENTRYPOINT': 'vs/workbench/api/node/extensionHostProcess', 'VSCODE_CODE_CACHE_PATH': '/Users/luzieahrens/Library/Application Support/Code/CachedData/6c3e3dba23e8fadc360aed75ce363ba185c49794', 'VSCODE_CRASH_REPORTER_PROCESS_TYPE': 'extensionHost', 'VSCODE_CWD': '/', 'VSCODE_HANDLES_UNCAUGHT_ERRORS': 'true', 'VSCODE_IPC_HOOK': '/Users/luzieahrens/Library/Application Support/Code/1.81-main.sock', 'VSCODE_NLS_CONFIG': '{\"locale\":\"en-gb\",\"osLocale\":\"en-de\",\"availableLanguages\":{},\"_languagePackSupport\":true}', 'VSCODE_PID': '93200', 'XPC_FLAGS': '0x0', 'XPC_SERVICE_NAME': '0', '_': '/Users/luzieahrens/opt/anaconda3/envs/electroacoustics/bin/python', '__CFBundleIdentifier': 'com.microsoft.VSCode', '__CF_USER_TEXT_ENCODING': '0x1F5:0x0:0x0', 'ELECTRON_RUN_AS_NODE': '1', 'VSCODE_L10N_BUNDLE_LOCATION': '', 'PYTHONUNBUFFERED': '1', 'PYTHONIOENCODING': 'utf-8', '_CE_CONDA': '', 'CONDA_PREFIX_1': '/Users/luzieahrens/opt/anaconda3', 'CONDA_ROOT': '/Users/luzieahrens/opt/anaconda3', '_CE_M': '', 'LC_CTYPE': 'UTF-8', 'PYDEVD_IPYTHON_COMPATIBLE_DEBUGGING': '1', 'PYDEVD_USE_FRAME_EVAL': 'NO', 'TERM': 'xterm-color', 'CLICOLOR': '1', 'FORCE_COLOR': '1', 'CLICOLOR_FORCE': '1', 'PAGER': 'cat', 'GIT_PAGER': 'cat', 'MPLBACKEND': 'module://matplotlib_inline.backend_inline'})\n",
      "/Users/luzieahrens/MA_AKT/proScience/PythonII\n"
     ]
    }
   ],
   "source": [
    "import os\n",
    "\n",
    "print(os.name)\n",
    "\n",
    "print(os.environ)\n",
    "\n",
    "print(os.getcwd())"
   ]
  },
  {
   "cell_type": "markdown",
   "metadata": {},
   "source": [
    "## Your Turn\n",
    "\n",
    "Get together in groups and gather information about one of the following libraries:\n",
    "\n",
    "1. NumPy\n",
    "2. Pandas\n",
    "3. PyTorch\n",
    "4. Scikit Learn\n",
    "5. Tensor Flow\n",
    "6. Flask\n",
    "\n",
    "### Or any other library you are interested in!\n"
   ]
  }
 ],
 "metadata": {
  "kernelspec": {
   "display_name": "electroacoustics",
   "language": "python",
   "name": "python3"
  },
  "language_info": {
   "codemirror_mode": {
    "name": "ipython",
    "version": 3
   },
   "file_extension": ".py",
   "mimetype": "text/x-python",
   "name": "python",
   "nbconvert_exporter": "python",
   "pygments_lexer": "ipython3",
   "version": "3.11.3"
  },
  "orig_nbformat": 4
 },
 "nbformat": 4,
 "nbformat_minor": 2
}
